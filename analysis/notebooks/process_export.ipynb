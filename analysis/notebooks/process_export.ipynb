{
 "cells": [
  {
   "cell_type": "code",
   "execution_count": 1,
   "metadata": {},
   "outputs": [],
   "source": [
    "import numpy as np\n",
    "import os\n",
    "import glob\n",
    "from astropy.io import fits\n",
    "from astropy.table import Table, unique, Column, vstack\n",
    "import matplotlib.pyplot as plt\n",
    "from utils import *"
   ]
  },
  {
   "cell_type": "markdown",
   "metadata": {},
   "source": [
    "#### Open DR12Q superset, DR12 spall and DR14 spall"
   ]
  },
  {
   "cell_type": "code",
   "execution_count": 2,
   "metadata": {},
   "outputs": [],
   "source": [
    "f_sdr12q = '/global/projecta/projectdirs/sdss/data/sdss/dr12/boss/qso/DR12Q/Superset_DR12Q.fits'\n",
    "sdr12q = fits.open(f_sdr12q)"
   ]
  },
  {
   "cell_type": "code",
   "execution_count": 3,
   "metadata": {},
   "outputs": [],
   "source": [
    "f_spall_dr12 = '/global/projecta/projectdirs/sdss/data/sdss/dr12/boss/spectro/redux/spAll-DR12.fits'\n",
    "spall_dr12 = fits.open(f_spall_dr12)"
   ]
  },
  {
   "cell_type": "code",
   "execution_count": 4,
   "metadata": {},
   "outputs": [],
   "source": [
    "f_spall_dr14 = '/global/projecta/projectdirs/sdss/data/sdss/dr15/eboss/spectro/redux/v5_10_0/spAll-v5_10_0.fits'\n",
    "spall_dr14 = fits.open(f_spall_dr14)"
   ]
  },
  {
   "cell_type": "markdown",
   "metadata": {},
   "source": [
    "### Construct dictionaries mapping (p,m,f) to tid for both DRs"
   ]
  },
  {
   "cell_type": "code",
   "execution_count": 5,
   "metadata": {},
   "outputs": [],
   "source": [
    "plate = spall_dr12[1].data[\"PLATE\"]\n",
    "mjd = spall_dr12[1].data[\"MJD\"]\n",
    "fid = spall_dr12[1].data[\"FIBERID\"]\n",
    "tid = spall_dr12[1].data[\"THING_ID\"].astype(int)\n",
    "\n",
    "pmf2tid_dr12 = {(p,m,f):t for p,m,f,t in zip(plate,mjd,fid,tid)}"
   ]
  },
  {
   "cell_type": "code",
   "execution_count": null,
   "metadata": {},
   "outputs": [],
   "source": [
    "plate = spall_dr14[1].data[\"PLATE\"]\n",
    "mjd = spall_dr14[1].data[\"MJD\"]\n",
    "fid = spall_dr14[1].data[\"FIBERID\"]\n",
    "tid = spall_dr14[1].data[\"THING_ID\"].astype(int)\n",
    "\n",
    "pmf2tid_dr14 = {(p,m,f):t for p,m,f,t in zip(plate,mjd,fid,tid)}"
   ]
  },
  {
   "cell_type": "markdown",
   "metadata": {},
   "source": [
    "#### Convert to a TID_DR12 -> TID_DR14 dictionary"
   ]
  },
  {
   "cell_type": "code",
   "execution_count": 7,
   "metadata": {},
   "outputs": [],
   "source": [
    "boss2eboss = {pmf2tid_dr12[k]:pmf2tid_dr14[k] for k in pmf2tid_dr12.keys()}\n",
    "eboss2boss = {pmf2tid_dr14[k]:pmf2tid_dr12[k] for k in pmf2tid_dr12.keys()}"
   ]
  },
  {
   "cell_type": "code",
   "execution_count": 8,
   "metadata": {},
   "outputs": [],
   "source": [
    "tid_dr12 = np.array(list(boss2eboss.keys())).astype('int')\n",
    "tid_dr14 = np.array(list(boss2eboss.values())).astype('int')"
   ]
  },
  {
   "cell_type": "markdown",
   "metadata": {},
   "source": [
    "## Create a linked redux directory with targetid lists\n",
    "I.e. replicate the BOSS redux directory structure with a directory per plate. Inside each directory is a link to the each of the DR12 spPlate files for that plate. This is only carried out for plates that have contain at least one QSO target.\n",
    "\n",
    "Alongside these links are text files containing a list of targetids for that plate.\n",
    "\n",
    "Also has the option to split data into several groups, in order to fit jobs into the debug queue (wrap-redrock takes a redux directory as an input rather than a list of spPlate files, so separate wrap-redrock runs need separate replicated redux directories)."
   ]
  },
  {
   "cell_type": "code",
   "execution_count": 37,
   "metadata": {},
   "outputs": [],
   "source": [
    "# List of spplate files that we want to replicate. \n",
    "# NOTE: the same plate should not be listed more than once.\n",
    "spplate_paths = glob.glob('/global/projecta/projectdirs/sdss/data/sdss/dr12/boss/spectro/redux/v5_7_?/*/spPlate*.fits')\n",
    "\n",
    "# Set where the new redux replica will be stored.\n",
    "new_redux_dir_base = '/global/cfs/projectdirs/desi/users/jfarr/BOSS_DR12_redux_replica_split/'\n",
    "nsplits = 10\n",
    "\n",
    "\n",
    "# Get a list of old redux dirs\n",
    "old_redux_dirs = list(set([path.]))\n",
    "\n",
    "# Make split dirs\n",
    "split_dirs = [new_redux_dir_base+'/split_{}'.format(i) for i in range(nsplits)]\n",
    "\n",
    "# Make replica redux dir if it doesn't exist already.\n",
    "if not os.path.isdir(new_redux_dir_base):\n",
    "    os.mkdir(new_redux_dir_base)\n",
    "    \n",
    "# Make split dirs if they don't exist already.\n",
    "for split_dir in split_dirs:\n",
    "    if not os.path.isdir(split_dir):\n",
    "        os.mkdir(split_dir)"
   ]
  },
  {
   "cell_type": "code",
   "execution_count": 1,
   "metadata": {},
   "outputs": [
    {
     "ename": "NameError",
     "evalue": "name 'np' is not defined",
     "output_type": "error",
     "traceback": [
      "\u001b[0;31m---------------------------------------------------------------------------\u001b[0m",
      "\u001b[0;31mNameError\u001b[0m                                 Traceback (most recent call last)",
      "\u001b[0;32m<ipython-input-1-183815be2e17>\u001b[0m in \u001b[0;36m<module>\u001b[0;34m\u001b[0m\n\u001b[1;32m      1\u001b[0m \u001b[0;31m## Get the list of targetids for the objects in the superset.\u001b[0m\u001b[0;34m\u001b[0m\u001b[0;34m\u001b[0m\u001b[0;34m\u001b[0m\u001b[0m\n\u001b[0;32m----> 2\u001b[0;31m \u001b[0mwqso\u001b[0m \u001b[0;34m=\u001b[0m \u001b[0mnp\u001b[0m\u001b[0;34m.\u001b[0m\u001b[0min1d\u001b[0m\u001b[0;34m(\u001b[0m\u001b[0mspall_dr12\u001b[0m\u001b[0;34m[\u001b[0m\u001b[0;36m1\u001b[0m\u001b[0;34m]\u001b[0m\u001b[0;34m.\u001b[0m\u001b[0mdata\u001b[0m\u001b[0;34m[\u001b[0m\u001b[0;34m\"THING_ID\"\u001b[0m\u001b[0;34m]\u001b[0m\u001b[0;34m,\u001b[0m \u001b[0msdr12q\u001b[0m\u001b[0;34m[\u001b[0m\u001b[0;36m1\u001b[0m\u001b[0;34m]\u001b[0m\u001b[0;34m.\u001b[0m\u001b[0mdata\u001b[0m\u001b[0;34m[\u001b[0m\u001b[0;34m\"THING_ID\"\u001b[0m\u001b[0;34m]\u001b[0m\u001b[0;34m)\u001b[0m \u001b[0;34m&\u001b[0m \u001b[0;34m(\u001b[0m\u001b[0mspall_dr12\u001b[0m\u001b[0;34m[\u001b[0m\u001b[0;36m1\u001b[0m\u001b[0;34m]\u001b[0m\u001b[0;34m.\u001b[0m\u001b[0mdata\u001b[0m\u001b[0;34m[\u001b[0m\u001b[0;34m\"THING_ID\"\u001b[0m\u001b[0;34m]\u001b[0m\u001b[0;34m>\u001b[0m\u001b[0;36m0\u001b[0m\u001b[0;34m)\u001b[0m\u001b[0;34m\u001b[0m\u001b[0;34m\u001b[0m\u001b[0m\n\u001b[0m\u001b[1;32m      3\u001b[0m \u001b[0mplates\u001b[0m \u001b[0;34m=\u001b[0m \u001b[0mspall_dr12\u001b[0m\u001b[0;34m[\u001b[0m\u001b[0;36m1\u001b[0m\u001b[0;34m]\u001b[0m\u001b[0;34m.\u001b[0m\u001b[0mdata\u001b[0m\u001b[0;34m[\u001b[0m\u001b[0;34m'PLATE'\u001b[0m\u001b[0;34m]\u001b[0m\u001b[0;34m[\u001b[0m\u001b[0mwqso\u001b[0m\u001b[0;34m]\u001b[0m\u001b[0;34m.\u001b[0m\u001b[0mastype\u001b[0m\u001b[0;34m(\u001b[0m\u001b[0;34m'i8'\u001b[0m\u001b[0;34m)\u001b[0m\u001b[0;34m\u001b[0m\u001b[0;34m\u001b[0m\u001b[0m\n\u001b[1;32m      4\u001b[0m \u001b[0mmjds\u001b[0m \u001b[0;34m=\u001b[0m \u001b[0mspall_dr12\u001b[0m\u001b[0;34m[\u001b[0m\u001b[0;36m1\u001b[0m\u001b[0;34m]\u001b[0m\u001b[0;34m.\u001b[0m\u001b[0mdata\u001b[0m\u001b[0;34m[\u001b[0m\u001b[0;34m'MJD'\u001b[0m\u001b[0;34m]\u001b[0m\u001b[0;34m[\u001b[0m\u001b[0mwqso\u001b[0m\u001b[0;34m]\u001b[0m\u001b[0;34m.\u001b[0m\u001b[0mastype\u001b[0m\u001b[0;34m(\u001b[0m\u001b[0;34m'i8'\u001b[0m\u001b[0;34m)\u001b[0m\u001b[0;34m\u001b[0m\u001b[0;34m\u001b[0m\u001b[0m\n\u001b[1;32m      5\u001b[0m \u001b[0mfiberids\u001b[0m \u001b[0;34m=\u001b[0m \u001b[0mspall_dr12\u001b[0m\u001b[0;34m[\u001b[0m\u001b[0;36m1\u001b[0m\u001b[0;34m]\u001b[0m\u001b[0;34m.\u001b[0m\u001b[0mdata\u001b[0m\u001b[0;34m[\u001b[0m\u001b[0;34m'FIBERID'\u001b[0m\u001b[0;34m]\u001b[0m\u001b[0;34m[\u001b[0m\u001b[0mwqso\u001b[0m\u001b[0;34m]\u001b[0m\u001b[0;34m.\u001b[0m\u001b[0mastype\u001b[0m\u001b[0;34m(\u001b[0m\u001b[0;34m'i8'\u001b[0m\u001b[0;34m)\u001b[0m\u001b[0;34m\u001b[0m\u001b[0;34m\u001b[0m\u001b[0m\n",
      "\u001b[0;31mNameError\u001b[0m: name 'np' is not defined"
     ]
    }
   ],
   "source": [
    "## Get the list of targetids for the objects in the superset.\n",
    "wqso = np.in1d(spall_dr12[1].data[\"THING_ID\"], sdr12q[1].data[\"THING_ID\"]) & (spall_dr12[1].data[\"THING_ID\"]>0)\n",
    "plates = spall_dr12[1].data['PLATE'][wqso].astype('i8')\n",
    "mjds = spall_dr12[1].data['MJD'][wqso].astype('i8')\n",
    "fiberids = spall_dr12[1].data['FIBERID'][wqso].astype('i8')\n",
    "targetids = platemjdfiber2targetid(plates,mjds,fiberids)\n",
    "len(targetids)"
   ]
  },
  {
   "cell_type": "code",
   "execution_count": 39,
   "metadata": {},
   "outputs": [],
   "source": [
    "# Get a list of unique plate-mjd pairs in the superset.\n",
    "pm_set = set([(p,m) for p,m in zip(plates,mjds)])\n",
    "\n",
    "# Check that each plate-mjd pair appears once and only once in the list of spPlates.\n",
    "spplate_names = np.array([f.split('/')[-1] for f in spplate_paths])\n",
    "for (p,m) in pm_set:\n",
    "    name = 'spPlate-{}-{}.fits'.format(p,m)\n",
    "    w = np.in1d(spplate_names,name)\n",
    "    if w.sum()==0:\n",
    "        print(name,'not found')\n",
    "    elif w.sum()>1:\n",
    "        print(name,'duplicated:')\n",
    "        print(spplate_names[w])\n",
    "        "
   ]
  },
  {
   "cell_type": "code",
   "execution_count": 40,
   "metadata": {},
   "outputs": [],
   "source": [
    "# Divide the plates up into roughly even splits (making sure that spPlates from the same plate are in the same split).\n",
    "plate_set = np.array(list(set(plates)))\n",
    "sorted_plates = np.sort(plates)\n",
    "plate_set.sort()\n",
    "inds = np.array([np.argmax(np.in1d(plate_set,p)) for p in sorted_plates])\n",
    "plate_splits = np.floor(nsplits*inds/(inds[-1]+1)).astype(int)\n",
    "splits = {sorted_plates[i]:plate_splits[i] for i in range(len(sorted_plates))}"
   ]
  },
  {
   "cell_type": "code",
   "execution_count": 41,
   "metadata": {},
   "outputs": [
    {
     "name": "stdout",
     "output_type": "stream",
     "text": [
      "2493\n"
     ]
    }
   ],
   "source": [
    "## FOR NOW, RESTRICT THE NUMBER OF PLATES\n",
    "#plate_mod_100_vals = [35]\n",
    "#pm_set = set([(pm[0],pm[1]) for pm in pm_set if (pm[0]//100 in plate_mod_100_vals)])\n",
    "\n",
    "print(len(pm_set))\n",
    "\n",
    "## For each plate, make a directory.\n",
    "for p in plates:\n",
    "    split = splits[p]\n",
    "    plate_dir = split_dirs[split]+'/{}'.format(p)\n",
    "    if not os.path.isdir(plate_dir):\n",
    "        os.mkdir(plate_dir)"
   ]
  },
  {
   "cell_type": "code",
   "execution_count": 44,
   "metadata": {},
   "outputs": [
    {
     "name": "stdout",
     "output_type": "stream",
     "text": [
      "Making targetid lists and spPlate/spCFrame replicas: 100.00%\n"
     ]
    },
    {
     "data": {
      "text/plain": [
       "\"\\n## For each plate:\\nfor i,p in enumerate(plates):\\n    \\n    split = splits[p]\\n    dirname = split_dirs[split]+'/{}'.format(p)\\n    \\n    ## For each redux dir:\\n    for old_redux_dir in old_redux_dirs:\\n        \\n        ## Find all spCFrame files.\\n        spcframes = glob.glob(old_redux_dir+'/{}/spCFrame*.fits'.format(p))\\n        for spcframe in spcframes:\\n\\n            ## Make symbolic links to all spCFrame files from the old redux dir.\\n            src = spcframe\\n            spcframe_file = spcframe.split('/')[-1]\\n            dst = dirname+'/'.format(p)+spcframe_file\\n            os.symlink(src, dst)\\n\\n    print('Making spCFrame links: {:.2%}'.format((i+1)/len(plates)),end='\\r')\\n\\nprint('')\""
      ]
     },
     "execution_count": 44,
     "metadata": {},
     "output_type": "execute_result"
    }
   ],
   "source": [
    "## For each unique plate-mjd pair:\n",
    "ntargets = {}\n",
    "for i,(p,m) in enumerate(pm_set):\n",
    "    \n",
    "    ## Find which targetids correspond to that pair.\n",
    "    w = (targetids//10000)==(platemjdfiber2targetid(p,m,0)//10000)\n",
    "    pm_targetids = targetids[w]\n",
    "    split = splits[p]\n",
    "    dirname = split_dirs[split]+'/{}'.format(p)\n",
    "\n",
    "    ## Write a txt file containing these targetids.\n",
    "    with open(dirname+'/targetids-{}-{}.txt'.format(p,m),'w') as text_file:\n",
    "        for t in pm_targetids[:-1]:\n",
    "            text_file.write('{},'.format(t))\n",
    "        text_file.write('{}'.format(pm_targetids[-1]))\n",
    "\n",
    "    ntargets[(p,m)] = w.sum()\n",
    "    \n",
    "    print('Making targetid lists: {:.2%}'.format((i+1)/len(pm_set)),end='\\r')\n",
    "   \n",
    "ntotal\n",
    "\n",
    "        \n",
    "    ## Make a symbolic link to the spPlate file from the old redux dir.\n",
    "    name = 'spPlate-{}-{}.fits'.format(p,m)\n",
    "    ind = np.argmax(np.in1d(spplate_names,name))\n",
    "    src = spplate_paths[ind]\n",
    "    dst = dirname+'/'.format(p)+name\n",
    "    if not os.path.isfile(dst):\n",
    "        os.symlink(src, dst)\n",
    "\n",
    "    ## \n",
    "    src_dir = os.path.dirname(src)\n",
    "    spcframes = glob.glob(src_dir+'/spCFrame*.fits')\n",
    "    for spcframe in spcframes:\n",
    "\n",
    "        ## Make symbolic links to all spCFrame files from the old redux dir (if they don't already exist).\n",
    "        src = spcframe\n",
    "        spcframe_file = spcframe.split('/')[-1]\n",
    "        dst = dirname+'/'+spcframe_file\n",
    "        if not os.path.isfile(dst):\n",
    "            os.symlink(src, dst)\n",
    "\n",
    "    \n",
    "    print('Making targetid lists and spPlate/spCFrame replicas: {:.2%}'.format((i+1)/len(pm_set)),end='\\r')\n",
    "    \n",
    "print('')\n",
    "\"\"\"\n",
    "## For each plate:\n",
    "for i,p in enumerate(plates):\n",
    "    \n",
    "    split = splits[p]\n",
    "    dirname = split_dirs[split]+'/{}'.format(p)\n",
    "    \n",
    "    ## For each redux dir:\n",
    "    for old_redux_dir in old_redux_dirs:\n",
    "        \n",
    "        ## Find all spCFrame files.\n",
    "        spcframes = glob.glob(old_redux_dir+'/{}/spCFrame*.fits'.format(p))\n",
    "        for spcframe in spcframes:\n",
    "\n",
    "            ## Make symbolic links to all spCFrame files from the old redux dir.\n",
    "            src = spcframe\n",
    "            spcframe_file = spcframe.split('/')[-1]\n",
    "            dst = dirname+'/'.format(p)+spcframe_file\n",
    "            os.symlink(src, dst)\n",
    "\n",
    "    print('Making spCFrame links: {:.2%}'.format((i+1)/len(plates)),end='\\r')\n",
    "\n",
    "print('')\"\"\""
   ]
  },
  {
   "cell_type": "markdown",
   "metadata": {},
   "source": [
    "### Merge the separate zbest files from redrock into a single file."
   ]
  },
  {
   "cell_type": "code",
   "execution_count": 43,
   "metadata": {},
   "outputs": [
    {
     "name": "stdout",
     "output_type": "stream",
     "text": [
      "WARN: ../results/rr_results/rr_sdr12q_ngpbestexp.fits already exists, continuing will overwrite!\n",
      "2491\n"
     ]
    }
   ],
   "source": [
    "#rrdir = '/global/cfs/projectdirs/desi/users/jfarr/rrboss_dr12/runs/rr_v5_7_0/output/'\n",
    "rrdir = '/global/cfs/projectdirs/desi/users/jfarr/rrboss_dr12/runs/rr_v5_7_0_ngpbestexp/output/'\n",
    "f_out = '../results/rr_results/rr_sdr12q_ngpbestexp.fits'\n",
    "\n",
    "if os.path.isfile(f_out):\n",
    "    print('WARN: {} already exists, continuing will overwrite!'.format(f_out))\n",
    "fi = glob.glob(rrdir+'/zbest*.fits')\n",
    "print(len(fi))"
   ]
  },
  {
   "cell_type": "code",
   "execution_count": 44,
   "metadata": {},
   "outputs": [
    {
     "name": "stdout",
     "output_type": "stream",
     "text": [
      "Stacking zbest files: 100.00%\n",
      "626180\n"
     ]
    },
    {
     "data": {
      "text/html": [
       "&lt;Table length=5&gt;\n",
       "<table id=\"table46924023463160\" class=\"table-striped table-bordered table-condensed\">\n",
       "<thead><tr><th>TARGETID</th><th>CHI2</th><th>COEFF [10]</th><th>Z</th><th>ZERR</th><th>ZWARN</th><th>NPIXELS</th><th>SPECTYPE</th><th>SUBTYPE</th><th>NCOEFF</th><th>DELTACHI2</th><th>BRICKNAME</th></tr></thead>\n",
       "<thead><tr><th>int64</th><th>float64</th><th>float64</th><th>float64</th><th>float64</th><th>int64</th><th>int64</th><th>str6</th><th>str20</th><th>int64</th><th>float64</th><th>str8</th></tr></thead>\n",
       "<tr><td>5021558630008</td><td>5637.105290252077</td><td>619.9783395824397 .. -19.25324332576535</td><td>-0.0024040552829318845</td><td>5.382775911979286e-05</td><td>4</td><td>4464</td><td>GALAXY</td><td></td><td>10</td><td>3.0502007572777075</td><td>5021-558</td></tr>\n",
       "<tr><td>5021558630009</td><td>6346.725192405283</td><td>0.0006964414537047506 .. 0.0</td><td>2.643902100086551</td><td>0.000623107033922408</td><td>0</td><td>4465</td><td>QSO</td><td></td><td>4</td><td>2440.7694388777018</td><td>5021-558</td></tr>\n",
       "<tr><td>5021558630010</td><td>7074.323110103607</td><td>95.77655068719827 .. -18.4433129809068</td><td>0.8094012310229814</td><td>2.6151080954427597e-05</td><td>0</td><td>4464</td><td>GALAXY</td><td></td><td>10</td><td>32.89646768569946</td><td>5021-558</td></tr>\n",
       "<tr><td>5021558630018</td><td>5655.046499311924</td><td>144.81654648756842 .. -24.626981379113683</td><td>1.0017471952358377</td><td>0.00010624680632263176</td><td>4</td><td>4456</td><td>GALAXY</td><td></td><td>10</td><td>8.60011076927185</td><td>5021-558</td></tr>\n",
       "<tr><td>5021558630022</td><td>6421.440160036087</td><td>15.582814296873796 .. -77.84759608253826</td><td>0.695642163830707</td><td>3.128383934292232e-05</td><td>0</td><td>4423</td><td>GALAXY</td><td></td><td>10</td><td>53.41812264919281</td><td>5021-558</td></tr>\n",
       "</table>"
      ],
      "text/plain": [
       "<Table length=5>\n",
       "   TARGETID          CHI2       ...     DELTACHI2      BRICKNAME\n",
       "    int64          float64      ...      float64          str8  \n",
       "------------- ----------------- ... ------------------ ---------\n",
       "5021558630008 5637.105290252077 ... 3.0502007572777075  5021-558\n",
       "5021558630009 6346.725192405283 ... 2440.7694388777018  5021-558\n",
       "5021558630010 7074.323110103607 ...  32.89646768569946  5021-558\n",
       "5021558630018 5655.046499311924 ...   8.60011076927185  5021-558\n",
       "5021558630022 6421.440160036087 ...  53.41812264919281  5021-558"
      ]
     },
     "execution_count": 44,
     "metadata": {},
     "output_type": "execute_result"
    }
   ],
   "source": [
    "## Concatenate output from all zbest files.\n",
    "rr = fits.open(fi[0])\n",
    "rr_data = Table(rr[1].data)\n",
    "rr.close()\n",
    "if len(fi)>1:\n",
    "    for i,f in enumerate(fi[1:]):\n",
    "        rr = fits.open(f)\n",
    "        f_rr_data = Table(rr[1].data)\n",
    "        rr_data = vstack([rr_data,f_rr_data])\n",
    "        rr.close()\n",
    "        print('Stacking zbest files: {:.2%}'.format((i+2)/len(fi)),end='\\r')\n",
    "print('')\n",
    "print(len(rr_data))\n",
    "rr_data[:5]"
   ]
  },
  {
   "cell_type": "code",
   "execution_count": 45,
   "metadata": {},
   "outputs": [],
   "source": [
    "## Make sure that we only have objects that are in sdr12q.\n",
    "plate,mjd,fiber = targetid2platemjdfiber(rr_data['TARGETID'])\n",
    "pmf_rr = list(zip(plate,mjd,fiber))"
   ]
  },
  {
   "cell_type": "code",
   "execution_count": 46,
   "metadata": {},
   "outputs": [],
   "source": [
    "pmf_sdr12q = list(zip(sdr12q[1].data['PLATE'],sdr12q[1].data['MJD'],sdr12q[1].data['FIBERID']))\n",
    "wqso = np.in1d(spall_dr12[1].data[\"THING_ID\"], sdr12q[1].data[\"THING_ID\"]) & (spall_dr12[1].data[\"THING_ID\"]>0)\n",
    "plates = spall_dr12[1].data['PLATE'][wqso].astype('i8')\n",
    "mjds = spall_dr12[1].data['MJD'][wqso].astype('i8')\n",
    "fiberids = spall_dr12[1].data['FIBERID'][wqso].astype('i8')\n",
    "targetid_sdr12q = platemjdfiber2targetid(plates,mjds,fiberids)"
   ]
  },
  {
   "cell_type": "code",
   "execution_count": 47,
   "metadata": {},
   "outputs": [
    {
     "name": "stdout",
     "output_type": "stream",
     "text": [
      "626180 626180\n",
      "626180 627751\n"
     ]
    }
   ],
   "source": [
    "w = np.in1d(rr_data['TARGETID'],targetid_sdr12q)\n",
    "print(w.sum(),len(w))\n",
    "w = np.in1d(targetid_sdr12q,rr_data['TARGETID'])\n",
    "print(w.sum(),len(w))"
   ]
  },
  {
   "cell_type": "code",
   "execution_count": 48,
   "metadata": {},
   "outputs": [],
   "source": [
    "targetid_sdr12q = targetid_sdr12q[w]"
   ]
  },
  {
   "cell_type": "code",
   "execution_count": 49,
   "metadata": {},
   "outputs": [],
   "source": [
    "rr_data.sort(['TARGETID'])\n",
    "targetid_sdr12q.sort()"
   ]
  },
  {
   "cell_type": "code",
   "execution_count": 50,
   "metadata": {},
   "outputs": [],
   "source": [
    "assert (rr_data['TARGETID'].data==targetid_sdr12q).all()"
   ]
  },
  {
   "cell_type": "code",
   "execution_count": 51,
   "metadata": {},
   "outputs": [],
   "source": [
    "plate,mjd,fiber = targetid2platemjdfiber(rr_data['TARGETID'])\n",
    "platemjdfiber = list(zip(plate,mjd,fiber))"
   ]
  },
  {
   "cell_type": "code",
   "execution_count": 52,
   "metadata": {},
   "outputs": [],
   "source": [
    "rr_thing_id_dr12 = [pmf2tid_dr12[pmf] for pmf in platemjdfiber]"
   ]
  },
  {
   "cell_type": "code",
   "execution_count": 53,
   "metadata": {},
   "outputs": [],
   "source": [
    "rr_data.add_column(Column(data=rr_thing_id_dr12,name='THING_ID_DR12',dtype='i8'))"
   ]
  },
  {
   "cell_type": "code",
   "execution_count": 54,
   "metadata": {},
   "outputs": [],
   "source": [
    "rr_data.write(f_out,overwrite=True)"
   ]
  },
  {
   "cell_type": "markdown",
   "metadata": {},
   "source": [
    "#### Open the redrock results (from v5_10_0), convert to DR12 TIDs and restrict to DR12Q superset objects"
   ]
  },
  {
   "cell_type": "code",
   "execution_count": 27,
   "metadata": {},
   "outputs": [],
   "source": [
    "f_rr = '/project/projectdirs/desi/users/nbusca/QuasarNET/data/zbest_redrock_v5_10_0.fits'\n",
    "#f_rr = '/project/projectdirs/desi/users/jfarr/rrboss_dr12/zbest/5786/zbestrr-5786-56251.fits'\n",
    "rr = fits.open(f_rr)"
   ]
  },
  {
   "cell_type": "code",
   "execution_count": 28,
   "metadata": {},
   "outputs": [],
   "source": [
    "def targetid2platemjdfiber(targetid):\n",
    "    fiber = targetid % 10000\n",
    "    mjd = (targetid // 10000) % 100000\n",
    "    plate = (targetid // (10000 * 100000))\n",
    "    return (plate, mjd, fiber)"
   ]
  },
  {
   "cell_type": "code",
   "execution_count": 29,
   "metadata": {},
   "outputs": [],
   "source": [
    "def platemjdfiber2targetid(plate, mjd, fiber):\n",
    "    return plate*1000000000 + mjd*10000 + fiber"
   ]
  },
  {
   "cell_type": "code",
   "execution_count": 30,
   "metadata": {},
   "outputs": [],
   "source": [
    "plate,mjd,fiber = targetid2platemjdfiber(rr[1].data['TARGETID'])\n",
    "pmf_rr = list(zip(plate,mjd,fiber))"
   ]
  },
  {
   "cell_type": "code",
   "execution_count": 31,
   "metadata": {},
   "outputs": [],
   "source": [
    "pmf_sdr12q = list(zip(sdr12q[1].data['PLATE'],sdr12q[1].data['MJD'],sdr12q[1].data['FIBERID']))\n",
    "targetid_sdr12q = platemjdfiber2targetid(sdr12q[1].data['PLATE'].astype('i8'),sdr12q[1].data['MJD'].astype('i8'),sdr12q[1].data['FIBERID'].astype('i8'))"
   ]
  },
  {
   "cell_type": "code",
   "execution_count": 43,
   "metadata": {},
   "outputs": [
    {
     "name": "stdout",
     "output_type": "stream",
     "text": [
      "546856 3907000\n"
     ]
    }
   ],
   "source": [
    "w = np.in1d(rr[1].data['TARGETID'],targetid_sdr12q)\n",
    "print(w.sum(),len(w))"
   ]
  },
  {
   "cell_type": "code",
   "execution_count": 58,
   "metadata": {},
   "outputs": [
    {
     "data": {
      "text/html": [
       "<i>Table length=5</i>\n",
       "<table id=\"table46939152173880\" class=\"table-striped table-bordered table-condensed\">\n",
       "<thead><tr><th>BRICKNAME</th><th>NCOEFF</th><th>CHI2</th><th>COEFF [4]</th><th>TARGETID</th><th>ZWARN</th><th>SUBTYPE</th><th>ZERR</th><th>SPECTYPE</th><th>Z</th><th>NPIXELS</th><th>DELTACHI2</th></tr></thead>\n",
       "<thead><tr><th>str8</th><th>int64</th><th>float64</th><th>float64</th><th>int64</th><th>int64</th><th>str20</th><th>float64</th><th>str6</th><th>float64</th><th>int64</th><th>float64</th></tr></thead>\n",
       "<tr><td>3586-551</td><td>4</td><td>4979.437905402494</td><td>0.2903345611768412 .. 0.08061822569416442</td><td>3586551810016</td><td>0</td><td>_3</td><td>0.0003939138858536805</td><td>QSO</td><td>2.2381091221699214</td><td>4182</td><td>385.92470588220294</td></tr>\n",
       "<tr><td>3586-551</td><td>4</td><td>4559.26579044249</td><td>0.5035222657438391 .. 0.15087702032701958</td><td>3586551810032</td><td>0</td><td>G_13</td><td>6.675935901335709e-05</td><td>STAR</td><td>0.0006004932032965816</td><td>4182</td><td>12.294057197802431</td></tr>\n",
       "<tr><td>3586-551</td><td>4</td><td>4672.553886816337</td><td>1.0266259688034056 .. 0.2529196190009618</td><td>3586551810036</td><td>0</td><td>A1III(225180)_10</td><td>3.654466257812394e-05</td><td>STAR</td><td>-0.00044412330005173405</td><td>4188</td><td>1385.840551828357</td></tr>\n",
       "<tr><td>3586-551</td><td>4</td><td>13304.777461563503</td><td>0.3261850083074969 .. 1.477381964871323</td><td>3586551810038</td><td>0</td><td>_30</td><td>0.00025379391658500477</td><td>QSO</td><td>2.1699393767034914</td><td>4203</td><td>1081.5891517749878</td></tr>\n",
       "<tr><td>3586-551</td><td>4</td><td>4680.414923773478</td><td>0.4113564338266882 .. -0.053412418891370335</td><td>3586551810040</td><td>0</td><td>B5(338529)_11</td><td>4.781706265572887e-05</td><td>STAR</td><td>-0.00045724101640536784</td><td>4167</td><td>89.69220200310974</td></tr>\n",
       "</table>"
      ],
      "text/plain": [
       "<Table length=5>\n",
       "BRICKNAME NCOEFF        CHI2        ... NPIXELS     DELTACHI2     \n",
       "   str8   int64       float64       ...  int64       float64      \n",
       "--------- ------ ------------------ ... ------- ------------------\n",
       " 3586-551      4  4979.437905402494 ...    4182 385.92470588220294\n",
       " 3586-551      4   4559.26579044249 ...    4182 12.294057197802431\n",
       " 3586-551      4  4672.553886816337 ...    4188  1385.840551828357\n",
       " 3586-551      4 13304.777461563503 ...    4203 1081.5891517749878\n",
       " 3586-551      4  4680.414923773478 ...    4167  89.69220200310974"
      ]
     },
     "execution_count": 58,
     "metadata": {},
     "output_type": "execute_result"
    }
   ],
   "source": [
    "rr_data = rr[1].data\n",
    "rr_data_table = Table(rr_data)[w]\n",
    "rr_data_table[:5]"
   ]
  },
  {
   "cell_type": "code",
   "execution_count": 59,
   "metadata": {},
   "outputs": [],
   "source": [
    "rr_data_table.sort(['TARGETID'])\n",
    "targetid_sdr12q.sort()"
   ]
  },
  {
   "cell_type": "code",
   "execution_count": 60,
   "metadata": {},
   "outputs": [],
   "source": [
    "assert (rr_data_table['TARGETID']==targetid_sdr12q).all()"
   ]
  },
  {
   "cell_type": "code",
   "execution_count": 61,
   "metadata": {},
   "outputs": [],
   "source": [
    "plate,mjd,fiber = targetid2platemjdfiber(rr_data_table['TARGETID'])\n",
    "platemjdfiber = list(zip(plate,mjd,fiber))"
   ]
  },
  {
   "cell_type": "code",
   "execution_count": 62,
   "metadata": {},
   "outputs": [],
   "source": [
    "rr_thing_id_dr12 = [pmf2tid_dr12[pmf] for pmf in platemjdfiber]"
   ]
  },
  {
   "cell_type": "code",
   "execution_count": 63,
   "metadata": {},
   "outputs": [],
   "source": [
    "rr_data_table.add_column(Column(data=rr_thing_id_dr12,name='THING_ID_DR12',dtype='i8'))"
   ]
  },
  {
   "cell_type": "code",
   "execution_count": 66,
   "metadata": {},
   "outputs": [],
   "source": [
    "rr_data_table.write('../results/rr_results/rr_sdr12q.fits',overwrite=True)"
   ]
  },
  {
   "cell_type": "markdown",
   "metadata": {},
   "source": [
    "#### Open the qnAll file(s) we want, stitch them together and save."
   ]
  },
  {
   "cell_type": "code",
   "execution_count": 31,
   "metadata": {},
   "outputs": [],
   "source": [
    "fi_qn_loc = '/global/homes/j/jfarr/Projects/QuasarNET/test_mkl/' #'../results/qn_results//'\n",
    "fi_qn_form = 'qnAll-qnet_0.1_1.fits'\n",
    "fi_out = 'qn_qnet_0.1_1.fits'"
   ]
  },
  {
   "cell_type": "code",
   "execution_count": 32,
   "metadata": {},
   "outputs": [
    {
     "data": {
      "text/html": [
       "&lt;Table length=5&gt;\n",
       "<table id=\"table46913112857064\" class=\"table-striped table-bordered table-condensed\">\n",
       "<thead><tr><th>THING_ID</th><th>PLATE</th><th>MJD</th><th>FIBERID</th><th>ZBEST</th><th>IS_QSO</th><th>IN_TRAIN</th><th>C_LINES [6]</th><th>Z_LINES [6]</th><th>C_LINES_BAL</th><th>Z_LINES_BAL</th></tr></thead>\n",
       "<thead><tr><th>int64</th><th>int32</th><th>int32</th><th>int32</th><th>float64</th><th>int64</th><th>int64</th><th>float64</th><th>float64</th><th>float64</th><th>float64</th></tr></thead>\n",
       "<tr><td>87897905</td><td>3586</td><td>55181</td><td>16</td><td>2.242729050049815</td><td>1</td><td>0</td><td>1.0 .. 2.9974560789014504e-07</td><td>2.242729050049815 .. -0.12054469464971318</td><td>2.0845945414293965e-07</td><td>2.2473561362279955</td></tr>\n",
       "<tr><td>96906927</td><td>3586</td><td>55181</td><td>18</td><td>2.256086478630801</td><td>1</td><td>0</td><td>1.0 .. 9.466923529544147e-07</td><td>2.256086478630801 .. -0.05087198147299743</td><td>3.06321169318835e-07</td><td>4.8967792789364335</td></tr>\n",
       "<tr><td>96907939</td><td>3586</td><td>55181</td><td>20</td><td>3.173956454313273</td><td>1</td><td>0</td><td>0.999936580657959 .. 3.83200540454709e-06</td><td>3.173513630730902 .. -0.07170452538796712</td><td>5.976783086225623e-07</td><td>5.054043491029256</td></tr>\n",
       "<tr><td>87896919</td><td>3586</td><td>55181</td><td>32</td><td>2.3306701402016285</td><td>0</td><td>0</td><td>1.5827469042051234e-06 .. 7.1998162987085834e-09</td><td>2.3306701402016285 .. 0.4283017983938415</td><td>1.9319954525087724e-09</td><td>4.2836647859840955</td></tr>\n",
       "<tr><td>87897024</td><td>3586</td><td>55181</td><td>36</td><td>0.5647317071789288</td><td>0</td><td>0</td><td>1.8513095483285724e-06 .. 2.8667849960584135e-07</td><td>5.383052623424779 .. 0.4610154015775567</td><td>1.0752962680271594e-06</td><td>1.8600473977283656</td></tr>\n",
       "</table>"
      ],
      "text/plain": [
       "<Table length=5>\n",
       "THING_ID PLATE  MJD  ...      C_LINES_BAL          Z_LINES_BAL    \n",
       " int64   int32 int32 ...        float64              float64      \n",
       "-------- ----- ----- ... ---------------------- ------------------\n",
       "87897905  3586 55181 ... 2.0845945414293965e-07 2.2473561362279955\n",
       "96906927  3586 55181 ...   3.06321169318835e-07 4.8967792789364335\n",
       "96907939  3586 55181 ...  5.976783086225623e-07  5.054043491029256\n",
       "87896919  3586 55181 ... 1.9319954525087724e-09 4.2836647859840955\n",
       "87897024  3586 55181 ... 1.0752962680271594e-06 1.8600473977283656"
      ]
     },
     "execution_count": 32,
     "metadata": {},
     "output_type": "execute_result"
    }
   ],
   "source": [
    "import glob\n",
    "fi_qn = glob.glob(fi_qn_loc+fi_qn_form)\n",
    "data = []\n",
    "for f_qn in fi_qn:\n",
    "    qn = fits.open(f_qn)\n",
    "    targetid_qn = platemjdfiber2targetid(qn[1].data['PLATE'].astype('i8'),qn[1].data['MJD'].astype('i8'),qn[1].data['FIBERID'].astype('i8'))\n",
    "    w = (~(qn[1].data['IN_TRAIN'].astype('bool')))\n",
    "    f_data = np.array(qn[1].data[w])\n",
    "    data.append(f_data)\n",
    "data = np.concatenate(data)\n",
    "table = Table(data)\n",
    "table[:5]"
   ]
  },
  {
   "cell_type": "code",
   "execution_count": 33,
   "metadata": {},
   "outputs": [],
   "source": [
    "table_unique = unique(table, keys=['PLATE', 'MJD', 'FIBERID'])\n",
    "table = fits.BinTableHDU(table_unique)\n",
    "prihdr = fits.Header()\n",
    "prihdu = fits.PrimaryHDU(header=prihdr)\n",
    "hdulist = fits.HDUList([prihdu, table])\n",
    "hdulist.writeto(fi_qn_loc+fi_out,overwrite=True)\n",
    "hdulist.close()"
   ]
  },
  {
   "cell_type": "markdown",
   "metadata": {
    "jupyter": {
     "outputs_hidden": true
    }
   },
   "source": [
    "### Make a directory structure with targetids in\n",
    "For each (plate,mjd) pair, make a directory targetids/{plate}/, and create a file within it targetids-plate-mjd.txt"
   ]
  },
  {
   "cell_type": "code",
   "execution_count": 37,
   "metadata": {},
   "outputs": [],
   "source": [
    "## Get all spectra for objects in DR12Q supserset\n",
    "w = np.in1d(spall_dr12[1].data['THING_ID'],sdr12q[1].data['THING_ID'])\n",
    "w &= (spall_dr12[1].data['THING_ID']!=-1)"
   ]
  },
  {
   "cell_type": "code",
   "execution_count": 39,
   "metadata": {},
   "outputs": [
    {
     "name": "stdout",
     "output_type": "stream",
     "text": [
      "2493\n"
     ]
    }
   ],
   "source": [
    "## Get the set of (plate,mjd) pairs that cover these spectra\n",
    "plate = spall_dr12[1].data['PLATE'][w].astype('i8')\n",
    "mjd = spall_dr12[1].data['MJD'][w].astype('i8')\n",
    "fiberid = spall_dr12[1].data['FIBERID'][w].astype('i8')\n",
    "\n",
    "pm_set = set([(p,m) for p,m in zip(plate,mjd)])\n",
    "print(len(pm_set))"
   ]
  },
  {
   "cell_type": "code",
   "execution_count": 40,
   "metadata": {},
   "outputs": [],
   "source": [
    "## Get the list of targetids for these spectra\n",
    "targetids = platemjdfiber2targetid(plate,mjd,fiberid)"
   ]
  },
  {
   "cell_type": "code",
   "execution_count": 46,
   "metadata": {},
   "outputs": [
    {
     "name": "stdout",
     "output_type": "stream",
     "text": [
      "100.00%\r"
     ]
    }
   ],
   "source": [
    "outpath = '/global/cfs/projectdirs/desi/users/jfarr/rrboss_dr12/'\n",
    "for i,(p,m) in enumerate(pm_set):\n",
    "    w = ((np.array(list(zip(plate,mjd)))==(p,m)).all(axis=1))\n",
    "    pm_targetids = targetids[w]\n",
    "    dirname = outpath+'/targetids/{}'.format(p)\n",
    "    if not os.path.isdir(dirname):\n",
    "        os.mkdir(dirname)\n",
    "    with open(dirname+'/targetids-{}-{}.txt'.format(p,m),'w') as text_file:\n",
    "        for t in pm_targetids[:-1]:\n",
    "            text_file.write('{},'.format(t))\n",
    "        text_file.write('{}'.format(pm_targetids[-1]))\n",
    "    print('{:.2%}'.format((i+1)/len(pm_set)),end='\\r')"
   ]
  },
  {
   "cell_type": "markdown",
   "metadata": {},
   "source": [
    "### Remove duplicates from the SQUEzE dataset."
   ]
  },
  {
   "cell_type": "code",
   "execution_count": 92,
   "metadata": {},
   "outputs": [
    {
     "data": {
      "text/html": [
       "<i>Table length=5</i>\n",
       "<table id=\"table46913347171496\" class=\"table-striped table-bordered table-condensed\">\n",
       "<thead><tr><th>ra</th><th>dec</th><th>thing_id</th><th>plate</th><th>mjd</th><th>fiberid</th><th>z_vi</th><th>class_person</th><th>z_conf_person</th><th>boss_target1</th><th>ancillary_target1</th><th>ancillary_target2</th><th>eboss_target0</th><th>specid</th><th>z_true</th><th>loaded</th><th>ciii_ratio</th><th>ciii_ratio_SN</th><th>ciii_ratio2</th><th>civ_ratio</th><th>civ_ratio_SN</th><th>civ_ratio2</th><th>civ_blue_ratio</th><th>civ_blue_ratio_SN</th><th>civ_blue_ratio2</th><th>civ_red_ratio</th><th>civ_red_ratio_SN</th><th>civ_red_ratio2</th><th>ha_ratio</th><th>ha_ratio_SN</th><th>ha_ratio2</th><th>hb_ratio</th><th>hb_ratio_SN</th><th>hb_ratio2</th><th>lya_ratio</th><th>lya_ratio_SN</th><th>lya_ratio2</th><th>lyb_ratio</th><th>lyb_ratio_SN</th><th>lyb_ratio2</th><th>mgii_ratio</th><th>mgii_ratio_SN</th><th>mgii_ratio2</th><th>neiv_ratio</th><th>neiv_ratio_SN</th><th>neiv_ratio2</th><th>nev_ratio</th><th>nev_ratio_SN</th><th>nev_ratio2</th><th>oii_ratio</th><th>oii_ratio_SN</th><th>oii_ratio2</th><th>oiii_ratio</th><th>oiii_ratio_SN</th><th>oiii_ratio2</th><th>siiv_ratio</th><th>siiv_ratio_SN</th><th>siiv_ratio2</th><th>z_try</th><th>peak_significance</th><th>assumed_line</th><th>Delta_z</th><th>is_correct</th><th>is_line</th><th>correct_redshift</th><th>prob_class1</th><th>prob_class3</th><th>prob_class30</th><th>prob_class35</th><th>prob_class45</th><th>prob_class305</th><th>prob_class4</th><th>class_predicted</th><th>prob</th><th>duplicated</th></tr></thead>\n",
       "<thead><tr><th>float64</th><th>float64</th><th>int64</th><th>int64</th><th>int64</th><th>int64</th><th>float64</th><th>int64</th><th>int64</th><th>int64</th><th>int64</th><th>int64</th><th>int64</th><th>int64</th><th>float64</th><th>bool</th><th>float64</th><th>float64</th><th>float64</th><th>float64</th><th>float64</th><th>float64</th><th>float64</th><th>float64</th><th>float64</th><th>float64</th><th>float64</th><th>float64</th><th>float64</th><th>float64</th><th>float64</th><th>float64</th><th>float64</th><th>float64</th><th>float64</th><th>float64</th><th>float64</th><th>float64</th><th>float64</th><th>float64</th><th>float64</th><th>float64</th><th>float64</th><th>float64</th><th>float64</th><th>float64</th><th>float64</th><th>float64</th><th>float64</th><th>float64</th><th>float64</th><th>float64</th><th>float64</th><th>float64</th><th>float64</th><th>float64</th><th>float64</th><th>float64</th><th>float64</th><th>float64</th><th>str15</th><th>float64</th><th>bool</th><th>bool</th><th>bool</th><th>float64</th><th>float64</th><th>float64</th><th>float64</th><th>float64</th><th>float64</th><th>float64</th><th>int64</th><th>float64</th><th>bool</th></tr></thead>\n",
       "<tr><td>8.4677275669</td><td>0.38255848940000003</td><td>104282943</td><td>3586</td><td>55181</td><td>854</td><td>0.0</td><td>1</td><td>3</td><td>198656</td><td>0</td><td>0</td><td>0</td><td>104282943</td><td>0.0</td><td>False</td><td>-9999.99</td><td>-9999.99</td><td>-9999.99</td><td>-9999.99</td><td>-9999.99</td><td>-9999.99</td><td>-9999.99</td><td>-9999.99</td><td>-9999.99</td><td>-9999.99</td><td>-9999.99</td><td>-9999.99</td><td>-9999.99</td><td>-9999.99</td><td>-9999.99</td><td>-9999.99</td><td>-9999.99</td><td>-9999.99</td><td>-9999.99</td><td>-9999.99</td><td>-9999.99</td><td>-9999.99</td><td>-9999.99</td><td>-9999.99</td><td>-9999.99</td><td>-9999.99</td><td>-9999.99</td><td>-9999.99</td><td>-9999.99</td><td>-9999.99</td><td>-9999.99</td><td>-9999.99</td><td>-9999.99</td><td>-9999.99</td><td>-9999.99</td><td>-9999.99</td><td>-9999.99</td><td>-9999.99</td><td>-9999.99</td><td>-9999.99</td><td>-9999.99</td><td>-9999.99</td><td>-1.0</td><td>-9999.99</td><td>none</td><td>-1.0</td><td>False</td><td>False</td><td>False</td><td>-1.0</td><td>-1.0</td><td>-1.0</td><td>-1.0</td><td>-1.0</td><td>-1.0</td><td>-1.0</td><td>-1</td><td>-1.0</td><td>False</td></tr>\n",
       "<tr><td>8.4693419224</td><td>-0.7643945646</td><td>77821070</td><td>3586</td><td>55181</td><td>180</td><td>0.0</td><td>1</td><td>3</td><td>65536</td><td>0</td><td>0</td><td>0</td><td>77821070</td><td>0.0</td><td>False</td><td>-9999.99</td><td>-9999.99</td><td>-9999.99</td><td>-9999.99</td><td>-9999.99</td><td>-9999.99</td><td>-9999.99</td><td>-9999.99</td><td>-9999.99</td><td>-9999.99</td><td>-9999.99</td><td>-9999.99</td><td>-9999.99</td><td>-9999.99</td><td>-9999.99</td><td>-9999.99</td><td>-9999.99</td><td>-9999.99</td><td>-9999.99</td><td>-9999.99</td><td>-9999.99</td><td>-9999.99</td><td>-9999.99</td><td>-9999.99</td><td>-9999.99</td><td>-9999.99</td><td>-9999.99</td><td>-9999.99</td><td>-9999.99</td><td>-9999.99</td><td>-9999.99</td><td>-9999.99</td><td>-9999.99</td><td>-9999.99</td><td>-9999.99</td><td>-9999.99</td><td>-9999.99</td><td>-9999.99</td><td>-9999.99</td><td>-9999.99</td><td>-9999.99</td><td>-9999.99</td><td>-1.0</td><td>-9999.99</td><td>none</td><td>-1.0</td><td>False</td><td>False</td><td>False</td><td>-1.0</td><td>-1.0</td><td>-1.0</td><td>-1.0</td><td>-1.0</td><td>-1.0</td><td>-1.0</td><td>-1</td><td>-1.0</td><td>False</td></tr>\n",
       "<tr><td>8.4694132607</td><td>-0.8229059625</td><td>77821081</td><td>3586</td><td>55181</td><td>178</td><td>-1.0</td><td>0</td><td>1</td><td>1024</td><td>0</td><td>0</td><td>0</td><td>77821081</td><td>-1.0</td><td>False</td><td>0.9835209663000001</td><td>-0.2856364218</td><td>0.11586819270000001</td><td>1.2960948699000001</td><td>2.6796239288</td><td>0.029488872500000003</td><td>1.2664155724000001</td><td>1.8929070695</td><td>0.029488872500000003</td><td>1.3442229817</td><td>2.2653546122</td><td>0.029488872500000003</td><td>-9999.99</td><td>-9999.99</td><td>-9999.99</td><td>-9999.99</td><td>-9999.99</td><td>-9999.99</td><td>-9999.99</td><td>-9999.99</td><td>-9999.99</td><td>-9999.99</td><td>-9999.99</td><td>-9999.99</td><td>0.7642641137</td><td>-1.2736287082</td><td>0.0286050838</td><td>0.7928460155</td><td>-1.2260062513</td><td>0.2439940884</td><td>2.1703444494</td><td>1.3339470949</td><td>0.5831254085</td><td>1.1815662901</td><td>0.2727233012</td><td>0.4070429839</td><td>-9999.99</td><td>-9999.99</td><td>-9999.99</td><td>-9999.99</td><td>-9999.99</td><td>-9999.99</td><td>1.6075453118</td><td>7.1867165893</td><td>civ</td><td>2.6075453118</td><td>False</td><td>False</td><td>False</td><td>0.5167245392</td><td>0.0345601179</td><td>0.0192542632</td><td>0.1361913532</td><td>0.1797300308</td><td>0.1061420597</td><td>0.0073976361000000004</td><td>1</td><td>0.0538143811</td><td>False</td></tr>\n",
       "<tr><td>8.4799282435</td><td>0.8723627653</td><td>116050950</td><td>3586</td><td>55181</td><td>880</td><td>2.442</td><td>3</td><td>3</td><td>1024</td><td>0</td><td>0</td><td>0</td><td>116050950</td><td>2.442</td><td>False</td><td>1.2360505403</td><td>5.2721498446</td><td>0.2829711679</td><td>1.7760673003</td><td>27.9774293462</td><td>0.06269671190000001</td><td>1.9205124795000001</td><td>26.2330073054</td><td>0.06269671190000001</td><td>1.5814675449</td><td>15.6790872179</td><td>0.06269671190000001</td><td>-9999.99</td><td>-9999.99</td><td>-9999.99</td><td>-9999.99</td><td>-9999.99</td><td>-9999.99</td><td>2.649487692</td><td>31.9623824282</td><td>0.0159946153</td><td>-9999.99</td><td>-9999.99</td><td>-9999.99</td><td>3.9856448989</td><td>4.8140782834</td><td>1.0555086704</td><td>0.8089575385000001</td><td>-1.4010136943</td><td>0.0663503029</td><td>-9999.99</td><td>-9999.99</td><td>-9999.99</td><td>-9999.99</td><td>-9999.99</td><td>-9999.99</td><td>-9999.99</td><td>-9999.99</td><td>-9999.99</td><td>1.1631070285</td><td>5.1585125741</td><td>0.1273431697</td><td>2.450517754</td><td>52.9805839329</td><td>lya</td><td>0.008517754</td><td>True</td><td>True</td><td>True</td><td>0.0</td><td>0.965</td><td>0.028</td><td>0.006</td><td>0.0</td><td>0.001</td><td>nan</td><td>3</td><td>0.993</td><td>False</td></tr>\n",
       "<tr><td>8.4806474948</td><td>-0.0140026955</td><td>94823606</td><td>3586</td><td>55181</td><td>158</td><td>2.685</td><td>30</td><td>3</td><td>32768</td><td>0</td><td>0</td><td>0</td><td>94823606</td><td>2.685</td><td>False</td><td>1.3648809607</td><td>33.0555577175</td><td>0.0896025562</td><td>1.3727905725</td><td>38.3916506795</td><td>0.0415088639</td><td>1.2389163003</td><td>19.8656052425</td><td>0.0415088639</td><td>1.5289772233</td><td>37.0737842282</td><td>0.0415088639</td><td>-9999.99</td><td>-9999.99</td><td>-9999.99</td><td>-9999.99</td><td>-9999.99</td><td>-9999.99</td><td>2.0613999016</td><td>89.2435458454</td><td>0.1588183407</td><td>0.6116687553</td><td>-10.4062380589</td><td>0.06705443900000001</td><td>-9999.99</td><td>-9999.99</td><td>-9999.99</td><td>1.029934091</td><td>0.7711660720000001</td><td>0.0175069606</td><td>-9999.99</td><td>-9999.99</td><td>-9999.99</td><td>-9999.99</td><td>-9999.99</td><td>-9999.99</td><td>-9999.99</td><td>-9999.99</td><td>-9999.99</td><td>1.1285789443</td><td>13.2118414493</td><td>0.0219674583</td><td>2.6739367341999998</td><td>46.6867517172</td><td>civ</td><td>-0.011063265800000001</td><td>True</td><td>True</td><td>True</td><td>0.0</td><td>0.776</td><td>0.221</td><td>0.003</td><td>0.0</td><td>0.0</td><td>nan</td><td>3</td><td>0.997</td><td>False</td></tr>\n",
       "</table>"
      ],
      "text/plain": [
       "<Table length=5>\n",
       "     ra              dec          thing_id ...     prob     duplicated\n",
       "  float64          float64         int64   ...   float64       bool   \n",
       "------------ ------------------- --------- ... ------------ ----------\n",
       "8.4677275669 0.38255848940000003 104282943 ...         -1.0      False\n",
       "8.4693419224       -0.7643945646  77821070 ...         -1.0      False\n",
       "8.4694132607       -0.8229059625  77821081 ... 0.0538143811      False\n",
       "8.4799282435        0.8723627653 116050950 ...        0.993      False\n",
       "8.4806474948       -0.0140026955  94823606 ...        0.997      False"
      ]
     },
     "execution_count": 92,
     "metadata": {},
     "output_type": "execute_result"
    }
   ],
   "source": [
    "#f_sq = '/project/projectdirs/desi/users/jfarr/quasar_classifier_hack/Superset_DR12Q_SQUEzE.fits.gz'\n",
    "f_sq = '/project/projectdirs/desi/users/iprafols/lya_working_group/QSO_classifiers/Superset_DR12Q_SQUEzE_v2.fits'\n",
    "sq = fits.open(f_sq)\n",
    "w = (~sq[1].data['duplicated'])\n",
    "data = sq[1].data[w]\n",
    "table = Table(data)\n",
    "table[:5]"
   ]
  },
  {
   "cell_type": "code",
   "execution_count": 93,
   "metadata": {},
   "outputs": [],
   "source": [
    "prihdr = fits.Header()\n",
    "prihdu = fits.PrimaryHDU(header=prihdr)\n",
    "table = fits.BinTableHDU(table)\n",
    "hdulist = fits.HDUList([prihdu, table])\n",
    "hdulist.writeto('../sq_results/sq_sdr12q.fits',overwrite=True)\n",
    "hdulist.close()"
   ]
  },
  {
   "cell_type": "markdown",
   "metadata": {},
   "source": [
    "### Read the pipeline classes/redshifts from DR12 spall, and put all results into a simplified file."
   ]
  },
  {
   "cell_type": "code",
   "execution_count": 65,
   "metadata": {},
   "outputs": [
    {
     "data": {
      "text/plain": [
       "627751"
      ]
     },
     "execution_count": 65,
     "metadata": {},
     "output_type": "execute_result"
    }
   ],
   "source": [
    "w = np.in1d(spall_dr12[1].data['THING_ID'],sdr12q[1].data['THING_ID'])\n",
    "w &= (spall_dr12[1].data['THING_ID']!=-1)\n",
    "w.sum()"
   ]
  },
  {
   "cell_type": "code",
   "execution_count": 66,
   "metadata": {},
   "outputs": [],
   "source": [
    "plate = spall_dr12[1].data['PLATE'][w].astype('i8')\n",
    "mjd = spall_dr12[1].data['MJD'][w].astype('i8')\n",
    "fiberid = spall_dr12[1].data['FIBERID'][w].astype('i8')\n",
    "\n",
    "targetid = platemjdfiber2targetid(plate,mjd,fiberid)\n",
    "spectype = spall_dr12[1].data['CLASS'][w]\n",
    "z = spall_dr12[1].data['Z'][w]\n",
    "zwarn = spall_dr12[1].data['ZWARNING'][w]\n",
    "\n",
    "thing_id = [pmf2tid_dr12[(p,m,f)] for p,m,f in zip(plate,mjd,fiberid)]\n",
    "\n",
    "data_list = list(zip(targetid,spectype,z,zwarn,thing_id))\n",
    "dtype = [('TARGETID','i8'),('SPECTYPE','U8'),('Z','f8'),('ZWARN','i8'),('THING_ID_DR12','i8')]\n",
    "\n",
    "data = np.array(data_list,dtype=dtype)"
   ]
  },
  {
   "cell_type": "code",
   "execution_count": 67,
   "metadata": {},
   "outputs": [
    {
     "data": {
      "text/html": [
       "<i>Table length=5</i>\n",
       "<table id=\"table46924020539856\" class=\"table-striped table-bordered table-condensed\">\n",
       "<thead><tr><th>TARGETID</th><th>SPECTYPE</th><th>Z</th><th>ZWARN</th><th>THING_ID_DR12</th></tr></thead>\n",
       "<thead><tr><th>int64</th><th>str8</th><th>float64</th><th>int64</th><th>int64</th></tr></thead>\n",
       "<tr><td>3586551810016</td><td>QSO</td><td>2.2423312664031982</td><td>0</td><td>87897905</td></tr>\n",
       "<tr><td>3586551810018</td><td>QSO</td><td>2.259599208831787</td><td>0</td><td>96906927</td></tr>\n",
       "<tr><td>3586551810020</td><td>QSO</td><td>3.1812267303466797</td><td>0</td><td>96907939</td></tr>\n",
       "<tr><td>3586551810032</td><td>STAR</td><td>-0.0031940187327563763</td><td>4</td><td>87896919</td></tr>\n",
       "<tr><td>3586551810036</td><td>STAR</td><td>-0.00046957170707173645</td><td>0</td><td>87897024</td></tr>\n",
       "</table>"
      ],
      "text/plain": [
       "<Table length=5>\n",
       "   TARGETID   SPECTYPE            Z            ZWARN THING_ID_DR12\n",
       "    int64       str8           float64         int64     int64    \n",
       "------------- -------- ----------------------- ----- -------------\n",
       "3586551810016      QSO      2.2423312664031982     0      87897905\n",
       "3586551810018      QSO       2.259599208831787     0      96906927\n",
       "3586551810020      QSO      3.1812267303466797     0      96907939\n",
       "3586551810032     STAR  -0.0031940187327563763     4      87896919\n",
       "3586551810036     STAR -0.00046957170707173645     0      87897024"
      ]
     },
     "execution_count": 67,
     "metadata": {},
     "output_type": "execute_result"
    }
   ],
   "source": [
    "table = Table(data)\n",
    "table[:5]"
   ]
  },
  {
   "cell_type": "code",
   "execution_count": 68,
   "metadata": {},
   "outputs": [],
   "source": [
    "table.write('../dr12pipe_results/dr12pipe_sdr12q.fits',overwrite=True)"
   ]
  },
  {
   "cell_type": "markdown",
   "metadata": {},
   "source": [
    "### Do the same for DR14"
   ]
  },
  {
   "cell_type": "code",
   "execution_count": 82,
   "metadata": {},
   "outputs": [
    {
     "data": {
      "text/plain": [
       "627751"
      ]
     },
     "execution_count": 82,
     "metadata": {},
     "output_type": "execute_result"
    }
   ],
   "source": [
    "w = np.in1d(spall_dr12[1].data['THING_ID'],sdr12q[1].data['THING_ID'])\n",
    "w &= (spall_dr12[1].data['THING_ID']!=-1)\n",
    "w.sum()"
   ]
  },
  {
   "cell_type": "code",
   "execution_count": 83,
   "metadata": {},
   "outputs": [],
   "source": [
    "targetid_sdr12q = platemjdfiber2targetid(spall_dr12[1].data['PLATE'][w],spall_dr12[1].data['MJD'][w],spall_dr12[1].data['FIBERID'][w])\n",
    "targetid_dr14 = platemjdfiber2targetid(spall_dr14[1].data['PLATE'],spall_dr14[1].data['MJD'],spall_dr14[1].data['FIBERID'])\n",
    "w = np.in1d(targetid_dr14,targetid_sdr12q)"
   ]
  },
  {
   "cell_type": "code",
   "execution_count": 85,
   "metadata": {},
   "outputs": [],
   "source": [
    "plate = spall_dr14[1].data['PLATE'][w].astype('i8')\n",
    "mjd = spall_dr14[1].data['MJD'][w].astype('i8')\n",
    "fiberid = spall_dr14[1].data['FIBERID'][w].astype('i8')\n",
    "\n",
    "targetid = platemjdfiber2targetid(plate,mjd,fiberid)\n",
    "spectype = spall_dr14[1].data['CLASS'][w]\n",
    "z = spall_dr14[1].data['Z'][w]\n",
    "zwarn = spall_dr14[1].data['ZWARNING'][w]\n",
    "\n",
    "thing_id = [pmf2tid_dr12[(p,m,f)] for p,m,f in zip(plate,mjd,fiberid)]\n",
    "\n",
    "data_list = list(zip(targetid,spectype,z,zwarn,thing_id))\n",
    "dtype = [('TARGETID','i8'),('SPECTYPE','U8'),('Z','f8'),('ZWARN','i8'),('THING_ID_DR12','i8')]\n",
    "\n",
    "data = np.array(data_list,dtype=dtype)"
   ]
  },
  {
   "cell_type": "code",
   "execution_count": 86,
   "metadata": {},
   "outputs": [],
   "source": [
    "table.write('../dr14pipe_results/dr14pipe_sdr12q.fits',overwrite=True)"
   ]
  },
  {
   "cell_type": "code",
   "execution_count": null,
   "metadata": {},
   "outputs": [],
   "source": []
  }
 ],
 "metadata": {
  "kernelspec": {
   "display_name": "Python 3",
   "language": "python",
   "name": "python3"
  },
  "language_info": {
   "codemirror_mode": {
    "name": "ipython",
    "version": 3
   },
   "file_extension": ".py",
   "mimetype": "text/x-python",
   "name": "python",
   "nbconvert_exporter": "python",
   "pygments_lexer": "ipython3",
   "version": "3.6.8"
  }
 },
 "nbformat": 4,
 "nbformat_minor": 4
}
