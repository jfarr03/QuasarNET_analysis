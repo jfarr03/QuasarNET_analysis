{
 "cells": [
  {
   "cell_type": "code",
   "execution_count": 1,
   "metadata": {},
   "outputs": [],
   "source": [
    "import numpy as np\n",
    "import os\n",
    "import glob\n",
    "from astropy.io import fits\n",
    "from astropy.table import Table, unique, Column, vstack\n",
    "import matplotlib.pyplot as plt\n",
    "import pandas as pd\n",
    "from qn_analysis.desi_utils import *"
   ]
  },
  {
   "cell_type": "markdown",
   "metadata": {},
   "source": [
    "### Merge the separate zbest files from redrock into a single file."
   ]
  },
  {
   "cell_type": "code",
   "execution_count": 43,
   "metadata": {},
   "outputs": [
    {
     "name": "stdout",
     "output_type": "stream",
     "text": [
      "10\n"
     ]
    }
   ],
   "source": [
    "#rrdir = '/global/cfs/projectdirs/desi/users/jfarr/rrboss_dr12/runs/rr_v5_7_0/output/'\n",
    "rrdir = '/global/cfs/cdirs/desi/spectro/redux/andes/tiles/68002/20200315/'\n",
    "f_out = '/global/homes/j/jfarr/Projects/QuasarNET_DESI/rr_results/rr_SV0_68002_20200315.fits'\n",
    "\n",
    "fi = glob.glob(rrdir+'/zbest*.fits')\n",
    "print(len(fi))"
   ]
  },
  {
   "cell_type": "code",
   "execution_count": 44,
   "metadata": {},
   "outputs": [
    {
     "name": "stdout",
     "output_type": "stream",
     "text": [
      "Stacking zbest files: 100.00%\n",
      "5000\n"
     ]
    },
    {
     "data": {
      "text/html": [
       "<i>Table length=5</i>\n",
       "<table id=\"table46913244951696\" class=\"table-striped table-bordered table-condensed\">\n",
       "<thead><tr><th>TARGETID</th><th>CHI2</th><th>COEFF [10]</th><th>Z</th><th>ZERR</th><th>ZWARN</th><th>NPIXELS</th><th>SPECTYPE</th><th>SUBTYPE</th><th>NCOEFF</th><th>DELTACHI2</th><th>NUMEXP</th><th>NUMTILE</th><th>EXPID</th></tr></thead>\n",
       "<thead><tr><th>int64</th><th>float64</th><th>float64</th><th>float64</th><th>float64</th><th>int64</th><th>int64</th><th>str6</th><th>str20</th><th>int64</th><th>float64</th><th>int32</th><th>int32</th><th>int64</th></tr></thead>\n",
       "<tr><td>35185923930984962</td><td>11085.09177994728</td><td>120.51084008510408 .. -12.388555080372461</td><td>0.716799793437332</td><td>8.008771225229183e-05</td><td>0</td><td>7927</td><td>GALAXY</td><td></td><td>10</td><td>462.9570941776037</td><td>0</td><td>1</td><td>20200315</td></tr>\n",
       "<tr><td>35185923930985294</td><td>11203.254020661116</td><td>54.24157972394388 .. 1.132740341585059</td><td>0.804694385052438</td><td>9.692301971279603e-05</td><td>0</td><td>7927</td><td>GALAXY</td><td></td><td>10</td><td>108.44522465765476</td><td>0</td><td>1</td><td>20200315</td></tr>\n",
       "<tr><td>35185923930985431</td><td>11519.481780067106</td><td>2609.12229402862 .. 0.0</td><td>0.0001468951025535693</td><td>5.422923273618192e-06</td><td>0</td><td>7927</td><td>STAR</td><td>G</td><td>5</td><td>9436.423557981829</td><td>0</td><td>1</td><td>20200315</td></tr>\n",
       "<tr><td>35185923930986052</td><td>8.999999999999996e+99</td><td>0.0 .. 0.0</td><td>-0.0019957014509158224</td><td>4.131159871613317e-48</td><td>1570</td><td>0</td><td>STAR</td><td>CV</td><td>3</td><td>1.942668892225729e+84</td><td>0</td><td>1</td><td>20200315</td></tr>\n",
       "<tr><td>35185923935177997</td><td>11460.257465936244</td><td>174.50319654031534 .. -0.08255529289748459</td><td>0.6803965253708565</td><td>9.845858679498947e-05</td><td>0</td><td>7929</td><td>GALAXY</td><td></td><td>10</td><td>928.4690854474902</td><td>0</td><td>1</td><td>20200315</td></tr>\n",
       "</table>"
      ],
      "text/plain": [
       "<Table length=5>\n",
       "     TARGETID              CHI2         ... NUMTILE  EXPID  \n",
       "      int64              float64        ...  int32   int64  \n",
       "----------------- --------------------- ... ------- --------\n",
       "35185923930984962     11085.09177994728 ...       1 20200315\n",
       "35185923930985294    11203.254020661116 ...       1 20200315\n",
       "35185923930985431    11519.481780067106 ...       1 20200315\n",
       "35185923930986052 8.999999999999996e+99 ...       1 20200315\n",
       "35185923935177997    11460.257465936244 ...       1 20200315"
      ]
     },
     "execution_count": 44,
     "metadata": {},
     "output_type": "execute_result"
    }
   ],
   "source": [
    "## Concatenate output from all zbest files.\n",
    "rr = fits.open(fi[0])\n",
    "expid = int(fi[0].split('-')[-1][:-5])\n",
    "rr_data = Table(rr[1].data)\n",
    "expids = expid*np.ones(len(rr_data))\n",
    "rr_data.add_column(Column(data=expids,name='EXPID',dtype='i8'))\n",
    "rr.close()\n",
    "if len(fi)>1:\n",
    "    for i,f in enumerate(fi[1:]):\n",
    "        rr = fits.open(f)\n",
    "        expid = int(f.split('-')[-1][:-5])\n",
    "        f_rr_data = Table(rr[1].data)\n",
    "        expids = expid*np.ones(len(f_rr_data))\n",
    "        f_rr_data.add_column(Column(data=expids,name='EXPID',dtype='i8'))\n",
    "        rr_data = vstack([rr_data,f_rr_data])\n",
    "        rr.close()\n",
    "        print('Stacking zbest files: {:.2%}'.format((i+2)/len(fi)),end='\\r')\n",
    "print('')\n",
    "print(len(rr_data))\n",
    "rr_data.sort(['TARGETID','EXPID'])\n",
    "rr_data[:5]"
   ]
  },
  {
   "cell_type": "code",
   "execution_count": 46,
   "metadata": {},
   "outputs": [],
   "source": [
    "rr_data.write(f_out,overwrite=True)"
   ]
  },
  {
   "cell_type": "markdown",
   "metadata": {},
   "source": [
    "#### Open the qnAll file(s) we want, stitch them together and save."
   ]
  },
  {
   "cell_type": "code",
   "execution_count": 50,
   "metadata": {},
   "outputs": [],
   "source": [
    "fi_qn_loc = '/global/cfs/projectdirs/desi/users/jfarr/MiniSV_data/SV0/qn_export_output/coadd/'\n",
    "fi_qn_form = 'qnAll-MiniSV_68002_20200315.fits'\n",
    "fi_out = '/global/homes/j/jfarr/Projects/QuasarNET_DESI/qn_results/qn_SV0_68002_20200315.fits'"
   ]
  },
  {
   "cell_type": "code",
   "execution_count": 51,
   "metadata": {},
   "outputs": [
    {
     "data": {
      "text/html": [
       "<i>Table length=5</i>\n",
       "<table id=\"table46913259661072\" class=\"table-striped table-bordered table-condensed\">\n",
       "<thead><tr><th>THING_ID</th><th>PLATE</th><th>MJD</th><th>FIBERID</th><th>ZBEST</th><th>IS_QSO</th><th>IN_TRAIN</th><th>C_LINES [6]</th><th>Z_LINES [6]</th><th>C_LINES_BAL</th><th>Z_LINES_BAL</th></tr></thead>\n",
       "<thead><tr><th>int64</th><th>int32</th><th>int32</th><th>int32</th><th>float64</th><th>int64</th><th>int64</th><th>float64</th><th>float64</th><th>float64</th><th>float64</th></tr></thead>\n",
       "<tr><td>35185923935178324</td><td>68002</td><td>20200315</td><td>508</td><td>2.0022772952279952</td><td>1</td><td>0</td><td>1.0 .. 1.5746745677140336e-14</td><td>2.0022772952279952 .. -0.4265407152786532</td><td>0.9999984502792358</td><td>2.017358359966641</td></tr>\n",
       "<tr><td>35185923939370065</td><td>68002</td><td>20200315</td><td>478</td><td>2.6565135073893535</td><td>0</td><td>0</td><td>2.073732616736379e-07 .. 1.801458830198721e-14</td><td>2.6343459033792027 .. -0.238498364762191</td><td>9.131026490472038e-10</td><td>2.6720305533237583</td></tr>\n",
       "<tr><td>35185923939371431</td><td>68002</td><td>20200315</td><td>397</td><td>2.1530906113288966</td><td>1</td><td>0</td><td>0.9999986886978149 .. 1.577927198626039e-11</td><td>2.137075548380123 .. 0.3570473018378155</td><td>2.416289134998806e-06</td><td>2.1627778607711385</td></tr>\n",
       "<tr><td>35185923939372655</td><td>68002</td><td>20200315</td><td>364</td><td>1.9671195752935873</td><td>0</td><td>0</td><td>7.720559551671613e-06 .. 2.031525836443393e-09</td><td>2.081454878129087 .. 0.4520716761253831</td><td>3.643215450210846e-06</td><td>2.13483162554244</td></tr>\n",
       "<tr><td>35185923939373842</td><td>68002</td><td>20200315</td><td>394</td><td>1.8412341176825446</td><td>0</td><td>0</td><td>1.3036019312628877e-11 .. 4.219747899111103e-19</td><td>2.5504349938447386 .. -0.11977604245566265</td><td>9.147496484729345e-07</td><td>2.5296908729764525</td></tr>\n",
       "</table>"
      ],
      "text/plain": [
       "<Table length=5>\n",
       "     THING_ID     PLATE   MJD    ...      C_LINES_BAL         Z_LINES_BAL    \n",
       "      int64       int32  int32   ...        float64             float64      \n",
       "----------------- ----- -------- ... --------------------- ------------------\n",
       "35185923935178324 68002 20200315 ...    0.9999984502792358  2.017358359966641\n",
       "35185923939370065 68002 20200315 ... 9.131026490472038e-10 2.6720305533237583\n",
       "35185923939371431 68002 20200315 ... 2.416289134998806e-06 2.1627778607711385\n",
       "35185923939372655 68002 20200315 ... 3.643215450210846e-06   2.13483162554244\n",
       "35185923939373842 68002 20200315 ... 9.147496484729345e-07 2.5296908729764525"
      ]
     },
     "execution_count": 51,
     "metadata": {},
     "output_type": "execute_result"
    }
   ],
   "source": [
    "import glob\n",
    "fi_qn = glob.glob(fi_qn_loc+fi_qn_form)\n",
    "data = []\n",
    "for f_qn in fi_qn:\n",
    "    qn = fits.open(f_qn)\n",
    "    w = (~(qn[1].data['IN_TRAIN'].astype('bool')))\n",
    "    f_data = np.array(qn[1].data[w])\n",
    "    data.append(f_data)\n",
    "data = np.concatenate(data)\n",
    "table = Table(data)\n",
    "table.sort('THING_ID')\n",
    "table[:5]"
   ]
  },
  {
   "cell_type": "code",
   "execution_count": 52,
   "metadata": {},
   "outputs": [],
   "source": [
    "table_unique = unique(table, keys=['PLATE', 'MJD', 'FIBERID'])\n",
    "table = fits.BinTableHDU(table_unique)\n",
    "prihdr = fits.Header()\n",
    "prihdu = fits.PrimaryHDU(header=prihdr)\n",
    "hdulist = fits.HDUList([prihdu, table])\n",
    "hdulist.writeto(fi_out,overwrite=True)\n",
    "hdulist.close()"
   ]
  },
  {
   "cell_type": "markdown",
   "metadata": {},
   "source": [
    "### Convert a VI results csv file to a QN truth file."
   ]
  },
  {
   "cell_type": "code",
   "execution_count": 35,
   "metadata": {},
   "outputs": [
    {
     "name": "stdout",
     "output_type": "stream",
     "text": [
      "INFO: 917 VI results found\n"
     ]
    },
    {
     "data": {
      "text/html": [
       "<div>\n",
       "<style scoped>\n",
       "    .dataframe tbody tr th:only-of-type {\n",
       "        vertical-align: middle;\n",
       "    }\n",
       "\n",
       "    .dataframe tbody tr th {\n",
       "        vertical-align: top;\n",
       "    }\n",
       "\n",
       "    .dataframe thead th {\n",
       "        text-align: right;\n",
       "    }\n",
       "</style>\n",
       "<table border=\"1\" class=\"dataframe\">\n",
       "  <thead>\n",
       "    <tr style=\"text-align: right;\">\n",
       "      <th></th>\n",
       "      <th>TARGETID</th>\n",
       "      <th>Redrock z</th>\n",
       "      <th>best z</th>\n",
       "      <th>best quality</th>\n",
       "      <th>Redrock spectype</th>\n",
       "      <th>best spectype</th>\n",
       "      <th>all VI issues</th>\n",
       "      <th>all VI comments</th>\n",
       "      <th>merger comment</th>\n",
       "      <th>N_VI</th>\n",
       "      <th>...</th>\n",
       "      <th>FIBER</th>\n",
       "      <th>FLUX_G</th>\n",
       "      <th>FLUX_R</th>\n",
       "      <th>FLUX_Z</th>\n",
       "      <th>FIBERFLUX_G</th>\n",
       "      <th>FIBERFLUX_R</th>\n",
       "      <th>FIBERFLUX_Z</th>\n",
       "      <th>MW_TRANSMISSION_G</th>\n",
       "      <th>MW_TRANSMISSION_R</th>\n",
       "      <th>MW_TRANSMISSION_Z</th>\n",
       "    </tr>\n",
       "  </thead>\n",
       "  <tbody>\n",
       "    <tr>\n",
       "      <th>0</th>\n",
       "      <td>35185929937227607</td>\n",
       "      <td>1.4995</td>\n",
       "      <td>1.49950</td>\n",
       "      <td>1.0</td>\n",
       "      <td>GALAXY</td>\n",
       "      <td>GALAXY</td>\n",
       "      <td>--</td>\n",
       "      <td>Poor noise subtraction  Maybe OII correct but...</td>\n",
       "      <td>None</td>\n",
       "      <td>5</td>\n",
       "      <td>...</td>\n",
       "      <td>696</td>\n",
       "      <td>0.728820</td>\n",
       "      <td>0.730633</td>\n",
       "      <td>1.221301</td>\n",
       "      <td>0.566604</td>\n",
       "      <td>0.568014</td>\n",
       "      <td>0.949472</td>\n",
       "      <td>0.916734</td>\n",
       "      <td>0.943119</td>\n",
       "      <td>0.967773</td>\n",
       "    </tr>\n",
       "    <tr>\n",
       "      <th>1</th>\n",
       "      <td>35185929937228335</td>\n",
       "      <td>0.4102</td>\n",
       "      <td>0.41020</td>\n",
       "      <td>3.6</td>\n",
       "      <td>GALAXY</td>\n",
       "      <td>GALAXY</td>\n",
       "      <td>--</td>\n",
       "      <td>--</td>\n",
       "      <td>none</td>\n",
       "      <td>5</td>\n",
       "      <td>...</td>\n",
       "      <td>657</td>\n",
       "      <td>0.228894</td>\n",
       "      <td>0.745470</td>\n",
       "      <td>1.842765</td>\n",
       "      <td>0.178230</td>\n",
       "      <td>0.580468</td>\n",
       "      <td>1.434888</td>\n",
       "      <td>0.916849</td>\n",
       "      <td>0.943198</td>\n",
       "      <td>0.967819</td>\n",
       "    </tr>\n",
       "    <tr>\n",
       "      <th>2</th>\n",
       "      <td>35185929937229340</td>\n",
       "      <td>1.4944</td>\n",
       "      <td>1.49440</td>\n",
       "      <td>4.0</td>\n",
       "      <td>QSO</td>\n",
       "      <td>QSO</td>\n",
       "      <td>--</td>\n",
       "      <td>--</td>\n",
       "      <td>none</td>\n",
       "      <td>5</td>\n",
       "      <td>...</td>\n",
       "      <td>652</td>\n",
       "      <td>2.102620</td>\n",
       "      <td>4.026039</td>\n",
       "      <td>6.276346</td>\n",
       "      <td>1.635143</td>\n",
       "      <td>3.130926</td>\n",
       "      <td>4.880920</td>\n",
       "      <td>0.917295</td>\n",
       "      <td>0.943508</td>\n",
       "      <td>0.967997</td>\n",
       "    </tr>\n",
       "    <tr>\n",
       "      <th>3</th>\n",
       "      <td>35185929941418536</td>\n",
       "      <td>1.0804</td>\n",
       "      <td>1.08032</td>\n",
       "      <td>3.8</td>\n",
       "      <td>GALAXY</td>\n",
       "      <td>GALAXY</td>\n",
       "      <td>--</td>\n",
       "      <td>Both galaxy and QSO in spectrum</td>\n",
       "      <td>none</td>\n",
       "      <td>5</td>\n",
       "      <td>...</td>\n",
       "      <td>194</td>\n",
       "      <td>1.567732</td>\n",
       "      <td>2.329047</td>\n",
       "      <td>4.268086</td>\n",
       "      <td>1.221243</td>\n",
       "      <td>1.814298</td>\n",
       "      <td>3.324784</td>\n",
       "      <td>0.917957</td>\n",
       "      <td>0.943966</td>\n",
       "      <td>0.968260</td>\n",
       "    </tr>\n",
       "    <tr>\n",
       "      <th>4</th>\n",
       "      <td>35185929941418791</td>\n",
       "      <td>0.0002</td>\n",
       "      <td>0.00020</td>\n",
       "      <td>3.0</td>\n",
       "      <td>STAR</td>\n",
       "      <td>STAR</td>\n",
       "      <td>--</td>\n",
       "      <td>Large noise</td>\n",
       "      <td>None</td>\n",
       "      <td>5</td>\n",
       "      <td>...</td>\n",
       "      <td>228</td>\n",
       "      <td>0.839756</td>\n",
       "      <td>2.391115</td>\n",
       "      <td>4.388883</td>\n",
       "      <td>0.654225</td>\n",
       "      <td>1.862836</td>\n",
       "      <td>3.419229</td>\n",
       "      <td>0.918313</td>\n",
       "      <td>0.944213</td>\n",
       "      <td>0.968401</td>\n",
       "    </tr>\n",
       "    <tr>\n",
       "      <th>5</th>\n",
       "      <td>35185929941419181</td>\n",
       "      <td>0.4586</td>\n",
       "      <td>0.45860</td>\n",
       "      <td>1.0</td>\n",
       "      <td>GALAXY</td>\n",
       "      <td>GALAXY</td>\n",
       "      <td>--</td>\n",
       "      <td>Poor noise subtraction at 4400. Splice error 5...</td>\n",
       "      <td>None</td>\n",
       "      <td>5</td>\n",
       "      <td>...</td>\n",
       "      <td>53</td>\n",
       "      <td>0.239351</td>\n",
       "      <td>0.855025</td>\n",
       "      <td>1.875840</td>\n",
       "      <td>0.186145</td>\n",
       "      <td>0.664957</td>\n",
       "      <td>1.458849</td>\n",
       "      <td>0.916342</td>\n",
       "      <td>0.942847</td>\n",
       "      <td>0.967617</td>\n",
       "    </tr>\n",
       "    <tr>\n",
       "      <th>6</th>\n",
       "      <td>35185929941419381</td>\n",
       "      <td>0.9357</td>\n",
       "      <td>0.93570</td>\n",
       "      <td>4.0</td>\n",
       "      <td>GALAXY</td>\n",
       "      <td>QSO</td>\n",
       "      <td>C</td>\n",
       "      <td>--</td>\n",
       "      <td>None</td>\n",
       "      <td>5</td>\n",
       "      <td>...</td>\n",
       "      <td>211</td>\n",
       "      <td>4.135710</td>\n",
       "      <td>4.465388</td>\n",
       "      <td>7.363845</td>\n",
       "      <td>3.221942</td>\n",
       "      <td>3.478779</td>\n",
       "      <td>5.736834</td>\n",
       "      <td>0.917467</td>\n",
       "      <td>0.943627</td>\n",
       "      <td>0.968065</td>\n",
       "    </tr>\n",
       "    <tr>\n",
       "      <th>7</th>\n",
       "      <td>35185929941420031</td>\n",
       "      <td>1.5005</td>\n",
       "      <td>1.50050</td>\n",
       "      <td>1.0</td>\n",
       "      <td>GALAXY</td>\n",
       "      <td>GALAXY</td>\n",
       "      <td>--</td>\n",
       "      <td>--</td>\n",
       "      <td>None</td>\n",
       "      <td>5</td>\n",
       "      <td>...</td>\n",
       "      <td>94</td>\n",
       "      <td>0.483594</td>\n",
       "      <td>0.929053</td>\n",
       "      <td>1.420704</td>\n",
       "      <td>0.376337</td>\n",
       "      <td>0.722996</td>\n",
       "      <td>1.105602</td>\n",
       "      <td>0.918703</td>\n",
       "      <td>0.944483</td>\n",
       "      <td>0.968556</td>\n",
       "    </tr>\n",
       "    <tr>\n",
       "      <th>8</th>\n",
       "      <td>35185929941420850</td>\n",
       "      <td>0.0005</td>\n",
       "      <td>0.00050</td>\n",
       "      <td>4.0</td>\n",
       "      <td>STAR</td>\n",
       "      <td>STAR</td>\n",
       "      <td>--</td>\n",
       "      <td>--</td>\n",
       "      <td>None</td>\n",
       "      <td>5</td>\n",
       "      <td>...</td>\n",
       "      <td>248</td>\n",
       "      <td>1.739346</td>\n",
       "      <td>3.288057</td>\n",
       "      <td>4.919703</td>\n",
       "      <td>1.354533</td>\n",
       "      <td>2.560606</td>\n",
       "      <td>3.831267</td>\n",
       "      <td>0.917302</td>\n",
       "      <td>0.943513</td>\n",
       "      <td>0.967999</td>\n",
       "    </tr>\n",
       "    <tr>\n",
       "      <th>9</th>\n",
       "      <td>35185929941421006</td>\n",
       "      <td>0.0080</td>\n",
       "      <td>0.00834</td>\n",
       "      <td>2.0</td>\n",
       "      <td>GALAXY</td>\n",
       "      <td>STAR</td>\n",
       "      <td>--</td>\n",
       "      <td>--</td>\n",
       "      <td>Low z no big galaxy in image</td>\n",
       "      <td>5</td>\n",
       "      <td>...</td>\n",
       "      <td>232</td>\n",
       "      <td>0.924085</td>\n",
       "      <td>1.405844</td>\n",
       "      <td>1.309818</td>\n",
       "      <td>0.719449</td>\n",
       "      <td>1.094524</td>\n",
       "      <td>1.019763</td>\n",
       "      <td>0.917224</td>\n",
       "      <td>0.943459</td>\n",
       "      <td>0.967969</td>\n",
       "    </tr>\n",
       "  </tbody>\n",
       "</table>\n",
       "<p>10 rows × 23 columns</p>\n",
       "</div>"
      ],
      "text/plain": [
       "            TARGETID  Redrock z   best z  best quality Redrock spectype  \\\n",
       "0  35185929937227607     1.4995  1.49950           1.0           GALAXY   \n",
       "1  35185929937228335     0.4102  0.41020           3.6           GALAXY   \n",
       "2  35185929937229340     1.4944  1.49440           4.0              QSO   \n",
       "3  35185929941418536     1.0804  1.08032           3.8           GALAXY   \n",
       "4  35185929941418791     0.0002  0.00020           3.0             STAR   \n",
       "5  35185929941419181     0.4586  0.45860           1.0           GALAXY   \n",
       "6  35185929941419381     0.9357  0.93570           4.0           GALAXY   \n",
       "7  35185929941420031     1.5005  1.50050           1.0           GALAXY   \n",
       "8  35185929941420850     0.0005  0.00050           4.0             STAR   \n",
       "9  35185929941421006     0.0080  0.00834           2.0           GALAXY   \n",
       "\n",
       "  best spectype all VI issues  \\\n",
       "0        GALAXY            --   \n",
       "1        GALAXY            --   \n",
       "2           QSO            --   \n",
       "3        GALAXY            --   \n",
       "4          STAR            --   \n",
       "5        GALAXY            --   \n",
       "6           QSO             C   \n",
       "7        GALAXY            --   \n",
       "8          STAR            --   \n",
       "9          STAR            --   \n",
       "\n",
       "                                     all VI comments  \\\n",
       "0   Poor noise subtraction  Maybe OII correct but...   \n",
       "1                                                 --   \n",
       "2                                                 --   \n",
       "3                   Both galaxy and QSO in spectrum    \n",
       "4                                       Large noise    \n",
       "5  Poor noise subtraction at 4400. Splice error 5...   \n",
       "6                                                 --   \n",
       "7                                                 --   \n",
       "8                                                 --   \n",
       "9                                                 --   \n",
       "\n",
       "                 merger comment  N_VI  ...  FIBER    FLUX_G    FLUX_R  \\\n",
       "0                          None     5  ...    696  0.728820  0.730633   \n",
       "1                          none     5  ...    657  0.228894  0.745470   \n",
       "2                          none     5  ...    652  2.102620  4.026039   \n",
       "3                          none     5  ...    194  1.567732  2.329047   \n",
       "4                          None     5  ...    228  0.839756  2.391115   \n",
       "5                          None     5  ...     53  0.239351  0.855025   \n",
       "6                          None     5  ...    211  4.135710  4.465388   \n",
       "7                          None     5  ...     94  0.483594  0.929053   \n",
       "8                          None     5  ...    248  1.739346  3.288057   \n",
       "9  Low z no big galaxy in image     5  ...    232  0.924085  1.405844   \n",
       "\n",
       "     FLUX_Z  FIBERFLUX_G  FIBERFLUX_R  FIBERFLUX_Z  MW_TRANSMISSION_G  \\\n",
       "0  1.221301     0.566604     0.568014     0.949472           0.916734   \n",
       "1  1.842765     0.178230     0.580468     1.434888           0.916849   \n",
       "2  6.276346     1.635143     3.130926     4.880920           0.917295   \n",
       "3  4.268086     1.221243     1.814298     3.324784           0.917957   \n",
       "4  4.388883     0.654225     1.862836     3.419229           0.918313   \n",
       "5  1.875840     0.186145     0.664957     1.458849           0.916342   \n",
       "6  7.363845     3.221942     3.478779     5.736834           0.917467   \n",
       "7  1.420704     0.376337     0.722996     1.105602           0.918703   \n",
       "8  4.919703     1.354533     2.560606     3.831267           0.917302   \n",
       "9  1.309818     0.719449     1.094524     1.019763           0.917224   \n",
       "\n",
       "   MW_TRANSMISSION_R  MW_TRANSMISSION_Z  \n",
       "0           0.943119           0.967773  \n",
       "1           0.943198           0.967819  \n",
       "2           0.943508           0.967997  \n",
       "3           0.943966           0.968260  \n",
       "4           0.944213           0.968401  \n",
       "5           0.942847           0.967617  \n",
       "6           0.943627           0.968065  \n",
       "7           0.944483           0.968556  \n",
       "8           0.943513           0.967999  \n",
       "9           0.943459           0.967969  \n",
       "\n",
       "[10 rows x 23 columns]"
      ]
     },
     "execution_count": 35,
     "metadata": {},
     "output_type": "execute_result"
    }
   ],
   "source": [
    "f_vi = '/global/cfs/cdirs/desi/sv/vi/TruthTables/truth_table_QSO_v1.2.csv'\n",
    "vi = pd.read_csv(f_vi, header=0)\n",
    "print('INFO: {} VI results found'.format(len(vi)))\n",
    "vi[:10]"
   ]
  },
  {
   "cell_type": "code",
   "execution_count": 31,
   "metadata": {},
   "outputs": [],
   "source": [
    "bal = [('bal' in comment.lower())|('broad absorption' in comment.lower()) for comment in vi['all VI comments']]"
   ]
  },
  {
   "cell_type": "code",
   "execution_count": 33,
   "metadata": {},
   "outputs": [
    {
     "data": {
      "text/plain": [
       "41"
      ]
     },
     "execution_count": 33,
     "metadata": {},
     "output_type": "execute_result"
    }
   ],
   "source": [
    "np.array(bal).sum()"
   ]
  },
  {
   "cell_type": "code",
   "execution_count": 34,
   "metadata": {},
   "outputs": [
    {
     "data": {
      "text/plain": [
       "20"
      ]
     },
     "execution_count": 34,
     "metadata": {},
     "output_type": "execute_result"
    }
   ],
   "source": [
    "(bal&(vi['best spectype']=='QSO')).sum()"
   ]
  },
  {
   "cell_type": "code",
   "execution_count": 30,
   "metadata": {},
   "outputs": [
    {
     "data": {
      "text/plain": [
       "361"
      ]
     },
     "execution_count": 30,
     "metadata": {},
     "output_type": "execute_result"
    }
   ],
   "source": [
    "(vi['best spectype']=='QSO').sum()"
   ]
  },
  {
   "cell_type": "code",
   "execution_count": 21,
   "metadata": {},
   "outputs": [],
   "source": [
    "## Extract the information we want.\n",
    "tids = vi['TARGETID']\n",
    "z_vi = vi['best z']\n",
    "class_vi = vi['best spectype']\n",
    "secure = vi['best quality']>=2.5\n",
    "possible = (vi['best quality']>0) & (~secure)"
   ]
  },
  {
   "cell_type": "code",
   "execution_count": 22,
   "metadata": {},
   "outputs": [
    {
     "data": {
      "text/plain": [
       "{'GALAXY', 'QSO', 'STAR'}"
      ]
     },
     "execution_count": 22,
     "metadata": {},
     "output_type": "execute_result"
    }
   ],
   "source": [
    "set(class_vi)"
   ]
  },
  {
   "cell_type": "code",
   "execution_count": 23,
   "metadata": {},
   "outputs": [],
   "source": [
    "data = fits.open('/global/homes/j/jfarr/Projects/QuasarNET/data/MiniSV/SV0/1exp/MiniSV_data_1exp_00055626_SV0_QSO_lmax9800.fits')"
   ]
  },
  {
   "cell_type": "code",
   "execution_count": 24,
   "metadata": {},
   "outputs": [],
   "source": [
    "## Make sure that all of our VI objects are in the data file.\n",
    "w = np.in1d(tids,data[1].data['TARGETID'])\n",
    "assert w.sum()==len(tids)"
   ]
  },
  {
   "cell_type": "code",
   "execution_count": 25,
   "metadata": {},
   "outputs": [],
   "source": [
    "## Construct the dictionary needed for the truth file.\n",
    "tr_dict = {}\n",
    "tr_dict['TARGETID'] = tids\n",
    "tr_dict['Z_VI'] = z_vi\n",
    "\n",
    "tr_dict['SPID0'] = data[1].data['SPID0'][np.in1d(data[1].data['TARGETID'],tr_dict['TARGETID'])]\n",
    "tr_dict['SPID1'] = data[1].data['SPID1'][np.in1d(data[1].data['TARGETID'],tr_dict['TARGETID'])]\n",
    "tr_dict['SPID2'] = data[1].data['SPID2'][np.in1d(data[1].data['TARGETID'],tr_dict['TARGETID'])]\n",
    "\n",
    "class_vi_coded = np.zeros(class_vi.shape)\n",
    "class_vi_coded[class_vi=='QSO'] = 3\n",
    "class_vi_coded[class_vi=='GALAXY'] = 4\n",
    "class_vi_coded[class_vi=='STAR'] = 1\n",
    "tr_dict['CLASS_PERSON'] = class_vi_coded\n",
    "\n",
    "tr_dict['BAL_FLAG_VI'] = np.zeros(tr_dict['TARGETID'].shape)\n",
    "tr_dict['BI_CIV'] = np.zeros(tr_dict['TARGETID'].shape)\n",
    "\n",
    "confidences = np.zeros(secure.shape)\n",
    "confidences[secure] = 3\n",
    "confidences[possible] = 1\n",
    "tr_dict['Z_CONF_PERSON'] = confidences.astype('int')"
   ]
  },
  {
   "cell_type": "code",
   "execution_count": 26,
   "metadata": {},
   "outputs": [
    {
     "data": {
      "text/plain": [
       "{1.0, 3.0, 4.0}"
      ]
     },
     "execution_count": 26,
     "metadata": {},
     "output_type": "execute_result"
    }
   ],
   "source": [
    "set(tr_dict['CLASS_PERSON'])"
   ]
  },
  {
   "cell_type": "code",
   "execution_count": 27,
   "metadata": {},
   "outputs": [],
   "source": [
    "outname = '/global/homes/j/jfarr/Projects/QuasarNET/data/MiniSV/SV0//SV0_truth_tile68002_night20200315.fits'\n",
    "table = Table(tr_dict)\n",
    "table.write(outname, format='fits', overwrite=True)"
   ]
  },
  {
   "cell_type": "markdown",
   "metadata": {},
   "source": [
    "### Combine BAL catalogues together."
   ]
  },
  {
   "cell_type": "code",
   "execution_count": 18,
   "metadata": {},
   "outputs": [],
   "source": [
    "fi_bal_loc = '/global/cfs/cdirs/desi/users/martini/SV0/68002/'\n",
    "fi_bal_form = 'baltable-*-68002-20200315.fits'\n",
    "fi_out = '/global/homes/j/jfarr/Projects/QuasarNET_DESI/balfinder_results/balfinder_SV0_68002_20200315.fits'"
   ]
  },
  {
   "cell_type": "code",
   "execution_count": 19,
   "metadata": {},
   "outputs": [
    {
     "data": {
      "text/html": [
       "<i>Table length=5</i>\n",
       "<table id=\"table46913244475664\" class=\"table-striped table-bordered table-condensed\">\n",
       "<thead><tr><th>TARGETID</th><th>TARGET_RA</th><th>TARGET_DEC</th><th>Z</th><th>ZERR</th><th>ZWARN</th><th>PCA_COEFFS [5]</th><th>PCA_CHI2</th><th>BAL_PROB</th><th>BI_CIV</th><th>ERR_BI_CIV</th><th>NCIV_2000</th><th>VMIN_CIV_2000 [5]</th><th>VMAX_CIV_2000 [5]</th><th>POSMIN_CIV_2000 [5]</th><th>FMIN_CIV_2000 [5]</th><th>AI_CIV</th><th>ERR_AI_CIV</th><th>NCIV_450</th><th>VMIN_CIV_450 [17]</th><th>VMAX_CIV_450 [17]</th><th>POSMIN_CIV_450 [17]</th><th>FMIN_CIV_450 [17]</th><th>BI_SIIV</th><th>ERR_BI_SIIV</th><th>NSIIV_2000</th><th>VMIN_SIIV_2000 [5]</th><th>VMAX_SIIV_2000 [5]</th><th>POSMIN_SIIV_2000 [5]</th><th>FMIN_SIIV_2000 [5]</th><th>AI_SIIV</th><th>ERR_AI_SIIV</th><th>NSIIV_450</th><th>VMIN_SIIV_450 [17]</th><th>VMAX_SIIV_450 [17]</th><th>POSMIN_SIIV_450 [17]</th><th>FMIN_SIIV_450 [17]</th></tr></thead>\n",
       "<thead><tr><th>int64</th><th>float32</th><th>float32</th><th>float32</th><th>float32</th><th>float32</th><th>float32</th><th>float32</th><th>float32</th><th>float32</th><th>float32</th><th>int32</th><th>float32</th><th>float32</th><th>float32</th><th>float32</th><th>float32</th><th>float32</th><th>int32</th><th>float32</th><th>float32</th><th>float32</th><th>float32</th><th>float32</th><th>float32</th><th>int32</th><th>float32</th><th>float32</th><th>float32</th><th>float32</th><th>float32</th><th>float32</th><th>int32</th><th>float32</th><th>float32</th><th>float32</th><th>float32</th></tr></thead>\n",
       "<tr><td>35185941920350460</td><td>200.71733</td><td>7.389993</td><td>1.8865774</td><td>0.00018747688</td><td>0.0</td><td>50.01192 .. -2.4200065</td><td>1.314995</td><td>0.0</td><td>0.0</td><td>0.0</td><td>0</td><td>-1.0 .. -1.0</td><td>-1.0 .. -1.0</td><td>-1.0 .. -1.0</td><td>-1.0 .. -1.0</td><td>687.1845</td><td>18.479765</td><td>3</td><td>17278.844 .. -1.0</td><td>17815.229 .. -1.0</td><td>17761.59 .. -1.0</td><td>-0.047162425 .. -1.0</td><td>0.0</td><td>0.0</td><td>0</td><td>-1.0 .. -1.0</td><td>-1.0 .. -1.0</td><td>-1.0 .. -1.0</td><td>-1.0 .. -1.0</td><td>0.0</td><td>0.0</td><td>0</td><td>-1.0 .. -1.0</td><td>-1.0 .. -1.0</td><td>-1.0 .. -1.0</td><td>-1.0 .. -1.0</td></tr>\n",
       "<tr><td>35185941920351213</td><td>200.84016</td><td>7.438364</td><td>3.1780255</td><td>0.00028696412</td><td>0.0</td><td>25.421469 .. 0.301946</td><td>1.3252279</td><td>0.0</td><td>0.0</td><td>0.0</td><td>0</td><td>-1.0 .. -1.0</td><td>-1.0 .. -1.0</td><td>-1.0 .. -1.0</td><td>-1.0 .. -1.0</td><td>80.87148</td><td>7.758924</td><td>3</td><td>22446.428 .. -1.0</td><td>22965.246 .. -1.0</td><td>22742.896 .. -1.0</td><td>-0.22864194 .. -1.0</td><td>0.0</td><td>0.0</td><td>0</td><td>-1.0 .. -1.0</td><td>-1.0 .. -1.0</td><td>-1.0 .. -1.0</td><td>-1.0 .. -1.0</td><td>0.0</td><td>0.0</td><td>0</td><td>-1.0 .. -1.0</td><td>-1.0 .. -1.0</td><td>-1.0 .. -1.0</td><td>-1.0 .. -1.0</td></tr>\n",
       "<tr><td>35185941920351477</td><td>200.7996</td><td>7.455114</td><td>1.9473405</td><td>0.00018505206</td><td>0.0</td><td>29.595219 .. 0.32942116</td><td>1.2865039</td><td>0.0</td><td>0.0</td><td>0.0</td><td>0</td><td>-1.0 .. -1.0</td><td>-1.0 .. -1.0</td><td>-1.0 .. -1.0</td><td>-1.0 .. -1.0</td><td>0.0</td><td>0.0</td><td>0</td><td>-1.0 .. -1.0</td><td>-1.0 .. -1.0</td><td>-1.0 .. -1.0</td><td>-1.0 .. -1.0</td><td>0.0</td><td>0.0</td><td>0</td><td>-1.0 .. -1.0</td><td>-1.0 .. -1.0</td><td>-1.0 .. -1.0</td><td>-1.0 .. -1.0</td><td>0.0</td><td>0.0</td><td>0</td><td>-1.0 .. -1.0</td><td>-1.0 .. -1.0</td><td>-1.0 .. -1.0</td><td>-1.0 .. -1.0</td></tr>\n",
       "<tr><td>35185941920352479</td><td>200.80397</td><td>7.5122623</td><td>2.3024974</td><td>0.00038030322</td><td>0.0</td><td>14.54834 .. 0.24404895</td><td>1.2991899</td><td>0.0</td><td>0.0</td><td>0.0</td><td>0</td><td>-1.0 .. -1.0</td><td>-1.0 .. -1.0</td><td>-1.0 .. -1.0</td><td>-1.0 .. -1.0</td><td>0.0</td><td>0.0</td><td>0</td><td>-1.0 .. -1.0</td><td>-1.0 .. -1.0</td><td>-1.0 .. -1.0</td><td>-1.0 .. -1.0</td><td>0.0</td><td>0.0</td><td>0</td><td>-1.0 .. -1.0</td><td>-1.0 .. -1.0</td><td>-1.0 .. -1.0</td><td>-1.0 .. -1.0</td><td>0.0</td><td>0.0</td><td>0</td><td>-1.0 .. -1.0</td><td>-1.0 .. -1.0</td><td>-1.0 .. -1.0</td><td>-1.0 .. -1.0</td></tr>\n",
       "<tr><td>35185941920352484</td><td>200.88284</td><td>7.513208</td><td>3.806303</td><td>0.00023492187</td><td>0.0</td><td>15.568284 .. 0.95778686</td><td>1.5597934</td><td>0.0</td><td>0.0</td><td>0.0</td><td>0</td><td>-1.0 .. -1.0</td><td>-1.0 .. -1.0</td><td>-1.0 .. -1.0</td><td>-1.0 .. -1.0</td><td>0.0</td><td>0.0</td><td>0</td><td>-1.0 .. -1.0</td><td>-1.0 .. -1.0</td><td>-1.0 .. -1.0</td><td>-1.0 .. -1.0</td><td>0.0</td><td>0.0</td><td>0</td><td>-1.0 .. -1.0</td><td>-1.0 .. -1.0</td><td>-1.0 .. -1.0</td><td>-1.0 .. -1.0</td><td>0.0</td><td>0.0</td><td>0</td><td>-1.0 .. -1.0</td><td>-1.0 .. -1.0</td><td>-1.0 .. -1.0</td><td>-1.0 .. -1.0</td></tr>\n",
       "</table>"
      ],
      "text/plain": [
       "<Table length=5>\n",
       "     TARGETID     TARGET_RA ... POSMIN_SIIV_450 [17] FMIN_SIIV_450 [17]\n",
       "      int64        float32  ...       float32             float32      \n",
       "----------------- --------- ... -------------------- ------------------\n",
       "35185941920350460 200.71733 ...         -1.0 .. -1.0       -1.0 .. -1.0\n",
       "35185941920351213 200.84016 ...         -1.0 .. -1.0       -1.0 .. -1.0\n",
       "35185941920351477  200.7996 ...         -1.0 .. -1.0       -1.0 .. -1.0\n",
       "35185941920352479 200.80397 ...         -1.0 .. -1.0       -1.0 .. -1.0\n",
       "35185941920352484 200.88284 ...         -1.0 .. -1.0       -1.0 .. -1.0"
      ]
     },
     "execution_count": 19,
     "metadata": {},
     "output_type": "execute_result"
    }
   ],
   "source": [
    "import glob\n",
    "fi_bal = glob.glob(fi_bal_loc+fi_bal_form)\n",
    "data = []\n",
    "for f_bal in fi_bal:\n",
    "    bal = fits.open(f_bal)\n",
    "    f_data = np.array(bal[1].data)\n",
    "    data.append(f_data)\n",
    "data = np.concatenate(data)\n",
    "table = Table(data)\n",
    "table[:5]"
   ]
  },
  {
   "cell_type": "code",
   "execution_count": 20,
   "metadata": {},
   "outputs": [],
   "source": [
    "table.write(fi_out, format='fits', overwrite=True)"
   ]
  },
  {
   "cell_type": "code",
   "execution_count": null,
   "metadata": {},
   "outputs": [],
   "source": []
  },
  {
   "cell_type": "code",
   "execution_count": null,
   "metadata": {},
   "outputs": [],
   "source": []
  },
  {
   "cell_type": "markdown",
   "metadata": {
    "jupyter": {
     "outputs_hidden": true
    }
   },
   "source": [
    "### Make a directory structure with targetids in\n",
    "For each (plate,mjd) pair, make a directory targetids/{plate}/, and create a file within it targetids-plate-mjd.txt"
   ]
  },
  {
   "cell_type": "code",
   "execution_count": 37,
   "metadata": {},
   "outputs": [],
   "source": [
    "## Get all spectra for objects in DR12Q supserset\n",
    "w = np.in1d(spall_dr12[1].data['THING_ID'],sdr12q[1].data['THING_ID'])\n",
    "w &= (spall_dr12[1].data['THING_ID']!=-1)"
   ]
  },
  {
   "cell_type": "code",
   "execution_count": 39,
   "metadata": {},
   "outputs": [
    {
     "name": "stdout",
     "output_type": "stream",
     "text": [
      "2493\n"
     ]
    }
   ],
   "source": [
    "## Get the set of (plate,mjd) pairs that cover these spectra\n",
    "plate = spall_dr12[1].data['PLATE'][w].astype('i8')\n",
    "mjd = spall_dr12[1].data['MJD'][w].astype('i8')\n",
    "fiberid = spall_dr12[1].data['FIBERID'][w].astype('i8')\n",
    "\n",
    "pm_set = set([(p,m) for p,m in zip(plate,mjd)])\n",
    "print(len(pm_set))"
   ]
  },
  {
   "cell_type": "code",
   "execution_count": 40,
   "metadata": {},
   "outputs": [],
   "source": [
    "## Get the list of targetids for these spectra\n",
    "targetids = platemjdfiber2targetid(plate,mjd,fiberid)"
   ]
  },
  {
   "cell_type": "code",
   "execution_count": 46,
   "metadata": {},
   "outputs": [
    {
     "name": "stdout",
     "output_type": "stream",
     "text": [
      "100.00%\r"
     ]
    }
   ],
   "source": [
    "outpath = '/global/cfs/projectdirs/desi/users/jfarr/rrboss_dr12/'\n",
    "for i,(p,m) in enumerate(pm_set):\n",
    "    w = ((np.array(list(zip(plate,mjd)))==(p,m)).all(axis=1))\n",
    "    pm_targetids = targetids[w]\n",
    "    dirname = outpath+'/targetids/{}'.format(p)\n",
    "    if not os.path.isdir(dirname):\n",
    "        os.mkdir(dirname)\n",
    "    with open(dirname+'/targetids-{}-{}.txt'.format(p,m),'w') as text_file:\n",
    "        for t in pm_targetids[:-1]:\n",
    "            text_file.write('{},'.format(t))\n",
    "        text_file.write('{}'.format(pm_targetids[-1]))\n",
    "    print('{:.2%}'.format((i+1)/len(pm_set)),end='\\r')"
   ]
  },
  {
   "cell_type": "markdown",
   "metadata": {},
   "source": [
    "### Combine multiple SQUEzE outputs, removing duplicates in each file."
   ]
  },
  {
   "cell_type": "code",
   "execution_count": 102,
   "metadata": {},
   "outputs": [
    {
     "name": "stdout",
     "output_type": "stream",
     "text": [
      "10\n"
     ]
    }
   ],
   "source": [
    "fi_sq = glob.glob('/project/projectdirs/desi/users/iprafols/SQUEzE/Mini-SV/68002/')\n",
    "out_filename = '../sq_results/sq_SV0_00055628.fits'\n",
    "print(len(fi_sq))"
   ]
  },
  {
   "cell_type": "code",
   "execution_count": 103,
   "metadata": {},
   "outputs": [
    {
     "data": {
      "text/html": [
       "&lt;Table length=5&gt;\n",
       "<table id=\"table46913207573640\" class=\"table-striped table-bordered table-condensed\">\n",
       "<thead><tr><th>TARGETID</th><th>TARGET_RA</th><th>TARGET_DEC</th><th>CMX_TARGET</th><th>SPECID</th><th>LYB_RATIO</th><th>LYB_RATIO_SN</th><th>LYB_RATIO2</th><th>LYA_RATIO</th><th>LYA_RATIO_SN</th><th>LYA_RATIO2</th><th>SIIV_RATIO</th><th>SIIV_RATIO_SN</th><th>SIIV_RATIO2</th><th>CIV_RATIO</th><th>CIV_RATIO_SN</th><th>CIV_RATIO2</th><th>CIV_BLUE_RATIO</th><th>CIV_BLUE_RATIO_SN</th><th>CIV_BLUE_RATIO2</th><th>CIV_RED_RATIO</th><th>CIV_RED_RATIO_SN</th><th>CIV_RED_RATIO2</th><th>CIII_RATIO</th><th>CIII_RATIO_SN</th><th>CIII_RATIO2</th><th>NEIV_RATIO</th><th>NEIV_RATIO_SN</th><th>NEIV_RATIO2</th><th>MGII_RATIO</th><th>MGII_RATIO_SN</th><th>MGII_RATIO2</th><th>NEV_RATIO</th><th>NEV_RATIO_SN</th><th>NEV_RATIO2</th><th>OII_RATIO</th><th>OII_RATIO_SN</th><th>OII_RATIO2</th><th>HB_RATIO</th><th>HB_RATIO_SN</th><th>HB_RATIO2</th><th>OIII_RATIO</th><th>OIII_RATIO_SN</th><th>OIII_RATIO2</th><th>HA_RATIO</th><th>HA_RATIO_SN</th><th>HA_RATIO2</th><th>Z_TRY</th><th>PEAK_SIGNIFICANCE</th><th>ASSUMED_LINE</th><th>PROB_CLASS1</th><th>PROB_CLASS3</th><th>PROB_CLASS30</th><th>PROB_CLASS35</th><th>PROB_CLASS45</th><th>PROB_CLASS305</th><th>PROB_CLASS4</th><th>CLASS_PREDICTED</th><th>PROB</th><th>DUPLICATED</th></tr></thead>\n",
       "<thead><tr><th>int64</th><th>float64</th><th>float64</th><th>int64</th><th>int64</th><th>float64</th><th>float64</th><th>float64</th><th>float64</th><th>float64</th><th>float64</th><th>float64</th><th>float64</th><th>float64</th><th>float64</th><th>float64</th><th>float64</th><th>float64</th><th>float64</th><th>float64</th><th>float64</th><th>float64</th><th>float64</th><th>float64</th><th>float64</th><th>float64</th><th>float64</th><th>float64</th><th>float64</th><th>float64</th><th>float64</th><th>float64</th><th>float64</th><th>float64</th><th>float64</th><th>float64</th><th>float64</th><th>float64</th><th>float64</th><th>float64</th><th>float64</th><th>float64</th><th>float64</th><th>float64</th><th>float64</th><th>float64</th><th>float64</th><th>float64</th><th>float64</th><th>str15</th><th>float64</th><th>float64</th><th>float64</th><th>float64</th><th>float64</th><th>float64</th><th>float64</th><th>int64</th><th>float64</th><th>bool</th></tr></thead>\n",
       "<tr><td>35185923930984962</td><td>201.35337359935357</td><td>6.822608470758955</td><td>9007199254744064</td><td>35185923930984962</td><td>nan</td><td>nan</td><td>nan</td><td>nan</td><td>nan</td><td>nan</td><td>nan</td><td>nan</td><td>nan</td><td>nan</td><td>nan</td><td>nan</td><td>nan</td><td>nan</td><td>nan</td><td>nan</td><td>nan</td><td>nan</td><td>nan</td><td>nan</td><td>nan</td><td>0.5819250405393256</td><td>-1.5830266435216216</td><td>0.20766097718733595</td><td>0.9407725119872348</td><td>-0.576219410651012</td><td>0.040108215755704314</td><td>0.8806976838225048</td><td>-1.032342902905168</td><td>0.11105520546150553</td><td>0.9479317416965869</td><td>-0.6755523535550004</td><td>0.04446361985042972</td><td>1.0961437322685887</td><td>3.409547881567021</td><td>0.010333974427315505</td><td>0.9902181967604592</td><td>-0.12758476985558515</td><td>0.010333974427315505</td><td>nan</td><td>nan</td><td>nan</td><td>0.8916177052356149</td><td>8.26252326317139</td><td>hb</td><td>0.27184817245193305</td><td>0.09727301895671307</td><td>0.008371360778606831</td><td>0.15744466789172587</td><td>0.25017811667940293</td><td>0.18032529523585225</td><td>0.03455936800576612</td><td>1</td><td>0.1056443797353199</td><td>False</td></tr>\n",
       "<tr><td>35185923930985294</td><td>201.32750079573955</td><td>6.8426562871904375</td><td>1024</td><td>35185923930985294</td><td>nan</td><td>nan</td><td>nan</td><td>nan</td><td>nan</td><td>nan</td><td>nan</td><td>nan</td><td>nan</td><td>nan</td><td>nan</td><td>nan</td><td>nan</td><td>nan</td><td>nan</td><td>nan</td><td>nan</td><td>nan</td><td>nan</td><td>nan</td><td>nan</td><td>nan</td><td>nan</td><td>nan</td><td>nan</td><td>nan</td><td>nan</td><td>nan</td><td>nan</td><td>nan</td><td>nan</td><td>nan</td><td>nan</td><td>nan</td><td>nan</td><td>nan</td><td>nan</td><td>nan</td><td>nan</td><td>nan</td><td>nan</td><td>nan</td><td>nan</td><td>nan</td><td>none</td><td>nan</td><td>nan</td><td>nan</td><td>nan</td><td>nan</td><td>nan</td><td>nan</td><td>-1</td><td>nan</td><td>False</td></tr>\n",
       "<tr><td>35185923930985431</td><td>201.2808097302484</td><td>6.846880974472636</td><td>8589935139</td><td>35185923930985431</td><td>nan</td><td>nan</td><td>nan</td><td>nan</td><td>nan</td><td>nan</td><td>nan</td><td>nan</td><td>nan</td><td>nan</td><td>nan</td><td>nan</td><td>nan</td><td>nan</td><td>nan</td><td>nan</td><td>nan</td><td>nan</td><td>nan</td><td>nan</td><td>nan</td><td>1.0072277290067426</td><td>0.4947947935190738</td><td>0.010775657357436023</td><td>1.0156651922920361</td><td>1.7423515056361731</td><td>0.03258241942392968</td><td>1.0404004509364868</td><td>2.9797569028753017</td><td>0.0011272592199203667</td><td>1.0010543698885812</td><td>0.09121597220484155</td><td>0.014885175056405573</td><td>1.0239568940370138</td><td>2.661329816464819</td><td>0.08520091750333368</td><td>0.9633122711325609</td><td>-2.279706576688966</td><td>0.08520091750333368</td><td>nan</td><td>nan</td><td>nan</td><td>0.9297058176706552</td><td>11.94845438212471</td><td>hb</td><td>0.5074075786297046</td><td>0.08438045451559383</td><td>0.006971029902958535</td><td>0.0919263030831775</td><td>0.20694747304387293</td><td>0.08386778034232445</td><td>0.018499380482368478</td><td>1</td><td>0.09135148441855236</td><td>False</td></tr>\n",
       "<tr><td>35185923930986052</td><td>201.2238856442244</td><td>6.864334846019875</td><td>4096</td><td>35185923930986052</td><td>nan</td><td>nan</td><td>nan</td><td>nan</td><td>nan</td><td>nan</td><td>nan</td><td>nan</td><td>nan</td><td>nan</td><td>nan</td><td>nan</td><td>nan</td><td>nan</td><td>nan</td><td>nan</td><td>nan</td><td>nan</td><td>nan</td><td>nan</td><td>nan</td><td>nan</td><td>nan</td><td>nan</td><td>nan</td><td>nan</td><td>nan</td><td>nan</td><td>nan</td><td>nan</td><td>nan</td><td>nan</td><td>nan</td><td>nan</td><td>nan</td><td>nan</td><td>nan</td><td>nan</td><td>nan</td><td>nan</td><td>nan</td><td>nan</td><td>nan</td><td>nan</td><td>none</td><td>nan</td><td>nan</td><td>nan</td><td>nan</td><td>nan</td><td>nan</td><td>nan</td><td>-1</td><td>nan</td><td>False</td></tr>\n",
       "<tr><td>35185923935177997</td><td>201.5024208514255</td><td>6.777666203513355</td><td>9007199254742016</td><td>35185923935177997</td><td>nan</td><td>nan</td><td>nan</td><td>nan</td><td>nan</td><td>nan</td><td>nan</td><td>nan</td><td>nan</td><td>nan</td><td>nan</td><td>nan</td><td>nan</td><td>nan</td><td>nan</td><td>nan</td><td>nan</td><td>nan</td><td>nan</td><td>nan</td><td>nan</td><td>nan</td><td>nan</td><td>nan</td><td>nan</td><td>nan</td><td>nan</td><td>nan</td><td>nan</td><td>nan</td><td>nan</td><td>nan</td><td>nan</td><td>nan</td><td>nan</td><td>nan</td><td>nan</td><td>nan</td><td>nan</td><td>nan</td><td>nan</td><td>nan</td><td>nan</td><td>nan</td><td>none</td><td>nan</td><td>nan</td><td>nan</td><td>nan</td><td>nan</td><td>nan</td><td>nan</td><td>-1</td><td>nan</td><td>False</td></tr>\n",
       "</table>"
      ],
      "text/plain": [
       "<Table length=5>\n",
       "     TARGETID         TARGET_RA      ...         PROB        DUPLICATED\n",
       "      int64            float64       ...       float64          bool   \n",
       "----------------- ------------------ ... ------------------- ----------\n",
       "35185923930984962 201.35337359935357 ...  0.1056443797353199      False\n",
       "35185923930985294 201.32750079573955 ...                 nan      False\n",
       "35185923930985431  201.2808097302484 ... 0.09135148441855236      False\n",
       "35185923930986052  201.2238856442244 ...                 nan      False\n",
       "35185923935177997  201.5024208514255 ...                 nan      False"
      ]
     },
     "execution_count": 103,
     "metadata": {},
     "output_type": "execute_result"
    }
   ],
   "source": [
    "tables = []\n",
    "for f_sq in fi_sq:\n",
    "    sq = fits.open(f_sq)\n",
    "    w = (~sq[1].data['DUPLICATED'])\n",
    "    f_table = Table(sq[1].data[w])\n",
    "    tables.append(f_table)\n",
    "table = vstack(tables)\n",
    "table.sort('TARGETID')\n",
    "table[:5]"
   ]
  },
  {
   "cell_type": "code",
   "execution_count": 104,
   "metadata": {},
   "outputs": [],
   "source": [
    "prihdr = fits.Header()\n",
    "prihdu = fits.PrimaryHDU(header=prihdr)\n",
    "table = fits.BinTableHDU(table)\n",
    "hdulist = fits.HDUList([prihdu, table])\n",
    "hdulist.writeto(out_filename,overwrite=True)\n",
    "hdulist.close()"
   ]
  },
  {
   "cell_type": "markdown",
   "metadata": {},
   "source": [
    "### Read the pipeline classes/redshifts from DR12 spall, and put all results into a simplified file."
   ]
  },
  {
   "cell_type": "code",
   "execution_count": 65,
   "metadata": {},
   "outputs": [
    {
     "data": {
      "text/plain": [
       "627751"
      ]
     },
     "execution_count": 65,
     "metadata": {},
     "output_type": "execute_result"
    }
   ],
   "source": [
    "w = np.in1d(spall_dr12[1].data['THING_ID'],sdr12q[1].data['THING_ID'])\n",
    "w &= (spall_dr12[1].data['THING_ID']!=-1)\n",
    "w.sum()"
   ]
  },
  {
   "cell_type": "code",
   "execution_count": 66,
   "metadata": {},
   "outputs": [],
   "source": [
    "plate = spall_dr12[1].data['PLATE'][w].astype('i8')\n",
    "mjd = spall_dr12[1].data['MJD'][w].astype('i8')\n",
    "fiberid = spall_dr12[1].data['FIBERID'][w].astype('i8')\n",
    "\n",
    "targetid = platemjdfiber2targetid(plate,mjd,fiberid)\n",
    "spectype = spall_dr12[1].data['CLASS'][w]\n",
    "z = spall_dr12[1].data['Z'][w]\n",
    "zwarn = spall_dr12[1].data['ZWARNING'][w]\n",
    "\n",
    "thing_id = [pmf2tid_dr12[(p,m,f)] for p,m,f in zip(plate,mjd,fiberid)]\n",
    "\n",
    "data_list = list(zip(targetid,spectype,z,zwarn,thing_id))\n",
    "dtype = [('TARGETID','i8'),('SPECTYPE','U8'),('Z','f8'),('ZWARN','i8'),('THING_ID_DR12','i8')]\n",
    "\n",
    "data = np.array(data_list,dtype=dtype)"
   ]
  },
  {
   "cell_type": "code",
   "execution_count": 67,
   "metadata": {},
   "outputs": [
    {
     "data": {
      "text/html": [
       "<i>Table length=5</i>\n",
       "<table id=\"table46924020539856\" class=\"table-striped table-bordered table-condensed\">\n",
       "<thead><tr><th>TARGETID</th><th>SPECTYPE</th><th>Z</th><th>ZWARN</th><th>THING_ID_DR12</th></tr></thead>\n",
       "<thead><tr><th>int64</th><th>str8</th><th>float64</th><th>int64</th><th>int64</th></tr></thead>\n",
       "<tr><td>3586551810016</td><td>QSO</td><td>2.2423312664031982</td><td>0</td><td>87897905</td></tr>\n",
       "<tr><td>3586551810018</td><td>QSO</td><td>2.259599208831787</td><td>0</td><td>96906927</td></tr>\n",
       "<tr><td>3586551810020</td><td>QSO</td><td>3.1812267303466797</td><td>0</td><td>96907939</td></tr>\n",
       "<tr><td>3586551810032</td><td>STAR</td><td>-0.0031940187327563763</td><td>4</td><td>87896919</td></tr>\n",
       "<tr><td>3586551810036</td><td>STAR</td><td>-0.00046957170707173645</td><td>0</td><td>87897024</td></tr>\n",
       "</table>"
      ],
      "text/plain": [
       "<Table length=5>\n",
       "   TARGETID   SPECTYPE            Z            ZWARN THING_ID_DR12\n",
       "    int64       str8           float64         int64     int64    \n",
       "------------- -------- ----------------------- ----- -------------\n",
       "3586551810016      QSO      2.2423312664031982     0      87897905\n",
       "3586551810018      QSO       2.259599208831787     0      96906927\n",
       "3586551810020      QSO      3.1812267303466797     0      96907939\n",
       "3586551810032     STAR  -0.0031940187327563763     4      87896919\n",
       "3586551810036     STAR -0.00046957170707173645     0      87897024"
      ]
     },
     "execution_count": 67,
     "metadata": {},
     "output_type": "execute_result"
    }
   ],
   "source": [
    "table = Table(data)\n",
    "table[:5]"
   ]
  },
  {
   "cell_type": "code",
   "execution_count": 68,
   "metadata": {},
   "outputs": [],
   "source": [
    "table.write('../dr12pipe_results/dr12pipe_sdr12q.fits',overwrite=True)"
   ]
  },
  {
   "cell_type": "markdown",
   "metadata": {},
   "source": [
    "### Do the same for DR14"
   ]
  },
  {
   "cell_type": "code",
   "execution_count": 82,
   "metadata": {},
   "outputs": [
    {
     "data": {
      "text/plain": [
       "627751"
      ]
     },
     "execution_count": 82,
     "metadata": {},
     "output_type": "execute_result"
    }
   ],
   "source": [
    "w = np.in1d(spall_dr12[1].data['THING_ID'],sdr12q[1].data['THING_ID'])\n",
    "w &= (spall_dr12[1].data['THING_ID']!=-1)\n",
    "w.sum()"
   ]
  },
  {
   "cell_type": "code",
   "execution_count": 83,
   "metadata": {},
   "outputs": [],
   "source": [
    "targetid_sdr12q = platemjdfiber2targetid(spall_dr12[1].data['PLATE'][w],spall_dr12[1].data['MJD'][w],spall_dr12[1].data['FIBERID'][w])\n",
    "targetid_dr14 = platemjdfiber2targetid(spall_dr14[1].data['PLATE'],spall_dr14[1].data['MJD'],spall_dr14[1].data['FIBERID'])\n",
    "w = np.in1d(targetid_dr14,targetid_sdr12q)"
   ]
  },
  {
   "cell_type": "code",
   "execution_count": 85,
   "metadata": {},
   "outputs": [],
   "source": [
    "plate = spall_dr14[1].data['PLATE'][w].astype('i8')\n",
    "mjd = spall_dr14[1].data['MJD'][w].astype('i8')\n",
    "fiberid = spall_dr14[1].data['FIBERID'][w].astype('i8')\n",
    "\n",
    "targetid = platemjdfiber2targetid(plate,mjd,fiberid)\n",
    "spectype = spall_dr14[1].data['CLASS'][w]\n",
    "z = spall_dr14[1].data['Z'][w]\n",
    "zwarn = spall_dr14[1].data['ZWARNING'][w]\n",
    "\n",
    "thing_id = [pmf2tid_dr12[(p,m,f)] for p,m,f in zip(plate,mjd,fiberid)]\n",
    "\n",
    "data_list = list(zip(targetid,spectype,z,zwarn,thing_id))\n",
    "dtype = [('TARGETID','i8'),('SPECTYPE','U8'),('Z','f8'),('ZWARN','i8'),('THING_ID_DR12','i8')]\n",
    "\n",
    "data = np.array(data_list,dtype=dtype)"
   ]
  },
  {
   "cell_type": "code",
   "execution_count": 86,
   "metadata": {},
   "outputs": [],
   "source": [
    "table.write('../dr14pipe_results/dr14pipe_sdr12q.fits',overwrite=True)"
   ]
  },
  {
   "cell_type": "code",
   "execution_count": null,
   "metadata": {},
   "outputs": [],
   "source": []
  }
 ],
 "metadata": {
  "kernelspec": {
   "display_name": "qnet",
   "language": "python",
   "name": "qnet"
  },
  "language_info": {
   "codemirror_mode": {
    "name": "ipython",
    "version": 3
   },
   "file_extension": ".py",
   "mimetype": "text/x-python",
   "name": "python",
   "nbconvert_exporter": "python",
   "pygments_lexer": "ipython3",
   "version": "3.7.6"
  }
 },
 "nbformat": 4,
 "nbformat_minor": 4
}
