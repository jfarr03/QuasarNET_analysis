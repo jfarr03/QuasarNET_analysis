{
 "cells": [
  {
   "cell_type": "markdown",
   "metadata": {},
   "source": [
    "## DESI Classifier Performance: BAL QSOs\n",
    "#### Plot to show performance at identifying QSOs with BAL features\n",
    "xxx"
   ]
  },
  {
   "cell_type": "code",
   "execution_count": 2,
   "metadata": {},
   "outputs": [],
   "source": [
    "import copy\n",
    "import numpy as np\n",
    "from matplotlib import pyplot as plt\n",
    "%matplotlib inline\n",
    "\n",
    "from quasarnet.io import read_truth\n",
    "from qn_analysis import plot, strategy, utils, variables"
   ]
  },
  {
   "cell_type": "code",
   "execution_count": 3,
   "metadata": {},
   "outputs": [],
   "source": [
    "qnet_path = '/global/homes/j/jfarr/Projects/QuasarNET/'\n",
    "figsize = (12,8)\n",
    "fontsize = 18\n",
    "\n",
    "temp_output_loc = '/global/homes/j/jfarr/Projects/QuasarNET_DESI/'\n",
    "\n",
    "plt.rc('font', size=fontsize)"
   ]
  },
  {
   "cell_type": "markdown",
   "metadata": {},
   "source": [
    "### Load the results from the different classifiers"
   ]
  },
  {
   "cell_type": "code",
   "execution_count": 4,
   "metadata": {},
   "outputs": [],
   "source": [
    "## General parameters\n",
    "selections = ['SV0_QSO','MINI_SV_QSO']\n",
    "\n",
    "## RR parameters\n",
    "\n",
    "## QN parameters\n",
    "n_detect = 1\n",
    "c_th = 0.8\n",
    "include_c_qn = True\n",
    "include_cbal_qn = True\n",
    "\n",
    "## SQ parameters\n",
    "p_min = 0.47\n",
    "include_p_sq = True"
   ]
  },
  {
   "cell_type": "code",
   "execution_count": 5,
   "metadata": {},
   "outputs": [],
   "source": [
    "f_truth = qnet_path+'/data/MiniSV/SV0/SV0_truth_tile68002_night20200315.fits'\n",
    "truth = read_truth([f_truth])"
   ]
  },
  {
   "cell_type": "code",
   "execution_count": 6,
   "metadata": {},
   "outputs": [],
   "source": [
    "data = {}\n",
    "\n",
    "## Load the RR data.\n",
    "f_rr = temp_output_loc+'/rr_results/rr_SV0_68002_20200315.fits'\n",
    "data['RR'] = utils.load_rr_data(f_rr,mode='DESI')\n",
    "\n",
    "## Load the QN data.\n",
    "f_qn = temp_output_loc+'/qn_results/qn_SV0_68002_20200315.fits'\n",
    "data['QN'] = utils.load_qn_data(f_qn,n_detect=n_detect,c_th=c_th,include_c=include_c_qn,include_cbal=include_cbal_qn,mode='DESI')"
   ]
  },
  {
   "cell_type": "markdown",
   "metadata": {},
   "source": [
    "### Find the set of common spectra, and reduce all data to that set\n",
    "This finds which spectra* are common to all datasets, and removes any that are not common. It then matches the data from each classifier to each spectrum, and produces a single data table.\n",
    "\n",
    "\\* using spec_id = plate$\\times$1000000000 + mjd$\\times$10000 + fiber for BOSS, or spec_id = targetid for DESI (to be updated)"
   ]
  },
  {
   "cell_type": "code",
   "execution_count": 7,
   "metadata": {},
   "outputs": [
    {
     "data": {
      "text/html": [
       "<i>Table length=5</i>\n",
       "<table id=\"table46913248086800\" class=\"table-striped table-bordered table-condensed\">\n",
       "<thead><tr><th>SPEC_ID</th><th>OBJ_ID</th><th>ZCONF_PERSON</th><th>Z_VI</th><th>CLASS_VI</th><th>ISQSO_VI</th><th>Z_RR</th><th>CLASS_RR</th><th>ISQSO_RR</th><th>ZWARN_RR</th><th>Z_QN</th><th>CLASS_QN</th><th>ISQSO_QN</th><th>C_QN [6]</th><th>CBAL_QN</th></tr></thead>\n",
       "<thead><tr><th>int64</th><th>int64</th><th>int64</th><th>float64</th><th>str8</th><th>bool</th><th>float64</th><th>str8</th><th>bool</th><th>int64</th><th>float64</th><th>str8</th><th>bool</th><th>float64</th><th>float64</th></tr></thead>\n",
       "<tr><td>35185923935178324</td><td>35185923935178324</td><td>2</td><td>1.998</td><td>QSO</td><td>True</td><td>2.001</td><td>QSO</td><td>True</td><td>0</td><td>2.002</td><td>QSO</td><td>True</td><td>1.000 .. 0.000</td><td>1.000</td></tr>\n",
       "<tr><td>35185923939370065</td><td>35185923939370065</td><td>2</td><td>-0.000</td><td>STAR</td><td>False</td><td>-0.000</td><td>STAR</td><td>False</td><td>0</td><td>2.657</td><td>NONQSO</td><td>False</td><td>0.000 .. 0.000</td><td>0.000</td></tr>\n",
       "<tr><td>35185923939371431</td><td>35185923939371431</td><td>2</td><td>2.134</td><td>QSO</td><td>True</td><td>2.134</td><td>QSO</td><td>True</td><td>0</td><td>2.153</td><td>QSO</td><td>True</td><td>1.000 .. 0.000</td><td>0.000</td></tr>\n",
       "<tr><td>35185923939372655</td><td>35185923939372655</td><td>2</td><td>1.507</td><td>GALAXY</td><td>False</td><td>1.507</td><td>GALAXY</td><td>False</td><td>0</td><td>1.967</td><td>NONQSO</td><td>False</td><td>0.000 .. 0.000</td><td>0.000</td></tr>\n",
       "<tr><td>35185923939373842</td><td>35185923939373842</td><td>1</td><td>0.000</td><td>STAR</td><td>False</td><td>-0.000</td><td>STAR</td><td>False</td><td>4</td><td>1.841</td><td>NONQSO</td><td>False</td><td>0.000 .. 0.000</td><td>0.000</td></tr>\n",
       "</table>"
      ],
      "text/plain": [
       "<Table length=5>\n",
       "     SPEC_ID            OBJ_ID      ZCONF_PERSON ...    C_QN [6]    CBAL_QN\n",
       "      int64             int64          int64     ...    float64     float64\n",
       "----------------- ----------------- ------------ ... -------------- -------\n",
       "35185923935178324 35185923935178324            2 ... 1.000 .. 0.000   1.000\n",
       "35185923939370065 35185923939370065            2 ... 0.000 .. 0.000   0.000\n",
       "35185923939371431 35185923939371431            2 ... 1.000 .. 0.000   0.000\n",
       "35185923939372655 35185923939372655            2 ... 0.000 .. 0.000   0.000\n",
       "35185923939373842 35185923939373842            1 ... 0.000 .. 0.000   0.000"
      ]
     },
     "execution_count": 7,
     "metadata": {},
     "output_type": "execute_result"
    }
   ],
   "source": [
    "data_table = utils.reduce_data_to_table(data,truth,\n",
    "                                  include_c_qn=include_c_qn,\n",
    "                                  include_cbal_qn=include_cbal_qn,\n",
    "                                  include_p_sq=include_p_sq)\n",
    "data_table[:5]"
   ]
  },
  {
   "cell_type": "code",
   "execution_count": 8,
   "metadata": {},
   "outputs": [
    {
     "data": {
      "text/plain": [
       "696"
      ]
     },
     "execution_count": 8,
     "metadata": {},
     "output_type": "execute_result"
    }
   ],
   "source": [
    "# Include only objects in the data table that have the highest confidence level, and VI redshift not equal to -1.\n",
    "w = (data_table['ZCONF_PERSON']==2) & (data_table['Z_VI']>-1)\n",
    "data_table = data_table[w]\n",
    "len(data_table)"
   ]
  },
  {
   "cell_type": "markdown",
   "metadata": {},
   "source": [
    "### Evaluate performance of classifiers at selecting QSOs with BAL features.\n",
    "xxx"
   ]
  },
  {
   "cell_type": "code",
   "execution_count": 9,
   "metadata": {},
   "outputs": [],
   "source": [
    "data_table_archive = copy.deepcopy(data_table)"
   ]
  },
  {
   "cell_type": "markdown",
   "metadata": {},
   "source": [
    "#### See what is found by QN."
   ]
  },
  {
   "cell_type": "code",
   "execution_count": 10,
   "metadata": {},
   "outputs": [],
   "source": [
    "cbal_th = 0.5\n",
    "isbal_qn = (data_table['CBAL_QN']>cbal_th)"
   ]
  },
  {
   "cell_type": "code",
   "execution_count": 11,
   "metadata": {},
   "outputs": [
    {
     "name": "stdout",
     "output_type": "stream",
     "text": [
      "QN finds 35 BALs according to BAL_PROB>0.5.\n"
     ]
    }
   ],
   "source": [
    "print('QN finds {} BALs according to BAL_PROB>{}.'.format(isbal_qn.sum(),cbal_th))"
   ]
  },
  {
   "cell_type": "markdown",
   "metadata": {},
   "source": [
    "#### See which objects are found by BAL finder"
   ]
  },
  {
   "cell_type": "code",
   "execution_count": 12,
   "metadata": {},
   "outputs": [
    {
     "name": "stdout",
     "output_type": "stream",
     "text": [
      "441\n"
     ]
    },
    {
     "data": {
      "text/html": [
       "<i>Table length=5</i>\n",
       "<table id=\"table46913250797136\" class=\"table-striped table-bordered table-condensed\">\n",
       "<thead><tr><th>TARGETID</th><th>TARGET_RA</th><th>TARGET_DEC</th><th>Z</th><th>ZERR</th><th>ZWARN</th><th>PCA_COEFFS [5]</th><th>PCA_CHI2</th><th>BAL_PROB</th><th>BI_CIV</th><th>ERR_BI_CIV</th><th>NCIV_2000</th><th>VMIN_CIV_2000 [5]</th><th>VMAX_CIV_2000 [5]</th><th>POSMIN_CIV_2000 [5]</th><th>FMIN_CIV_2000 [5]</th><th>AI_CIV</th><th>ERR_AI_CIV</th><th>NCIV_450</th><th>VMIN_CIV_450 [17]</th><th>VMAX_CIV_450 [17]</th><th>POSMIN_CIV_450 [17]</th><th>FMIN_CIV_450 [17]</th><th>BI_SIIV</th><th>ERR_BI_SIIV</th><th>NSIIV_2000</th><th>VMIN_SIIV_2000 [5]</th><th>VMAX_SIIV_2000 [5]</th><th>POSMIN_SIIV_2000 [5]</th><th>FMIN_SIIV_2000 [5]</th><th>AI_SIIV</th><th>ERR_AI_SIIV</th><th>NSIIV_450</th><th>VMIN_SIIV_450 [17]</th><th>VMAX_SIIV_450 [17]</th><th>POSMIN_SIIV_450 [17]</th><th>FMIN_SIIV_450 [17]</th></tr></thead>\n",
       "<thead><tr><th>int64</th><th>float32</th><th>float32</th><th>float32</th><th>float32</th><th>float32</th><th>float32</th><th>float32</th><th>float32</th><th>float32</th><th>float32</th><th>int32</th><th>float32</th><th>float32</th><th>float32</th><th>float32</th><th>float32</th><th>float32</th><th>int32</th><th>float32</th><th>float32</th><th>float32</th><th>float32</th><th>float32</th><th>float32</th><th>int32</th><th>float32</th><th>float32</th><th>float32</th><th>float32</th><th>float32</th><th>float32</th><th>int32</th><th>float32</th><th>float32</th><th>float32</th><th>float32</th></tr></thead>\n",
       "<tr><td>35185941920350460</td><td>200.71733</td><td>7.389993</td><td>1.8865774</td><td>0.00018747688</td><td>0.0</td><td>50.01192 .. -2.4200065</td><td>1.314995</td><td>0.0</td><td>0.0</td><td>0.0</td><td>0</td><td>-1.0 .. -1.0</td><td>-1.0 .. -1.0</td><td>-1.0 .. -1.0</td><td>-1.0 .. -1.0</td><td>687.1845</td><td>18.479765</td><td>3</td><td>17278.844 .. -1.0</td><td>17815.229 .. -1.0</td><td>17761.59 .. -1.0</td><td>-0.047162425 .. -1.0</td><td>0.0</td><td>0.0</td><td>0</td><td>-1.0 .. -1.0</td><td>-1.0 .. -1.0</td><td>-1.0 .. -1.0</td><td>-1.0 .. -1.0</td><td>0.0</td><td>0.0</td><td>0</td><td>-1.0 .. -1.0</td><td>-1.0 .. -1.0</td><td>-1.0 .. -1.0</td><td>-1.0 .. -1.0</td></tr>\n",
       "<tr><td>35185941920351213</td><td>200.84016</td><td>7.438364</td><td>3.1780255</td><td>0.00028696412</td><td>0.0</td><td>25.421469 .. 0.301946</td><td>1.3252279</td><td>0.0</td><td>0.0</td><td>0.0</td><td>0</td><td>-1.0 .. -1.0</td><td>-1.0 .. -1.0</td><td>-1.0 .. -1.0</td><td>-1.0 .. -1.0</td><td>80.87148</td><td>7.758924</td><td>3</td><td>22446.428 .. -1.0</td><td>22965.246 .. -1.0</td><td>22742.896 .. -1.0</td><td>-0.22864194 .. -1.0</td><td>0.0</td><td>0.0</td><td>0</td><td>-1.0 .. -1.0</td><td>-1.0 .. -1.0</td><td>-1.0 .. -1.0</td><td>-1.0 .. -1.0</td><td>0.0</td><td>0.0</td><td>0</td><td>-1.0 .. -1.0</td><td>-1.0 .. -1.0</td><td>-1.0 .. -1.0</td><td>-1.0 .. -1.0</td></tr>\n",
       "<tr><td>35185941920351477</td><td>200.7996</td><td>7.455114</td><td>1.9473405</td><td>0.00018505206</td><td>0.0</td><td>29.595219 .. 0.32942116</td><td>1.2865039</td><td>0.0</td><td>0.0</td><td>0.0</td><td>0</td><td>-1.0 .. -1.0</td><td>-1.0 .. -1.0</td><td>-1.0 .. -1.0</td><td>-1.0 .. -1.0</td><td>0.0</td><td>0.0</td><td>0</td><td>-1.0 .. -1.0</td><td>-1.0 .. -1.0</td><td>-1.0 .. -1.0</td><td>-1.0 .. -1.0</td><td>0.0</td><td>0.0</td><td>0</td><td>-1.0 .. -1.0</td><td>-1.0 .. -1.0</td><td>-1.0 .. -1.0</td><td>-1.0 .. -1.0</td><td>0.0</td><td>0.0</td><td>0</td><td>-1.0 .. -1.0</td><td>-1.0 .. -1.0</td><td>-1.0 .. -1.0</td><td>-1.0 .. -1.0</td></tr>\n",
       "<tr><td>35185941920352479</td><td>200.80397</td><td>7.5122623</td><td>2.3024974</td><td>0.00038030322</td><td>0.0</td><td>14.54834 .. 0.24404895</td><td>1.2991899</td><td>0.0</td><td>0.0</td><td>0.0</td><td>0</td><td>-1.0 .. -1.0</td><td>-1.0 .. -1.0</td><td>-1.0 .. -1.0</td><td>-1.0 .. -1.0</td><td>0.0</td><td>0.0</td><td>0</td><td>-1.0 .. -1.0</td><td>-1.0 .. -1.0</td><td>-1.0 .. -1.0</td><td>-1.0 .. -1.0</td><td>0.0</td><td>0.0</td><td>0</td><td>-1.0 .. -1.0</td><td>-1.0 .. -1.0</td><td>-1.0 .. -1.0</td><td>-1.0 .. -1.0</td><td>0.0</td><td>0.0</td><td>0</td><td>-1.0 .. -1.0</td><td>-1.0 .. -1.0</td><td>-1.0 .. -1.0</td><td>-1.0 .. -1.0</td></tr>\n",
       "<tr><td>35185941920352484</td><td>200.88284</td><td>7.513208</td><td>3.806303</td><td>0.00023492187</td><td>0.0</td><td>15.568284 .. 0.95778686</td><td>1.5597934</td><td>0.0</td><td>0.0</td><td>0.0</td><td>0</td><td>-1.0 .. -1.0</td><td>-1.0 .. -1.0</td><td>-1.0 .. -1.0</td><td>-1.0 .. -1.0</td><td>0.0</td><td>0.0</td><td>0</td><td>-1.0 .. -1.0</td><td>-1.0 .. -1.0</td><td>-1.0 .. -1.0</td><td>-1.0 .. -1.0</td><td>0.0</td><td>0.0</td><td>0</td><td>-1.0 .. -1.0</td><td>-1.0 .. -1.0</td><td>-1.0 .. -1.0</td><td>-1.0 .. -1.0</td><td>0.0</td><td>0.0</td><td>0</td><td>-1.0 .. -1.0</td><td>-1.0 .. -1.0</td><td>-1.0 .. -1.0</td><td>-1.0 .. -1.0</td></tr>\n",
       "</table>"
      ],
      "text/plain": [
       "<Table length=5>\n",
       "     TARGETID     TARGET_RA ... POSMIN_SIIV_450 [17] FMIN_SIIV_450 [17]\n",
       "      int64        float32  ...       float32             float32      \n",
       "----------------- --------- ... -------------------- ------------------\n",
       "35185941920350460 200.71733 ...         -1.0 .. -1.0       -1.0 .. -1.0\n",
       "35185941920351213 200.84016 ...         -1.0 .. -1.0       -1.0 .. -1.0\n",
       "35185941920351477  200.7996 ...         -1.0 .. -1.0       -1.0 .. -1.0\n",
       "35185941920352479 200.80397 ...         -1.0 .. -1.0       -1.0 .. -1.0\n",
       "35185941920352484 200.88284 ...         -1.0 .. -1.0       -1.0 .. -1.0"
      ]
     },
     "execution_count": 12,
     "metadata": {},
     "output_type": "execute_result"
    }
   ],
   "source": [
    "from astropy.io import fits\n",
    "from astropy.table import Table\n",
    "bal_data = fits.open('/global/homes/j/jfarr/Projects/QuasarNET_DESI/balfinder_results/balfinder_SV0_68002_20200315.fits')\n",
    "bal_data_table = Table(bal_data[1].data)\n",
    "print(len(bal_data_table))\n",
    "bal_data_table[:5]"
   ]
  },
  {
   "cell_type": "code",
   "execution_count": 13,
   "metadata": {},
   "outputs": [],
   "source": [
    "bal_prob_th = 0.5\n",
    "isbal_bf = (bal_data_table['BAL_PROB']>bal_prob_th)\n",
    "isbal_bf_bi = (bal_data_table['BI_CIV']>0)\n",
    "isbal_bf_ai = (bal_data_table['AI_CIV']>0)"
   ]
  },
  {
   "cell_type": "code",
   "execution_count": 14,
   "metadata": {},
   "outputs": [
    {
     "name": "stdout",
     "output_type": "stream",
     "text": [
      "BAL finder finds 0 BALs according to BAL_PROB>0.5.\n",
      "BAL finder finds 7 BALs according to BI>0.\n",
      "BAL finder finds 42 BALs according to AI>0.\n"
     ]
    }
   ],
   "source": [
    "print('BAL finder finds {} BALs according to BAL_PROB>{}.'.format(isbal_bf.sum(),bal_prob_th))\n",
    "print('BAL finder finds {} BALs according to BI>0.'.format(isbal_bf_bi.sum()))\n",
    "print('BAL finder finds {} BALs according to AI>0.'.format(isbal_bf_ai.sum()))"
   ]
  },
  {
   "cell_type": "markdown",
   "metadata": {},
   "source": [
    "#### See what we can find from the comments in VI."
   ]
  },
  {
   "cell_type": "code",
   "execution_count": 15,
   "metadata": {},
   "outputs": [
    {
     "data": {
      "text/html": [
       "<div>\n",
       "<style scoped>\n",
       "    .dataframe tbody tr th:only-of-type {\n",
       "        vertical-align: middle;\n",
       "    }\n",
       "\n",
       "    .dataframe tbody tr th {\n",
       "        vertical-align: top;\n",
       "    }\n",
       "\n",
       "    .dataframe thead th {\n",
       "        text-align: right;\n",
       "    }\n",
       "</style>\n",
       "<table border=\"1\" class=\"dataframe\">\n",
       "  <thead>\n",
       "    <tr style=\"text-align: right;\">\n",
       "      <th></th>\n",
       "      <th>TARGETID</th>\n",
       "      <th>Redrock z</th>\n",
       "      <th>best z</th>\n",
       "      <th>best quality</th>\n",
       "      <th>Redrock spectype</th>\n",
       "      <th>best spectype</th>\n",
       "      <th>all VI issues</th>\n",
       "      <th>all VI comments</th>\n",
       "      <th>merger comment</th>\n",
       "      <th>N_VI</th>\n",
       "      <th>...</th>\n",
       "      <th>FIBER</th>\n",
       "      <th>FLUX_G</th>\n",
       "      <th>FLUX_R</th>\n",
       "      <th>FLUX_Z</th>\n",
       "      <th>FIBERFLUX_G</th>\n",
       "      <th>FIBERFLUX_R</th>\n",
       "      <th>FIBERFLUX_Z</th>\n",
       "      <th>MW_TRANSMISSION_G</th>\n",
       "      <th>MW_TRANSMISSION_R</th>\n",
       "      <th>MW_TRANSMISSION_Z</th>\n",
       "    </tr>\n",
       "  </thead>\n",
       "  <tbody>\n",
       "    <tr>\n",
       "      <th>0</th>\n",
       "      <td>35185929937227607</td>\n",
       "      <td>1.4995</td>\n",
       "      <td>1.49950</td>\n",
       "      <td>1.0</td>\n",
       "      <td>GALAXY</td>\n",
       "      <td>GALAXY</td>\n",
       "      <td>--</td>\n",
       "      <td>Poor noise subtraction  Maybe OII correct but...</td>\n",
       "      <td>None</td>\n",
       "      <td>5</td>\n",
       "      <td>...</td>\n",
       "      <td>696</td>\n",
       "      <td>0.728820</td>\n",
       "      <td>0.730633</td>\n",
       "      <td>1.221301</td>\n",
       "      <td>0.566604</td>\n",
       "      <td>0.568014</td>\n",
       "      <td>0.949472</td>\n",
       "      <td>0.916734</td>\n",
       "      <td>0.943119</td>\n",
       "      <td>0.967773</td>\n",
       "    </tr>\n",
       "    <tr>\n",
       "      <th>1</th>\n",
       "      <td>35185929937228335</td>\n",
       "      <td>0.4102</td>\n",
       "      <td>0.41020</td>\n",
       "      <td>3.6</td>\n",
       "      <td>GALAXY</td>\n",
       "      <td>GALAXY</td>\n",
       "      <td>--</td>\n",
       "      <td>--</td>\n",
       "      <td>none</td>\n",
       "      <td>5</td>\n",
       "      <td>...</td>\n",
       "      <td>657</td>\n",
       "      <td>0.228894</td>\n",
       "      <td>0.745470</td>\n",
       "      <td>1.842765</td>\n",
       "      <td>0.178230</td>\n",
       "      <td>0.580468</td>\n",
       "      <td>1.434888</td>\n",
       "      <td>0.916849</td>\n",
       "      <td>0.943198</td>\n",
       "      <td>0.967819</td>\n",
       "    </tr>\n",
       "    <tr>\n",
       "      <th>2</th>\n",
       "      <td>35185929937229340</td>\n",
       "      <td>1.4944</td>\n",
       "      <td>1.49440</td>\n",
       "      <td>4.0</td>\n",
       "      <td>QSO</td>\n",
       "      <td>QSO</td>\n",
       "      <td>--</td>\n",
       "      <td>--</td>\n",
       "      <td>none</td>\n",
       "      <td>5</td>\n",
       "      <td>...</td>\n",
       "      <td>652</td>\n",
       "      <td>2.102620</td>\n",
       "      <td>4.026039</td>\n",
       "      <td>6.276346</td>\n",
       "      <td>1.635143</td>\n",
       "      <td>3.130926</td>\n",
       "      <td>4.880920</td>\n",
       "      <td>0.917295</td>\n",
       "      <td>0.943508</td>\n",
       "      <td>0.967997</td>\n",
       "    </tr>\n",
       "    <tr>\n",
       "      <th>3</th>\n",
       "      <td>35185929941418536</td>\n",
       "      <td>1.0804</td>\n",
       "      <td>1.08032</td>\n",
       "      <td>3.8</td>\n",
       "      <td>GALAXY</td>\n",
       "      <td>GALAXY</td>\n",
       "      <td>--</td>\n",
       "      <td>Both galaxy and QSO in spectrum</td>\n",
       "      <td>none</td>\n",
       "      <td>5</td>\n",
       "      <td>...</td>\n",
       "      <td>194</td>\n",
       "      <td>1.567732</td>\n",
       "      <td>2.329047</td>\n",
       "      <td>4.268086</td>\n",
       "      <td>1.221243</td>\n",
       "      <td>1.814298</td>\n",
       "      <td>3.324784</td>\n",
       "      <td>0.917957</td>\n",
       "      <td>0.943966</td>\n",
       "      <td>0.968260</td>\n",
       "    </tr>\n",
       "    <tr>\n",
       "      <th>4</th>\n",
       "      <td>35185929941418791</td>\n",
       "      <td>0.0002</td>\n",
       "      <td>0.00020</td>\n",
       "      <td>3.0</td>\n",
       "      <td>STAR</td>\n",
       "      <td>STAR</td>\n",
       "      <td>--</td>\n",
       "      <td>Large noise</td>\n",
       "      <td>None</td>\n",
       "      <td>5</td>\n",
       "      <td>...</td>\n",
       "      <td>228</td>\n",
       "      <td>0.839756</td>\n",
       "      <td>2.391115</td>\n",
       "      <td>4.388883</td>\n",
       "      <td>0.654225</td>\n",
       "      <td>1.862836</td>\n",
       "      <td>3.419229</td>\n",
       "      <td>0.918313</td>\n",
       "      <td>0.944213</td>\n",
       "      <td>0.968401</td>\n",
       "    </tr>\n",
       "  </tbody>\n",
       "</table>\n",
       "<p>5 rows × 23 columns</p>\n",
       "</div>"
      ],
      "text/plain": [
       "            TARGETID  Redrock z   best z  best quality Redrock spectype  \\\n",
       "0  35185929937227607     1.4995  1.49950           1.0           GALAXY   \n",
       "1  35185929937228335     0.4102  0.41020           3.6           GALAXY   \n",
       "2  35185929937229340     1.4944  1.49440           4.0              QSO   \n",
       "3  35185929941418536     1.0804  1.08032           3.8           GALAXY   \n",
       "4  35185929941418791     0.0002  0.00020           3.0             STAR   \n",
       "\n",
       "  best spectype all VI issues  \\\n",
       "0        GALAXY            --   \n",
       "1        GALAXY            --   \n",
       "2           QSO            --   \n",
       "3        GALAXY            --   \n",
       "4          STAR            --   \n",
       "\n",
       "                                     all VI comments merger comment  N_VI  \\\n",
       "0   Poor noise subtraction  Maybe OII correct but...           None     5   \n",
       "1                                                 --           none     5   \n",
       "2                                                 --           none     5   \n",
       "3                   Both galaxy and QSO in spectrum            none     5   \n",
       "4                                       Large noise            None     5   \n",
       "\n",
       "   ...  FIBER    FLUX_G    FLUX_R    FLUX_Z  FIBERFLUX_G  FIBERFLUX_R  \\\n",
       "0  ...    696  0.728820  0.730633  1.221301     0.566604     0.568014   \n",
       "1  ...    657  0.228894  0.745470  1.842765     0.178230     0.580468   \n",
       "2  ...    652  2.102620  4.026039  6.276346     1.635143     3.130926   \n",
       "3  ...    194  1.567732  2.329047  4.268086     1.221243     1.814298   \n",
       "4  ...    228  0.839756  2.391115  4.388883     0.654225     1.862836   \n",
       "\n",
       "   FIBERFLUX_Z  MW_TRANSMISSION_G  MW_TRANSMISSION_R  MW_TRANSMISSION_Z  \n",
       "0     0.949472           0.916734           0.943119           0.967773  \n",
       "1     1.434888           0.916849           0.943198           0.967819  \n",
       "2     4.880920           0.917295           0.943508           0.967997  \n",
       "3     3.324784           0.917957           0.943966           0.968260  \n",
       "4     3.419229           0.918313           0.944213           0.968401  \n",
       "\n",
       "[5 rows x 23 columns]"
      ]
     },
     "execution_count": 15,
     "metadata": {},
     "output_type": "execute_result"
    }
   ],
   "source": [
    "import pandas as pd\n",
    "f_vi = '/global/cfs/cdirs/desi/sv/vi/TruthTables/truth_table_QSO_v1.2.csv'\n",
    "vi = pd.read_csv(f_vi, header=0)\n",
    "vi[:5]"
   ]
  },
  {
   "cell_type": "code",
   "execution_count": 16,
   "metadata": {},
   "outputs": [],
   "source": [
    "isbal_vi = [('bal' in comment.lower())|('broad absorption' in comment.lower()) for comment in vi['all VI comments']]&(vi['best spectype']=='QSO')\n",
    "isbal_vi = np.array(isbal_vi.array)"
   ]
  },
  {
   "cell_type": "code",
   "execution_count": 17,
   "metadata": {},
   "outputs": [
    {
     "name": "stdout",
     "output_type": "stream",
     "text": [
      "VI finds 20 BALs by looking for \"bal\" and \"broad absorption\" in comments of QSOs.\n"
     ]
    }
   ],
   "source": [
    "print('VI finds {} BALs by looking for \"bal\" and \"broad absorption\" in comments of QSOs.'.format(isbal_vi.sum()))"
   ]
  },
  {
   "cell_type": "markdown",
   "metadata": {},
   "source": [
    "#### For spectra that the BAL finder found to have AI/BI>0, or were flagged by VI, do QN and RR perform well?"
   ]
  },
  {
   "cell_type": "code",
   "execution_count": 18,
   "metadata": {},
   "outputs": [
    {
     "name": "stderr",
     "output_type": "stream",
     "text": [
      "/global/u1/j/jfarr/.conda/envs/qnet/lib/python3.7/site-packages/ipykernel_launcher.py:7: DeprecationWarning: The truth value of an empty array is ambiguous. Returning False, but in future this will result in an error. Use `array.size > 0` to check that an array is not empty.\n",
      "  import sys\n",
      "/global/u1/j/jfarr/.conda/envs/qnet/lib/python3.7/site-packages/ipykernel_launcher.py:8: DeprecationWarning: The truth value of an empty array is ambiguous. Returning False, but in future this will result in an error. Use `array.size > 0` to check that an array is not empty.\n",
      "  \n"
     ]
    }
   ],
   "source": [
    "filters = {}\n",
    "filters['AI'] = np.zeros(len(data_table)).astype(bool)\n",
    "filters['BI'] = np.zeros(len(data_table)).astype(bool)\n",
    "filters['VI'] = np.zeros(len(data_table)).astype(bool)\n",
    "for i,spec_id in enumerate(data_table['SPEC_ID']):\n",
    "    w = np.in1d(bal_data_table['TARGETID'],spec_id)\n",
    "    filters['AI'][i] = isbal_bf_ai[w]\n",
    "    filters['BI'][i] = isbal_bf_bi[w]\n",
    "    w = np.in1d(vi['TARGETID'],spec_id)\n",
    "    filters['VI'][i] = isbal_vi[w]"
   ]
  },
  {
   "cell_type": "code",
   "execution_count": 23,
   "metadata": {},
   "outputs": [
    {
     "data": {
      "image/png": "[encoded data removed]",
      "text/plain": [
       "<Figure size 576x864 with 3 Axes>"
      ]
     },
     "metadata": {
      "needs_background": "light"
     },
     "output_type": "display_data"
    }
   ],
   "source": [
    "fig, axs = plt.subplots(3,1,figsize=(8,12),squeeze=False,sharex=True)\n",
    "c_th_values = np.linspace(0,1,101)\n",
    "dv_max = 6000.\n",
    "n_detect=1\n",
    "\n",
    "for i,q in enumerate(['AI','BI','VI']):\n",
    "    \n",
    "    temp_data_table = copy.deepcopy(data_table[filters[q]])\n",
    "    isqso_truth, isgal_truth, isstar_truth, isbad = plot.get_truths(temp_data_table)\n",
    "    z_truth = temp_data_table['Z_VI']\n",
    "    \n",
    "    isqso_rr = temp_data_table['ISQSO_RR']&(temp_data_table['ZWARN_RR']==0)\n",
    "    z_rr = temp_data_table['Z_RR']\n",
    "    p_rr,c_rr = plot.get_pur_com(isqso_rr,z_rr,isqso_truth,isgal_truth,isbad,z_truth,dv_max=dv_max)\n",
    "    axs[i,0].axhline(y=p_rr,c=utils.colours['C0'],ls='-')\n",
    "    axs[i,0].axhline(y=c_rr,c=utils.colours['C1'],ls='-')\n",
    "    \n",
    "    p_qn = []\n",
    "    c_qn = []\n",
    "    for c_th in c_th_values:\n",
    "        isqso_qn = ((temp_data_table['C_QN']>c_th).sum(axis=1))>=n_detect\n",
    "        z_qn = temp_data_table['Z_QN']\n",
    "        p,c = plot.get_pur_com(isqso_qn,z_qn,isqso_truth,isgal_truth,isbad,z_truth,dv_max=dv_max)\n",
    "        p_qn += [p]\n",
    "        c_qn += [c]\n",
    "    axs[i,0].plot(c_th_values,p_qn,c=utils.colours['C0'],ls='--')\n",
    "    axs[i,0].plot(c_th_values,c_qn,c=utils.colours['C1'],ls='--')    \n",
    "    \n",
    "    axs[i,0].text(0.02,0.02,'{} identified BAL QSOs ({})'.format(q,filters[q].sum()),transform=axs[i,0].transAxes)\n",
    "    axs[i,0].set_ylim(0.8,1.02)\n",
    "    axs[i,0].set_xlim(0.,1.)\n",
    "    \n",
    "plt.tight_layout()\n",
    "plt.show()"
   ]
  },
  {
   "cell_type": "markdown",
   "metadata": {},
   "source": [
    "#### Look at the VI-identified BALs missed by QN"
   ]
  },
  {
   "cell_type": "code",
   "execution_count": 37,
   "metadata": {},
   "outputs": [
    {
     "data": {
      "text/html": [
       "<i>Table length=3</i>\n",
       "<table id=\"table46913307947344\" class=\"table-striped table-bordered table-condensed\">\n",
       "<thead><tr><th>SPEC_ID</th><th>OBJ_ID</th><th>ZCONF_PERSON</th><th>Z_VI</th><th>CLASS_VI</th><th>ISQSO_VI</th><th>Z_RR</th><th>CLASS_RR</th><th>ISQSO_RR</th><th>ZWARN_RR</th><th>Z_QN</th><th>CLASS_QN</th><th>ISQSO_QN</th><th>C_QN [6]</th><th>CBAL_QN</th></tr></thead>\n",
       "<thead><tr><th>int64</th><th>int64</th><th>int64</th><th>float64</th><th>str8</th><th>bool</th><th>float64</th><th>str8</th><th>bool</th><th>int64</th><th>float64</th><th>str8</th><th>bool</th><th>float64</th><th>float64</th></tr></thead>\n",
       "<tr><td>35185947951763330</td><td>35185947951763330</td><td>2</td><td>2.635</td><td>QSO</td><td>True</td><td>2.651</td><td>QSO</td><td>True</td><td>0</td><td>2.708</td><td>QSO</td><td>True</td><td>1.000 .. 0.000</td><td>0.951</td></tr>\n",
       "<tr><td>35185953941229053</td><td>35185953941229053</td><td>2</td><td>0.983</td><td>QSO</td><td>True</td><td>0.983</td><td>QSO</td><td>True</td><td>0</td><td>1.023</td><td>QSO</td><td>True</td><td>0.000 .. 0.000</td><td>0.000</td></tr>\n",
       "<tr><td>35185983804672382</td><td>35185983804672382</td><td>2</td><td>1.802</td><td>QSO</td><td>True</td><td>0.454</td><td>GALAXY</td><td>False</td><td>0</td><td>0.563</td><td>NONQSO</td><td>False</td><td>0.000 .. 0.000</td><td>0.000</td></tr>\n",
       "</table>"
      ],
      "text/plain": [
       "<Table length=3>\n",
       "     SPEC_ID            OBJ_ID      ZCONF_PERSON ...    C_QN [6]    CBAL_QN\n",
       "      int64             int64          int64     ...    float64     float64\n",
       "----------------- ----------------- ------------ ... -------------- -------\n",
       "35185947951763330 35185947951763330            2 ... 1.000 .. 0.000   0.951\n",
       "35185953941229053 35185953941229053            2 ... 0.000 .. 0.000   0.000\n",
       "35185983804672382 35185983804672382            2 ... 0.000 .. 0.000   0.000"
      ]
     },
     "execution_count": 37,
     "metadata": {},
     "output_type": "execute_result"
    }
   ],
   "source": [
    "q = 'VI'\n",
    "temp_data_table = copy.deepcopy(data_table[filters[q]])\n",
    "isqso_truth, isgal_truth, isstar_truth, isbad = plot.get_truths(temp_data_table)\n",
    "z_truth = temp_data_table['Z_VI']\n",
    "    \n",
    "c_th = 0.5\n",
    "n_detect = 1\n",
    "isqso_qn = ((temp_data_table['C_QN']>c_th).sum(axis=1))>=n_detect\n",
    "z_qn = temp_data_table['Z_QN']\n",
    "\n",
    "zgood = strategy.get_dv(z_qn,z_truth,z_truth)<=dv_max\n",
    "missed_specids = temp_data_table['SPEC_ID'][(~(isqso_qn&zgood))]\n",
    "\n",
    "w = np.in1d(data_table['SPEC_ID'],missed_specids)\n",
    "data_table[w]"
   ]
  },
  {
   "cell_type": "markdown",
   "metadata": {},
   "source": [
    "#### Look at the VI-identified BALs missed by RR"
   ]
  },
  {
   "cell_type": "code",
   "execution_count": 39,
   "metadata": {},
   "outputs": [
    {
     "data": {
      "text/html": [
       "<i>Table length=3</i>\n",
       "<table id=\"table46913307930256\" class=\"table-striped table-bordered table-condensed\">\n",
       "<thead><tr><th>SPEC_ID</th><th>OBJ_ID</th><th>ZCONF_PERSON</th><th>Z_VI</th><th>CLASS_VI</th><th>ISQSO_VI</th><th>Z_RR</th><th>CLASS_RR</th><th>ISQSO_RR</th><th>ZWARN_RR</th><th>Z_QN</th><th>CLASS_QN</th><th>ISQSO_QN</th><th>C_QN [6]</th><th>CBAL_QN</th></tr></thead>\n",
       "<thead><tr><th>int64</th><th>int64</th><th>int64</th><th>float64</th><th>str8</th><th>bool</th><th>float64</th><th>str8</th><th>bool</th><th>int64</th><th>float64</th><th>str8</th><th>bool</th><th>float64</th><th>float64</th></tr></thead>\n",
       "<tr><td>35185929933034185</td><td>35185929933034185</td><td>2</td><td>2.190</td><td>QSO</td><td>True</td><td>2.196</td><td>QSO</td><td>True</td><td>4</td><td>2.237</td><td>QSO</td><td>True</td><td>0.978 .. 0.000</td><td>1.000</td></tr>\n",
       "<tr><td>35185929945614311</td><td>35185929945614311</td><td>2</td><td>3.623</td><td>QSO</td><td>True</td><td>0.073</td><td>QSO</td><td>True</td><td>0</td><td>3.690</td><td>QSO</td><td>True</td><td>1.000 .. 0.000</td><td>0.988</td></tr>\n",
       "<tr><td>35185983804672382</td><td>35185983804672382</td><td>2</td><td>1.802</td><td>QSO</td><td>True</td><td>0.454</td><td>GALAXY</td><td>False</td><td>0</td><td>0.563</td><td>NONQSO</td><td>False</td><td>0.000 .. 0.000</td><td>0.000</td></tr>\n",
       "</table>"
      ],
      "text/plain": [
       "<Table length=3>\n",
       "     SPEC_ID            OBJ_ID      ZCONF_PERSON ...    C_QN [6]    CBAL_QN\n",
       "      int64             int64          int64     ...    float64     float64\n",
       "----------------- ----------------- ------------ ... -------------- -------\n",
       "35185929933034185 35185929933034185            2 ... 0.978 .. 0.000   1.000\n",
       "35185929945614311 35185929945614311            2 ... 1.000 .. 0.000   0.988\n",
       "35185983804672382 35185983804672382            2 ... 0.000 .. 0.000   0.000"
      ]
     },
     "execution_count": 39,
     "metadata": {},
     "output_type": "execute_result"
    }
   ],
   "source": [
    "q = 'VI'\n",
    "temp_data_table = copy.deepcopy(data_table[filters[q]])\n",
    "isqso_truth, isgal_truth, isstar_truth, isbad = plot.get_truths(temp_data_table)\n",
    "z_truth = temp_data_table['Z_VI']\n",
    "    \n",
    "isqso_rr = temp_data_table['ISQSO_RR']&(temp_data_table['ZWARN_RR']==0)\n",
    "z_rr = temp_data_table['Z_RR']\n",
    "\n",
    "zgood = strategy.get_dv(z_rr,z_truth,z_truth)<=dv_max\n",
    "missed_specids = temp_data_table['SPEC_ID'][(~(isqso_rr&zgood))]\n",
    "\n",
    "w = np.in1d(data_table['SPEC_ID'],missed_specids)\n",
    "data_table[w]"
   ]
  },
  {
   "cell_type": "code",
   "execution_count": null,
   "metadata": {},
   "outputs": [],
   "source": []
  }
 ],
 "metadata": {
  "kernelspec": {
   "display_name": "qnet",
   "language": "python",
   "name": "qnet"
  },
  "language_info": {
   "codemirror_mode": {
    "name": "ipython",
    "version": 3
   },
   "file_extension": ".py",
   "mimetype": "text/x-python",
   "name": "python",
   "nbconvert_exporter": "python",
   "pygments_lexer": "ipython3",
   "version": "3.7.6"
  }
 },
 "nbformat": 4,
 "nbformat_minor": 4
}
