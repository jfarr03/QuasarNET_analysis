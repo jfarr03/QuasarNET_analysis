{
 "cells": [
  {
   "cell_type": "markdown",
   "metadata": {},
   "source": [
    "## QuasarNET Performance vs dll\n",
    "#### Plot to show performance of QuasarNET as a function of the QN wavelength grid separation\n",
    "xxx"
   ]
  },
  {
   "cell_type": "code",
   "execution_count": 1,
   "metadata": {},
   "outputs": [],
   "source": [
    "import astropy\n",
    "import copy\n",
    "import glob\n",
    "import numpy as np\n",
    "from matplotlib import pyplot as plt\n",
    "%matplotlib inline\n",
    "\n",
    "from quasarnet.io import read_truth\n",
    "from qn_analysis import plot, strategy, utils, variables"
   ]
  },
  {
   "cell_type": "code",
   "execution_count": 2,
   "metadata": {},
   "outputs": [],
   "source": [
    "figsize = (12,6.5)\n",
    "fontsize = 18\n",
    "\n",
    "temp_output_loc = '/global/cfs/projectdirs/desi/users/jfarr/QuasarNET_paper_v0/'\n",
    "\n",
    "plt.rc('font', size=fontsize)"
   ]
  },
  {
   "cell_type": "markdown",
   "metadata": {},
   "source": [
    "### Load the results from the different QN models"
   ]
  },
  {
   "cell_type": "code",
   "execution_count": 3,
   "metadata": {},
   "outputs": [],
   "source": [
    "## QN parameters\n",
    "n_detect = 1\n",
    "c_th = 0.8\n",
    "include_c_qn = True\n",
    "common_specids = True"
   ]
  },
  {
   "cell_type": "code",
   "execution_count": 4,
   "metadata": {},
   "outputs": [],
   "source": [
    "f_truth = variables.OUTDIR+'/data/truth/truth_dr12q.fits'\n",
    "truth = read_truth([f_truth])"
   ]
  },
  {
   "cell_type": "code",
   "execution_count": 5,
   "metadata": {},
   "outputs": [],
   "source": [
    "data = {}\n",
    "\n",
    "for dll in variables.DLL_VALUES:\n",
    "    \n",
    "    ## Load the QN using nchunks value.\n",
    "    #f_qn = glob.glob(variables.OUTDIR+'/outputs/qn_outputs/additional_setups/dll_values/dll_{}/qnAll*.fits'.format(dll))[0]\n",
    "    f_qn = glob.glob(temp_output_loc+'/outputs/qn_outputs/additional_setups/dll_values/dll_{}/qnAll*.fits'.format(dll))[0]\n",
    "    data['QN_{}'.format(dll)] = utils.load_qn_data(f_qn,n_detect=n_detect,c_th=c_th,include_c=include_c_qn)"
   ]
  },
  {
   "cell_type": "markdown",
   "metadata": {},
   "source": [
    "### Find the set of common spectra, and reduce all data to that set\n",
    "This finds which spectra* are common to all datasets, and removes any that are not common. It then matches the data from each classifier to each spectrum, and produces a single data table.\n",
    "\n",
    "\\* using spec_id = plate$\\times$1000000000 + mjd$\\times$10000 + fiber for BOSS, or spec_id = targetid for DESI (to be updated)"
   ]
  },
  {
   "cell_type": "code",
   "execution_count": null,
   "metadata": {},
   "outputs": [],
   "source": [
    "data_table = utils.reduce_data_to_table(data,truth,include_c_qn=include_c_qn,common_specids=False)\n",
    "data_table[:5]"
   ]
  },
  {
   "cell_type": "code",
   "execution_count": null,
   "metadata": {},
   "outputs": [],
   "source": [
    "# Include only objects in the data table that have the highest confidence level, and VI redshift not equal to -1.\n",
    "w = (data_table['ZCONF_PERSON']==2) & (data_table['Z_VI']>-1)\n",
    "data_table = data_table[w]\n",
    "len(data_table)"
   ]
  },
  {
   "cell_type": "markdown",
   "metadata": {},
   "source": [
    "### Compare the performance of the different model/data combos.\n",
    "xxx"
   ]
  },
  {
   "cell_type": "code",
   "execution_count": null,
   "metadata": {},
   "outputs": [],
   "source": [
    "ls = {'QN_0.001': '-',\n",
    "      'QN_0.002': '--',\n",
    "      'QN_0.0005': ':',\n",
    "     }"
   ]
  },
  {
   "cell_type": "code",
   "execution_count": null,
   "metadata": {},
   "outputs": [],
   "source": [
    "## Define general parameter values.\n",
    "dv_max = 6000.\n",
    "\n",
    "# confidence thresholds.\n",
    "c_th_min = 0.0\n",
    "c_th_max = 1.0\n",
    "n_int = 100\n",
    "c_th_values = np.linspace(c_th_min,c_th_max,n_int)"
   ]
  },
  {
   "cell_type": "code",
   "execution_count": null,
   "metadata": {},
   "outputs": [],
   "source": [
    "## Define strategies.\n",
    "strategies = {}\n",
    "\n",
    "for s in data.keys():\n",
    "    \n",
    "    nchunks = float(s.split('_')[-1])\n",
    "    name = r'$n_{{boxes}}={}$'.format(nchunks)\n",
    "    if type(data_table['ISQSO_{}'.format(s)])==astropy.table.column.MaskedColumn:\n",
    "        filt = (~data_table['ISQSO_{}'.format(s)].data.mask)\n",
    "    else:\n",
    "        filt = np.ones(len(data_table)).astype(bool)\n",
    "    temp_data_table = data_table[filt]\n",
    "    \n",
    "    # QN definitions.\n",
    "    n_detect = 1\n",
    "    strat = strategy.Strategy('qn',cf_kwargs={'qn_name':s})\n",
    "    preds = [strat.predict(temp_data_table,c_kwargs={'c_th':c_th_value,'n_detect':n_detect}) for c_th_value in c_th_values]\n",
    "    strategies[s] = {'predictions': preds,\n",
    "                     'n': name, \n",
    "                     'ls': ls[s]}"
   ]
  },
  {
   "cell_type": "code",
   "execution_count": null,
   "metadata": {},
   "outputs": [],
   "source": [
    "filename = '../plots/qn_performance_vs_dll.pdf'\n",
    "\n",
    "plot.plot_qn_model_compare(data_table,strategies,filename=filename,\n",
    "                           dv_max=dv_max,nydec=2,figsize=(12,12),\n",
    "                           ymin=0.98,ymax=1.,verbose=True,npanel=2,\n",
    "                           norm_dvhist=True,c_th=c_th_values)\n",
    "plt.show()"
   ]
  },
  {
   "cell_type": "code",
   "execution_count": null,
   "metadata": {},
   "outputs": [],
   "source": []
  }
 ],
 "metadata": {
  "kernelspec": {
   "display_name": "qnet",
   "language": "python",
   "name": "qnet"
  },
  "language_info": {
   "codemirror_mode": {
    "name": "ipython",
    "version": 3
   },
   "file_extension": ".py",
   "mimetype": "text/x-python",
   "name": "python",
   "nbconvert_exporter": "python",
   "pygments_lexer": "ipython3",
   "version": "3.7.6"
  }
 },
 "nbformat": 4,
 "nbformat_minor": 4
}
