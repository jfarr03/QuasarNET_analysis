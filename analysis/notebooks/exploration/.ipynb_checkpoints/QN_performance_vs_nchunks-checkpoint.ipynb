{
 "cells": [
  {
   "cell_type": "markdown",
   "metadata": {},
   "source": [
    "## QuasarNET Performance vs nchunks\n",
    "#### Plot to show performance of QuasarNET as a function of the number of boxes/chunks\n",
    "xxx"
   ]
  },
  {
   "cell_type": "code",
   "execution_count": 1,
   "metadata": {},
   "outputs": [],
   "source": [
    "import astropy\n",
    "import copy\n",
    "import glob\n",
    "import numpy as np\n",
    "from matplotlib import pyplot as plt\n",
    "%matplotlib inline\n",
    "\n",
    "from quasarnet.io import read_truth\n",
    "from qn_analysis import plot, strategy, utils, variables"
   ]
  },
  {
   "cell_type": "code",
   "execution_count": 2,
   "metadata": {},
   "outputs": [],
   "source": [
    "figsize = (12,6.5)\n",
    "fontsize = 18\n",
    "\n",
    "temp_output_loc = '/global/cfs/projectdirs/desi/users/jfarr/QuasarNET_paper_v0/'\n",
    "\n",
    "plt.rc('font', size=fontsize)"
   ]
  },
  {
   "cell_type": "markdown",
   "metadata": {},
   "source": [
    "### Load the results from the different QN models"
   ]
  },
  {
   "cell_type": "code",
   "execution_count": 3,
   "metadata": {},
   "outputs": [],
   "source": [
    "## QN parameters\n",
    "n_detect = 1\n",
    "c_th = 0.8\n",
    "include_c_qn = True\n",
    "common_specids = True"
   ]
  },
  {
   "cell_type": "code",
   "execution_count": 4,
   "metadata": {},
   "outputs": [],
   "source": [
    "f_truth = variables.OUTDIR+'/data/truth/truth_dr12q.fits'\n",
    "truth = read_truth([f_truth])"
   ]
  },
  {
   "cell_type": "code",
   "execution_count": 5,
   "metadata": {},
   "outputs": [],
   "source": [
    "data = {}\n",
    "\n",
    "for nchunks in variables.NCHUNK_VALUES:\n",
    "\n",
    "    ## Load the QN using nchunks value.\n",
    "    #f_qn = glob.glob(variables.OUTDIR+'/outputs/qn_outputs/additional_setups/nchunks/nchunks_{}/qnAll*.fits'.format(nchunks))[0]\n",
    "    f_qn = glob.glob(temp_output_loc+'/outputs/qn_outputs/additional_setups/nchunks/nchunks_{}/qnAll*.fits'.format(nchunks))[0]\n",
    "\n",
    "    data['QN_{}'.format(nchunks)] = utils.load_qn_data(f_qn,n_detect=n_detect,c_th=c_th,include_c=include_c_qn)"
   ]
  },
  {
   "cell_type": "markdown",
   "metadata": {},
   "source": [
    "### Find the set of common spectra, and reduce all data to that set\n",
    "This finds which spectra* are common to all datasets, and removes any that are not common. It then matches the data from each classifier to each spectrum, and produces a single data table.\n",
    "\n",
    "\\* using spec_id = plate$\\times$1000000000 + mjd$\\times$10000 + fiber for BOSS, or spec_id = targetid for DESI (to be updated)"
   ]
  },
  {
   "cell_type": "code",
   "execution_count": 6,
   "metadata": {},
   "outputs": [
    {
     "data": {
      "text/html": [
       "<i>Table length=5</i>\n",
       "<table id=\"table46913248215824\" class=\"table-striped table-bordered table-condensed\">\n",
       "<thead><tr><th>SPEC_ID</th><th>OBJ_ID</th><th>ZCONF_PERSON</th><th>Z_VI</th><th>CLASS_VI</th><th>ISQSO_VI</th><th>Z_QN_7</th><th>CLASS_QN_7</th><th>ISQSO_QN_7</th><th>C_QN_7 [6]</th><th>Z_QN_10</th><th>CLASS_QN_10</th><th>ISQSO_QN_10</th><th>C_QN_10 [6]</th><th>Z_QN_13</th><th>CLASS_QN_13</th><th>ISQSO_QN_13</th><th>C_QN_13 [6]</th><th>Z_QN_16</th><th>CLASS_QN_16</th><th>ISQSO_QN_16</th><th>C_QN_16 [6]</th><th>Z_QN_19</th><th>CLASS_QN_19</th><th>ISQSO_QN_19</th><th>C_QN_19 [6]</th></tr></thead>\n",
       "<thead><tr><th>int64</th><th>int64</th><th>int64</th><th>float64</th><th>str8</th><th>bool</th><th>float64</th><th>str8</th><th>bool</th><th>float64</th><th>float64</th><th>str8</th><th>bool</th><th>float64</th><th>float64</th><th>str8</th><th>bool</th><th>float64</th><th>float64</th><th>str8</th><th>bool</th><th>float64</th><th>float64</th><th>str8</th><th>bool</th><th>float64</th></tr></thead>\n",
       "<tr><td>7166566020362</td><td>20589337</td><td>2</td><td>1.616</td><td>QSO</td><td>True</td><td>1.634</td><td>NONQSO</td><td>False</td><td>0.000 .. 0.003</td><td>2.228</td><td>NONQSO</td><td>False</td><td>0.860 .. 0.000</td><td>1.617</td><td>NONQSO</td><td>False</td><td>0.393 .. 0.000</td><td>1.628</td><td>NONQSO</td><td>False</td><td>0.003 .. 0.000</td><td>1.632</td><td>NONQSO</td><td>False</td><td>0.000 .. 0.000</td></tr>\n",
       "<tr><td>7166566020367</td><td>20603085</td><td>2</td><td>2.070</td><td>QSO</td><td>True</td><td>2.009</td><td>QSO</td><td>True</td><td>0.338 .. 0.000</td><td>2.053</td><td>QSO</td><td>True</td><td>0.969 .. 0.000</td><td>2.081</td><td>QSO</td><td>True</td><td>1.000 .. 0.000</td><td>2.067</td><td>NONQSO</td><td>False</td><td>0.846 .. 0.000</td><td>2.046</td><td>NONQSO</td><td>False</td><td>0.927 .. 0.000</td></tr>\n",
       "<tr><td>7169566280047</td><td>20935261</td><td>2</td><td>0.000</td><td>STAR</td><td>False</td><td>1.472</td><td>NONQSO</td><td>False</td><td>0.000 .. 0.000</td><td>0.805</td><td>NONQSO</td><td>False</td><td>0.000 .. 0.000</td><td>2.395</td><td>NONQSO</td><td>False</td><td>0.000 .. 0.000</td><td>2.988</td><td>NONQSO</td><td>False</td><td>0.000 .. 0.000</td><td>2.386</td><td>NONQSO</td><td>False</td><td>0.000 .. 0.000</td></tr>\n",
       "<tr><td>7169566280046</td><td>20935742</td><td>2</td><td>0.000</td><td>STAR</td><td>False</td><td>0.418</td><td>NONQSO</td><td>False</td><td>0.000 .. 0.000</td><td>0.602</td><td>NONQSO</td><td>False</td><td>0.000 .. 0.000</td><td>3.548</td><td>NONQSO</td><td>False</td><td>0.000 .. 0.000</td><td>2.279</td><td>NONQSO</td><td>False</td><td>0.000 .. 0.000</td><td>1.432</td><td>NONQSO</td><td>False</td><td>0.000 .. 0.000</td></tr>\n",
       "<tr><td>7169566280052</td><td>20936956</td><td>2</td><td>0.000</td><td>STAR</td><td>False</td><td>3.295</td><td>NONQSO</td><td>False</td><td>0.000 .. 0.000</td><td>0.139</td><td>NONQSO</td><td>False</td><td>0.000 .. 0.000</td><td>2.926</td><td>NONQSO</td><td>False</td><td>0.000 .. 0.000</td><td>1.076</td><td>NONQSO</td><td>False</td><td>0.000 .. 0.000</td><td>0.722</td><td>NONQSO</td><td>False</td><td>0.000 .. 0.000</td></tr>\n",
       "</table>"
      ],
      "text/plain": [
       "<Table length=5>\n",
       "   SPEC_ID     OBJ_ID  ZCONF_PERSON ... CLASS_QN_19 ISQSO_QN_19  C_QN_19 [6]  \n",
       "    int64      int64      int64     ...     str8        bool       float64    \n",
       "------------- -------- ------------ ... ----------- ----------- --------------\n",
       "7166566020362 20589337            2 ...      NONQSO       False 0.000 .. 0.000\n",
       "7166566020367 20603085            2 ...      NONQSO       False 0.927 .. 0.000\n",
       "7169566280047 20935261            2 ...      NONQSO       False 0.000 .. 0.000\n",
       "7169566280046 20935742            2 ...      NONQSO       False 0.000 .. 0.000\n",
       "7169566280052 20936956            2 ...      NONQSO       False 0.000 .. 0.000"
      ]
     },
     "execution_count": 6,
     "metadata": {},
     "output_type": "execute_result"
    }
   ],
   "source": [
    "data_table = utils.reduce_data_to_table(data,truth,include_c_qn=include_c_qn,common_specids=False)\n",
    "data_table[:5]"
   ]
  },
  {
   "cell_type": "code",
   "execution_count": 7,
   "metadata": {},
   "outputs": [
    {
     "data": {
      "text/plain": [
       "506016"
      ]
     },
     "execution_count": 7,
     "metadata": {},
     "output_type": "execute_result"
    }
   ],
   "source": [
    "# Include only objects in the data table that have the highest confidence level, and VI redshift not equal to -1.\n",
    "w = (data_table['ZCONF_PERSON']==2) & (data_table['Z_VI']>-1)\n",
    "data_table = data_table[w]\n",
    "len(data_table)"
   ]
  },
  {
   "cell_type": "markdown",
   "metadata": {},
   "source": [
    "### Compare the performance of the different model/data combos.\n",
    "xxx"
   ]
  },
  {
   "cell_type": "code",
   "execution_count": 8,
   "metadata": {},
   "outputs": [],
   "source": [
    "ls = {'QN_13': '-',\n",
    "      'QN_19': '--',\n",
    "      'QN_16': '-.',\n",
    "      'QN_10': ':',\n",
    "      'QN_7': (0, (3, 5, 1, 5, 1, 5)),\n",
    "     }"
   ]
  },
  {
   "cell_type": "code",
   "execution_count": 9,
   "metadata": {},
   "outputs": [],
   "source": [
    "## Define general parameter values.\n",
    "dv_max = 6000.\n",
    "\n",
    "# confidence thresholds.\n",
    "c_th_min = 0.0\n",
    "c_th_max = 1.0\n",
    "n_int = 100\n",
    "c_th_values = np.linspace(c_th_min,c_th_max,n_int)"
   ]
  },
  {
   "cell_type": "code",
   "execution_count": null,
   "metadata": {},
   "outputs": [],
   "source": [
    "## Define strategies.\n",
    "strategies = {}\n",
    "\n",
    "for s in data.keys():\n",
    "    \n",
    "    nchunks = int(s.split('_')[-1])\n",
    "    name = r'$n_{{boxes}}={}$'.format(nchunks)\n",
    "    if type(data_table['ISQSO_{}'.format(s)])==astropy.table.column.MaskedColumn:\n",
    "        filt = (~data_table['ISQSO_{}'.format(s)].data.mask)\n",
    "    else:\n",
    "        filt = np.ones(len(data_table)).astype(bool)\n",
    "    temp_data_table = data_table[filt]\n",
    "    \n",
    "    # QN definitions.\n",
    "    n_detect = 1\n",
    "    strat = strategy.Strategy('qn',cf_kwargs={'qn_name':s})\n",
    "    preds = [strat.predict(temp_data_table,c_kwargs={'c_th':c_th_value,'n_detect':n_detect}) for c_th_value in c_th_values]\n",
    "    strategies[s] = {'predictions': preds,\n",
    "                     'n': name, \n",
    "                     'ls': ls[s]}"
   ]
  },
  {
   "cell_type": "code",
   "execution_count": null,
   "metadata": {},
   "outputs": [],
   "source": [
    "filename = '../plots/qn_performance_vs_nboxes.pdf'\n",
    "\n",
    "plot.plot_qn_model_compare(data_table,strategies,filename=filename,\n",
    "                           dv_max=dv_max,nydec=2,figsize=(12,12),\n",
    "                           ymin=0.98,ymax=1.,verbose=True,npanel=2,\n",
    "                           norm_dvhist=True,c_th=c_th_values)\n",
    "plt.show()"
   ]
  },
  {
   "cell_type": "code",
   "execution_count": null,
   "metadata": {},
   "outputs": [],
   "source": []
  },
  {
   "cell_type": "code",
   "execution_count": null,
   "metadata": {},
   "outputs": [],
   "source": []
  }
 ],
 "metadata": {
  "kernelspec": {
   "display_name": "qnet",
   "language": "python",
   "name": "qnet"
  },
  "language_info": {
   "codemirror_mode": {
    "name": "ipython",
    "version": 3
   },
   "file_extension": ".py",
   "mimetype": "text/x-python",
   "name": "python",
   "nbconvert_exporter": "python",
   "pygments_lexer": "ipython3",
   "version": "3.7.6"
  }
 },
 "nbformat": 4,
 "nbformat_minor": 4
}
