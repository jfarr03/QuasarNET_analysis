{
 "cells": [
  {
   "cell_type": "code",
   "execution_count": 2,
   "metadata": {},
   "outputs": [],
   "source": [
    "import numpy as np\n",
    "import os\n",
    "import glob\n",
    "from astropy.io import fits\n",
    "from astropy.table import Table, unique, Column, vstack\n",
    "import matplotlib.pyplot as plt\n",
    "from qn_analysis.utils import *\n",
    "from qn_analysis import variables"
   ]
  },
  {
   "cell_type": "markdown",
   "metadata": {},
   "source": [
    "#### Open DR12Q superset, DR12 spall and DR14 spall"
   ]
  },
  {
   "cell_type": "code",
   "execution_count": 3,
   "metadata": {},
   "outputs": [],
   "source": [
    "f_sdr12q = '/global/projecta/projectdirs/sdss/data/sdss/dr12/boss/qso/DR12Q/Superset_DR12Q.fits'\n",
    "sdr12q = fits.open(f_sdr12q)"
   ]
  },
  {
   "cell_type": "code",
   "execution_count": 4,
   "metadata": {},
   "outputs": [],
   "source": [
    "f_spall_dr12 = '/global/projecta/projectdirs/sdss/data/sdss/dr12/boss/spectro/redux/spAll-DR12.fits'\n",
    "spall_dr12 = fits.open(f_spall_dr12)"
   ]
  },
  {
   "cell_type": "code",
   "execution_count": 5,
   "metadata": {},
   "outputs": [],
   "source": [
    "f_spall_dr14 = '/global/projecta/projectdirs/sdss/data/sdss/dr15/eboss/spectro/redux/v5_10_0/spAll-v5_10_0.fits'\n",
    "spall_dr14 = fits.open(f_spall_dr14)"
   ]
  },
  {
   "cell_type": "markdown",
   "metadata": {},
   "source": [
    "### Construct dictionaries mapping (p,m,f) to tid for both DRs"
   ]
  },
  {
   "cell_type": "code",
   "execution_count": 6,
   "metadata": {},
   "outputs": [],
   "source": [
    "plate = spall_dr12[1].data[\"PLATE\"]\n",
    "mjd = spall_dr12[1].data[\"MJD\"]\n",
    "fid = spall_dr12[1].data[\"FIBERID\"]\n",
    "tid = spall_dr12[1].data[\"THING_ID\"].astype(int)\n",
    "\n",
    "pmf2tid_dr12 = {(p,m,f):t for p,m,f,t in zip(plate,mjd,fid,tid)}"
   ]
  },
  {
   "cell_type": "code",
   "execution_count": 11,
   "metadata": {},
   "outputs": [],
   "source": [
    "plate = spall_dr14[1].data[\"PLATE\"]\n",
    "mjd = spall_dr14[1].data[\"MJD\"]\n",
    "fid = spall_dr14[1].data[\"FIBERID\"]\n",
    "tid = spall_dr14[1].data[\"THING_ID\"].astype(int)\n",
    "\n",
    "pmf2tid_dr14 = {(p,m,f):t for p,m,f,t in zip(plate,mjd,fid,tid)}"
   ]
  },
  {
   "cell_type": "markdown",
   "metadata": {},
   "source": [
    "#### Convert to a TID_DR12 -> TID_DR14 dictionary"
   ]
  },
  {
   "cell_type": "code",
   "execution_count": 12,
   "metadata": {},
   "outputs": [],
   "source": [
    "boss2eboss = {pmf2tid_dr12[k]:pmf2tid_dr14[k] for k in pmf2tid_dr12.keys()}\n",
    "eboss2boss = {pmf2tid_dr14[k]:pmf2tid_dr12[k] for k in pmf2tid_dr12.keys()}"
   ]
  },
  {
   "cell_type": "code",
   "execution_count": 13,
   "metadata": {},
   "outputs": [],
   "source": [
    "tid_dr12 = np.array(list(boss2eboss.keys())).astype('int')\n",
    "tid_dr14 = np.array(list(boss2eboss.values())).astype('int')"
   ]
  },
  {
   "cell_type": "markdown",
   "metadata": {},
   "source": [
    "## Create a linked redux directory with targetid lists\n",
    "I.e. replicate the BOSS redux directory structure with a directory per plate. Inside each directory is a link to the each of the DR12 spPlate files for that plate. This is only carried out for plates that have contain at least one QSO target.\n",
    "\n",
    "Alongside these links are text files containing a list of targetids for that plate.\n",
    "\n",
    "Also has the option to split data into several groups, in order to fit jobs into the debug queue (wrap-redrock takes a redux directory as an input rather than a list of spPlate files, so separate wrap-redrock runs need separate replicated redux directories)."
   ]
  },
  {
   "cell_type": "code",
   "execution_count": 155,
   "metadata": {},
   "outputs": [],
   "source": [
    "# List of spplate files that we want to replicate. \n",
    "# NOTE: the same plate should not be listed more than once.\n",
    "spplate_paths = glob.glob('/global/projecta/projectdirs/sdss/data/sdss/dr12/boss/spectro/redux/v5_7_?/*/spPlate*.fits')\n",
    "\n",
    "# Set where the new redux replica will be stored.\n",
    "new_redux_dir_base = '/global/cfs/projectdirs/desi/users/jfarr/check_BOSS_DR12_redux_replica_split/'\n",
    "nsplits = 10\n",
    "\n",
    "\n",
    "# Get a list of old redux dirs\n",
    "#old_redux_dirs = list(set([path.]))\n",
    "\n",
    "# Make split dirs\n",
    "split_dirs = [new_redux_dir_base+'/split_{}'.format(i) for i in range(nsplits)]\n",
    "\n",
    "# Make replica redux dir if it doesn't exist already.\n",
    "if not os.path.isdir(new_redux_dir_base):\n",
    "    os.mkdir(new_redux_dir_base)\n",
    "    \n",
    "# Make split dirs if they don't exist already.\n",
    "for split_dir in split_dirs:\n",
    "    if not os.path.isdir(split_dir):\n",
    "        os.mkdir(split_dir)"
   ]
  },
  {
   "cell_type": "code",
   "execution_count": 156,
   "metadata": {},
   "outputs": [
    {
     "name": "stdout",
     "output_type": "stream",
     "text": [
      "2645\n"
     ]
    }
   ],
   "source": [
    "print(len(spplate_paths))"
   ]
  },
  {
   "cell_type": "code",
   "execution_count": 157,
   "metadata": {},
   "outputs": [
    {
     "data": {
      "text/plain": [
       "627751"
      ]
     },
     "execution_count": 157,
     "metadata": {},
     "output_type": "execute_result"
    }
   ],
   "source": [
    "## Get the list of targetids for the objects in the superset.\n",
    "wqso = np.in1d(spall_dr12[1].data[\"THING_ID\"], sdr12q[1].data[\"THING_ID\"]) & (spall_dr12[1].data[\"THING_ID\"]>0)\n",
    "plates = spall_dr12[1].data['PLATE'][wqso].astype('i8')\n",
    "mjds = spall_dr12[1].data['MJD'][wqso].astype('i8')\n",
    "fiberids = spall_dr12[1].data['FIBERID'][wqso].astype('i8')\n",
    "targetids = platemjdfiber2targetid(plates,mjds,fiberids)\n",
    "print(len(targetids))"
   ]
  },
  {
   "cell_type": "code",
   "execution_count": 158,
   "metadata": {},
   "outputs": [
    {
     "name": "stdout",
     "output_type": "stream",
     "text": [
      "2493\n"
     ]
    }
   ],
   "source": [
    "# Get a list of unique plate-mjd pairs in the superset.\n",
    "pm_set = set([(p,m) for p,m in zip(plates,mjds)])\n",
    "print(len(pm_set))\n",
    "\n",
    "# Check that each plate-mjd pair appears once and only once in the list of spPlates.\n",
    "spplate_names = np.array([f.split('/')[-1] for f in spplate_paths])\n",
    "for (p,m) in pm_set:\n",
    "    name = 'spPlate-{}-{}.fits'.format(p,m)\n",
    "    w = np.in1d(spplate_names,name)\n",
    "    if w.sum()==0:\n",
    "        print(name,'not found')\n",
    "    elif w.sum()>1:\n",
    "        print(name,'duplicated:')\n",
    "        print(spplate_names[w])\n",
    "        "
   ]
  },
  {
   "cell_type": "code",
   "execution_count": null,
   "metadata": {},
   "outputs": [],
   "source": [
    "# Divide the plates up into roughly even splits (making sure that spPlates from the same plate are in the same split).\n",
    "plate_set = np.array(list(set(plates)))\n",
    "sorted_plates = np.sort(plates)\n",
    "plate_set.sort()\n",
    "inds = np.array([np.argmax(np.in1d(plate_set,p)) for p in sorted_plates])\n",
    "plate_splits = np.floor(nsplits*inds/(inds[-1]+1)).astype(int)\n",
    "splits = {sorted_plates[i]:plate_splits[i] for i in range(len(sorted_plates))}"
   ]
  },
  {
   "cell_type": "code",
   "execution_count": null,
   "metadata": {},
   "outputs": [],
   "source": [
    "## FOR NOW, RESTRICT THE NUMBER OF PLATES\n",
    "#plate_mod_100_vals = [35]\n",
    "#pm_set = set([(pm[0],pm[1]) for pm in pm_set if (pm[0]//100 in plate_mod_100_vals)])\n",
    "\n",
    "print(len(pm_set))\n",
    "\n",
    "## For each plate, make a directory.\n",
    "for p in plates:\n",
    "    split = splits[p]\n",
    "    plate_dir = split_dirs[split]+'/{}'.format(p)\n",
    "    if not os.path.isdir(plate_dir):\n",
    "        os.mkdir(plate_dir)"
   ]
  },
  {
   "cell_type": "code",
   "execution_count": null,
   "metadata": {},
   "outputs": [],
   "source": [
    "## For each unique plate-mjd pair:\n",
    "ntargets = {}\n",
    "for i,(p,m) in enumerate(pm_set):\n",
    "    \n",
    "    ## Find which targetids correspond to that pair.\n",
    "    w = (targetids//10000)==(platemjdfiber2targetid(p,m,0)//10000)\n",
    "    pm_targetids = targetids[w]\n",
    "    split = splits[p]\n",
    "    dirname = split_dirs[split]+'/{}'.format(p)\n",
    "\n",
    "    ## Write a txt file containing these targetids.\n",
    "    with open(dirname+'/targetids-{}-{}.txt'.format(p,m),'w') as text_file:\n",
    "        for t in pm_targetids[:-1]:\n",
    "            text_file.write('{},'.format(t))\n",
    "        text_file.write('{}'.format(pm_targetids[-1]))\n",
    "\n",
    "    ntargets[(p,m)] = w.sum()\n",
    "    \n",
    "    print('Making targetid lists: {:.2%}'.format((i+1)/len(pm_set)),end='\\r')\n",
    "   \n",
    "ntotal\n",
    "\n",
    "        \n",
    "    ## Make a symbolic link to the spPlate file from the old redux dir.\n",
    "    name = 'spPlate-{}-{}.fits'.format(p,m)\n",
    "    ind = np.argmax(np.in1d(spplate_names,name))\n",
    "    src = spplate_paths[ind]\n",
    "    dst = dirname+'/'.format(p)+name\n",
    "    if not os.path.isfile(dst):\n",
    "        os.symlink(src, dst)\n",
    "\n",
    "    ## \n",
    "    src_dir = os.path.dirname(src)\n",
    "    spcframes = glob.glob(src_dir+'/spCFrame*.fits')\n",
    "    for spcframe in spcframes:\n",
    "\n",
    "        ## Make symbolic links to all spCFrame files from the old redux dir (if they don't already exist).\n",
    "        src = spcframe\n",
    "        spcframe_file = spcframe.split('/')[-1]\n",
    "        dst = dirname+'/'+spcframe_file\n",
    "        if not os.path.isfile(dst):\n",
    "            os.symlink(src, dst)\n",
    "\n",
    "    \n",
    "    print('Making targetid lists and spPlate/spCFrame replicas: {:.2%}'.format((i+1)/len(pm_set)),end='\\r')\n",
    "    \n",
    "print('')\n",
    "\"\"\"\n",
    "## For each plate:\n",
    "for i,p in enumerate(plates):\n",
    "    \n",
    "    split = splits[p]\n",
    "    dirname = split_dirs[split]+'/{}'.format(p)\n",
    "    \n",
    "    ## For each redux dir:\n",
    "    for old_redux_dir in old_redux_dirs:\n",
    "        \n",
    "        ## Find all spCFrame files.\n",
    "        spcframes = glob.glob(old_redux_dir+'/{}/spCFrame*.fits'.format(p))\n",
    "        for spcframe in spcframes:\n",
    "\n",
    "            ## Make symbolic links to all spCFrame files from the old redux dir.\n",
    "            src = spcframe\n",
    "            spcframe_file = spcframe.split('/')[-1]\n",
    "            dst = dirname+'/'.format(p)+spcframe_file\n",
    "            os.symlink(src, dst)\n",
    "\n",
    "    print('Making spCFrame links: {:.2%}'.format((i+1)/len(plates)),end='\\r')\n",
    "\n",
    "print('')\"\"\""
   ]
  },
  {
   "cell_type": "markdown",
   "metadata": {},
   "source": [
    "### Merge the separate zbest files from redrock into a single file."
   ]
  },
  {
   "cell_type": "code",
   "execution_count": 58,
   "metadata": {},
   "outputs": [
    {
     "name": "stdout",
     "output_type": "stream",
     "text": [
      "WARN: /global/cfs/projectdirs/desi/users/jfarr/QuasarNET_paper//results/rr_results/rr_test_andmask_bestexp.fits already exists, continuing will overwrite!\n",
      "INFO: found 1239 zbest and redrock files\n"
     ]
    }
   ],
   "source": [
    "#rrdir = '/global/cfs/projectdirs/desi/users/jfarr/rrboss_dr12/runs/rr_v5_7_0/output/'\n",
    "rrdir = '/global/cfs/projectdirs/desi/users/jfarr/rrboss_dr12/runs/rr_dr12_andmask_bestexp/output/'\n",
    "f_out = variables.OUTDIR+'/results/rr_results/rr_test_andmask_bestexp.fits'\n",
    "\n",
    "if os.path.isfile(f_out):\n",
    "    print('WARN: {} already exists, continuing will overwrite!'.format(f_out))\n",
    "fi_zbest = glob.glob(rrdir+'/zbest*.fits')\n",
    "fi_zbest.sort()\n",
    "fi_rr = glob.glob(rrdir+'/redrock*.h5')\n",
    "fi_rr.sort()\n",
    "if len(fi_rr)==len(fi_zbest):\n",
    "    print('INFO: found {} zbest and redrock files'.format(len(fi_rr)))\n",
    "else:\n",
    "    print('WARN: found {} zbest and {} redrock files'.format(len(fi_zbest),len(fi_rr)))"
   ]
  },
  {
   "cell_type": "code",
   "execution_count": 59,
   "metadata": {},
   "outputs": [],
   "source": [
    "## Check that the zbest and redrock files are aligned.\n",
    "for i in range(len(fi_rr)):\n",
    "    assert fi_zbest[i][-15:-6]==fi_rr[i][-13:-4]"
   ]
  },
  {
   "cell_type": "code",
   "execution_count": 60,
   "metadata": {},
   "outputs": [
    {
     "name": "stdout",
     "output_type": "stream",
     "text": [
      "Stacking zbest files: 100.00%\n",
      "282881\n"
     ]
    },
    {
     "data": {
      "text/html": [
       "<i>Table length=5</i>\n",
       "<table id=\"table46923978462416\" class=\"table-striped table-bordered table-condensed\">\n",
       "<thead><tr><th>TARGETID</th><th>CHI2</th><th>COEFF [10]</th><th>Z</th><th>ZERR</th><th>ZWARN</th><th>NPIXELS</th><th>SPECTYPE</th><th>SUBTYPE</th><th>NCOEFF</th><th>DELTACHI2</th><th>BRICKNAME</th><th>FIT_SPECTYPE [9]</th><th>FIT_Z [9]</th><th>FIT_CHI2 [9]</th><th>FIT_ZWARN [9]</th></tr></thead>\n",
       "<thead><tr><th>int64</th><th>float64</th><th>float64</th><th>float64</th><th>float64</th><th>int64</th><th>int64</th><th>str6</th><th>str20</th><th>int64</th><th>float64</th><th>str8</th><th>str24</th><th>float64</th><th>float64</th><th>int64</th></tr></thead>\n",
       "<tr><td>3586551810016</td><td>3935.828009826597</td><td>0.00025944580772078107 .. 0.0</td><td>2.2287573629257236</td><td>0.0011697277192384294</td><td>4</td><td>3275</td><td>QSO</td><td></td><td>4</td><td>4.169174216222018</td><td>3586-551</td><td>QSO .. QSO</td><td>2.2287573629257236 .. 2.274512953593742</td><td>3935.828009826597 .. 3994.2422048603185</td><td>4 .. 4</td></tr>\n",
       "<tr><td>3586551810018</td><td>4318.758850351907</td><td>0.0001472452992274425 .. 0.0</td><td>2.250632152475793</td><td>0.0013062345336029742</td><td>0</td><td>3249</td><td>QSO</td><td></td><td>4</td><td>43.86828891839832</td><td>3586-551</td><td>QSO .. STAR</td><td>2.250632152475793 .. 0.0019089595213075913</td><td>4318.758850351907 .. 4389.9283543279735</td><td>0 .. 4</td></tr>\n",
       "<tr><td>3586551810020</td><td>4090.293167538941</td><td>0.00010409127660471026 .. 0.0</td><td>3.1758246333499636</td><td>0.00042833103344955265</td><td>0</td><td>3196</td><td>QSO</td><td></td><td>4</td><td>250.71444888599217</td><td>3586-551</td><td>QSO .. STAR</td><td>3.1758246333499636 .. 7.566003767953571e-05</td><td>4090.293167538941 .. 4485.271092661311</td><td>0 .. 4</td></tr>\n",
       "<tr><td>3586551810032</td><td>3801.7260563522577</td><td>965.1803147173658 .. 5.516995387245528</td><td>1.381952682188335</td><td>0.0001876962385285261</td><td>0</td><td>3298</td><td>GALAXY</td><td></td><td>10</td><td>10.68879321217537</td><td>3586-551</td><td>GALAXY .. STAR</td><td>1.381952682188335 .. 0.00078339640064737</td><td>3801.7260563522577 .. 3838.1992587601453</td><td>0 .. 4</td></tr>\n",
       "<tr><td>3586551810036</td><td>3786.247305120324</td><td>1353.882296784396 .. -45.46635185187096</td><td>-0.0004813484898672203</td><td>4.5368622315357e-05</td><td>0</td><td>3274</td><td>GALAXY</td><td></td><td>10</td><td>204.68492825796693</td><td>3586-551</td><td>GALAXY .. QSO</td><td>-0.0004813484898672203 .. 2.2375179805433336</td><td>3786.247305120324 .. 4116.585389523767</td><td>0 .. 0</td></tr>\n",
       "</table>"
      ],
      "text/plain": [
       "<Table length=5>\n",
       "   TARGETID          CHI2        ... FIT_ZWARN [9]\n",
       "    int64          float64       ...     int64    \n",
       "------------- ------------------ ... -------------\n",
       "3586551810016  3935.828009826597 ...        4 .. 4\n",
       "3586551810018  4318.758850351907 ...        0 .. 4\n",
       "3586551810020  4090.293167538941 ...        0 .. 4\n",
       "3586551810032 3801.7260563522577 ...        0 .. 4\n",
       "3586551810036  3786.247305120324 ...        0 .. 0"
      ]
     },
     "execution_count": 60,
     "metadata": {},
     "output_type": "execute_result"
    }
   ],
   "source": [
    "## Concatenate output from all zbest files.\n",
    "rr_data = make_rr_table(fi_zbest[0],fi_rr[0])\n",
    "if len(fi_rr)>1:\n",
    "    for i in range(1,len(fi_rr)):\n",
    "        f_rr_data = make_rr_table(fi_zbest[i],fi_rr[i])\n",
    "        rr_data = vstack([rr_data,f_rr_data])\n",
    "        print('Stacking zbest files: {:.2%}'.format((i+1)/len(fi_rr)),end='\\r')\n",
    "print('')\n",
    "print(len(rr_data))\n",
    "rr_data[:5]"
   ]
  },
  {
   "cell_type": "code",
   "execution_count": 61,
   "metadata": {},
   "outputs": [
    {
     "name": "stdout",
     "output_type": "stream",
     "text": [
      "282881 spectra in RR output\n"
     ]
    }
   ],
   "source": [
    "## Make sure that we only have objects that are in sdr12q.\n",
    "plate,mjd,fiber = targetid2platemjdfiber(rr_data['TARGETID'])\n",
    "pmf_rr = list(zip(plate,mjd,fiber))\n",
    "print('{} spectra in RR output'.format(len(pmf_rr)))"
   ]
  },
  {
   "cell_type": "code",
   "execution_count": 62,
   "metadata": {},
   "outputs": [
    {
     "name": "stdout",
     "output_type": "stream",
     "text": [
      "627751 spectra corresponding to SDR12Q objects in DR12 spAll\n"
     ]
    }
   ],
   "source": [
    "# Find spAll entries for objects in SDR12Q\n",
    "wqso = np.in1d(spall_dr12[1].data[\"THING_ID\"], sdr12q[1].data[\"THING_ID\"]) & (spall_dr12[1].data[\"THING_ID\"]>0)\n",
    "\n",
    "# Make targetids for all these entries\n",
    "plates = spall_dr12[1].data['PLATE'][wqso].astype('i8')\n",
    "mjds = spall_dr12[1].data['MJD'][wqso].astype('i8')\n",
    "fiberids = spall_dr12[1].data['FIBERID'][wqso].astype('i8')\n",
    "targetid_sdr12q = platemjdfiber2targetid(plates,mjds,fiberids)\n",
    "\n",
    "print('{} spectra corresponding to SDR12Q objects in DR12 spAll'.format(len(targetid_sdr12q)))"
   ]
  },
  {
   "cell_type": "code",
   "execution_count": 63,
   "metadata": {},
   "outputs": [
    {
     "name": "stdout",
     "output_type": "stream",
     "text": [
      "Of the 282881 spectra in RR output, 282881 correspond to SDR12Q objects\n",
      " -> reduced rr_data table to these 282881 spectra\n"
     ]
    }
   ],
   "source": [
    "w = np.in1d(rr_data['TARGETID'],targetid_sdr12q)\n",
    "print('Of the {} spectra in RR output, {} correspond to SDR12Q objects'.format(len(w),w.sum()))\n",
    "rr_data = rr_data[w]\n",
    "print(' -> reduced rr_data table to these {} spectra'.format(len(rr_data)))"
   ]
  },
  {
   "cell_type": "code",
   "execution_count": 64,
   "metadata": {},
   "outputs": [
    {
     "name": "stdout",
     "output_type": "stream",
     "text": [
      "Of the 627751 spectra corresponding to SDR12Q objects, 282881 in RR output\n",
      " -> reduced targetid_sdr12q array to these 282881 spectra\n"
     ]
    }
   ],
   "source": [
    "w = np.in1d(targetid_sdr12q,rr_data['TARGETID'])\n",
    "print('Of the {} spectra corresponding to SDR12Q objects, {} in RR output'.format(len(w),w.sum()))\n",
    "targetid_sdr12q = targetid_sdr12q[w]\n",
    "print(' -> reduced targetid_sdr12q array to these {} spectra'.format(len(targetid_sdr12q)))"
   ]
  },
  {
   "cell_type": "code",
   "execution_count": 65,
   "metadata": {},
   "outputs": [],
   "source": [
    "rr_data.sort(['TARGETID'])\n",
    "targetid_sdr12q.sort()"
   ]
  },
  {
   "cell_type": "code",
   "execution_count": 66,
   "metadata": {},
   "outputs": [],
   "source": [
    "assert (rr_data['TARGETID'].data==targetid_sdr12q).all()"
   ]
  },
  {
   "cell_type": "code",
   "execution_count": 67,
   "metadata": {},
   "outputs": [],
   "source": [
    "plate,mjd,fiber = targetid2platemjdfiber(rr_data['TARGETID'])\n",
    "platemjdfiber = list(zip(plate,mjd,fiber))"
   ]
  },
  {
   "cell_type": "code",
   "execution_count": 68,
   "metadata": {},
   "outputs": [],
   "source": [
    "rr_thing_id_dr12 = [pmf2tid_dr12[pmf] for pmf in platemjdfiber]"
   ]
  },
  {
   "cell_type": "code",
   "execution_count": 69,
   "metadata": {},
   "outputs": [],
   "source": [
    "rr_data.add_column(Column(data=rr_thing_id_dr12,name='THING_ID_DR12',dtype='i8'))"
   ]
  },
  {
   "cell_type": "code",
   "execution_count": 70,
   "metadata": {},
   "outputs": [],
   "source": [
    "rr_data.write(f_out,overwrite=True)"
   ]
  },
  {
   "cell_type": "markdown",
   "metadata": {},
   "source": [
    "#### Open the redrock results (from v5_10_0), convert to DR12 TIDs and restrict to DR12Q superset objects"
   ]
  },
  {
   "cell_type": "code",
   "execution_count": null,
   "metadata": {},
   "outputs": [],
   "source": [
    "f_rr = '/project/projectdirs/desi/users/nbusca/QuasarNET/data/zbest_redrock_v5_10_0.fits'\n",
    "#f_rr = '/project/projectdirs/desi/users/jfarr/rrboss_dr12/zbest/5786/zbestrr-5786-56251.fits'\n",
    "rr = fits.open(f_rr)"
   ]
  },
  {
   "cell_type": "code",
   "execution_count": null,
   "metadata": {},
   "outputs": [],
   "source": [
    "def targetid2platemjdfiber(targetid):\n",
    "    fiber = targetid % 10000\n",
    "    mjd = (targetid // 10000) % 100000\n",
    "    plate = (targetid // (10000 * 100000))\n",
    "    return (plate, mjd, fiber)"
   ]
  },
  {
   "cell_type": "code",
   "execution_count": null,
   "metadata": {},
   "outputs": [],
   "source": [
    "def platemjdfiber2targetid(plate, mjd, fiber):\n",
    "    return plate*1000000000 + mjd*10000 + fiber"
   ]
  },
  {
   "cell_type": "code",
   "execution_count": null,
   "metadata": {},
   "outputs": [],
   "source": [
    "plate,mjd,fiber = targetid2platemjdfiber(rr[1].data['TARGETID'])\n",
    "pmf_rr = list(zip(plate,mjd,fiber))"
   ]
  },
  {
   "cell_type": "code",
   "execution_count": null,
   "metadata": {},
   "outputs": [],
   "source": [
    "pmf_sdr12q = list(zip(sdr12q[1].data['PLATE'],sdr12q[1].data['MJD'],sdr12q[1].data['FIBERID']))\n",
    "targetid_sdr12q = platemjdfiber2targetid(sdr12q[1].data['PLATE'].astype('i8'),sdr12q[1].data['MJD'].astype('i8'),sdr12q[1].data['FIBERID'].astype('i8'))"
   ]
  },
  {
   "cell_type": "code",
   "execution_count": null,
   "metadata": {},
   "outputs": [],
   "source": [
    "w = np.in1d(rr[1].data['TARGETID'],targetid_sdr12q)\n",
    "print(w.sum(),len(w))"
   ]
  },
  {
   "cell_type": "code",
   "execution_count": null,
   "metadata": {},
   "outputs": [],
   "source": [
    "rr_data = rr[1].data\n",
    "rr_data_table = Table(rr_data)[w]\n",
    "rr_data_table[:5]"
   ]
  },
  {
   "cell_type": "code",
   "execution_count": null,
   "metadata": {},
   "outputs": [],
   "source": [
    "rr_data_table.sort(['TARGETID'])\n",
    "targetid_sdr12q.sort()"
   ]
  },
  {
   "cell_type": "code",
   "execution_count": null,
   "metadata": {},
   "outputs": [],
   "source": [
    "assert (rr_data_table['TARGETID']==targetid_sdr12q).all()"
   ]
  },
  {
   "cell_type": "code",
   "execution_count": null,
   "metadata": {},
   "outputs": [],
   "source": [
    "plate,mjd,fiber = targetid2platemjdfiber(rr_data_table['TARGETID'])\n",
    "platemjdfiber = list(zip(plate,mjd,fiber))"
   ]
  },
  {
   "cell_type": "code",
   "execution_count": null,
   "metadata": {},
   "outputs": [],
   "source": [
    "rr_thing_id_dr12 = [pmf2tid_dr12[pmf] for pmf in platemjdfiber]"
   ]
  },
  {
   "cell_type": "code",
   "execution_count": null,
   "metadata": {},
   "outputs": [],
   "source": [
    "rr_data_table.add_column(Column(data=rr_thing_id_dr12,name='THING_ID_DR12',dtype='i8'))"
   ]
  },
  {
   "cell_type": "code",
   "execution_count": null,
   "metadata": {},
   "outputs": [],
   "source": [
    "rr_data_table.write('../results/rr_results/rr_sdr12q.fits',overwrite=True)"
   ]
  },
  {
   "cell_type": "markdown",
   "metadata": {},
   "source": [
    "#### Open the qnAll file(s) we want, stitch them together and save."
   ]
  },
  {
   "cell_type": "code",
   "execution_count": 11,
   "metadata": {},
   "outputs": [],
   "source": [
    "fi_qn_loc = '/global/cfs/projectdirs/desi/users/jfarr/QuasarNET_paper/outputs/qn_outputs/main_setup/coadd/prop_0.9/*/' #'../results/qn_results//'\n",
    "fi_qn_form = 'qnAll-*.fits'\n",
    "fi_out = '/global/cfs/projectdirs/desi/users/jfarr/QuasarNET_paper/results/qn_results/qn_90pc.fits'"
   ]
  },
  {
   "cell_type": "code",
   "execution_count": 14,
   "metadata": {},
   "outputs": [
    {
     "data": {
      "text/html": [
       "<i>Table length=5</i>\n",
       "<table id=\"table46913462588176\" class=\"table-striped table-bordered table-condensed\">\n",
       "<thead><tr><th>THING_ID</th><th>PLATE</th><th>MJD</th><th>FIBERID</th><th>ZBEST</th><th>IS_QSO</th><th>IN_TRAIN</th><th>C_LINES [6]</th><th>Z_LINES [6]</th><th>C_LINES_BAL</th><th>Z_LINES_BAL</th></tr></thead>\n",
       "<thead><tr><th>int64</th><th>int32</th><th>int32</th><th>int32</th><th>float64</th><th>int64</th><th>int64</th><th>float64</th><th>float64</th><th>float64</th><th>float64</th></tr></thead>\n",
       "<tr><td>75645044</td><td>3586</td><td>55181</td><td>94</td><td>0.03438697334060503</td><td>0</td><td>0</td><td>9.236180709137898e-09 .. 2.997612824628959e-08</td><td>5.229686061198764 .. 0.0645242781886215</td><td>2.3029909090865885e-09</td><td>5.059129978502454</td></tr>\n",
       "<tr><td>75654656</td><td>3586</td><td>55181</td><td>328</td><td>1.1547881733829612</td><td>0</td><td>0</td><td>1.7200638691150516e-09 .. 4.243716933416408e-09</td><td>5.122584841247069 .. 0.4471074269606008</td><td>2.0522164523306685e-10</td><td>1.4879582215523732</td></tr>\n",
       "<tr><td>75655237</td><td>3586</td><td>55181</td><td>336</td><td>1.2544228782552311</td><td>0</td><td>0</td><td>1.4530247227639848e-08 .. 9.43041023049318e-09</td><td>5.228281620573413 .. 0.2657132770586015</td><td>2.5691770932922964e-09</td><td>4.9762866686790215</td></tr>\n",
       "<tr><td>94837481</td><td>3586</td><td>55181</td><td>474</td><td>0.06885357430845818</td><td>0</td><td>0</td><td>4.521992735817548e-08 .. 3.0031500841687375e-07</td><td>6.483180481150142 .. 0.06885357430845818</td><td>3.4879928278996886e-08</td><td>4.705065236933109</td></tr>\n",
       "<tr><td>104298275</td><td>3586</td><td>55181</td><td>514</td><td>1.1147070520447784</td><td>1</td><td>0</td><td>6.152326363917382e-07 .. 2.2670180044315202e-07</td><td>3.870490431544831 .. 0.2189555830022516</td><td>2.0958692914518906e-07</td><td>4.35003890588716</td></tr>\n",
       "</table>"
      ],
      "text/plain": [
       "<Table length=5>\n",
       " THING_ID PLATE  MJD  ...      C_LINES_BAL          Z_LINES_BAL    \n",
       "  int64   int32 int32 ...        float64              float64      \n",
       "--------- ----- ----- ... ---------------------- ------------------\n",
       " 75645044  3586 55181 ... 2.3029909090865885e-09  5.059129978502454\n",
       " 75654656  3586 55181 ... 2.0522164523306685e-10 1.4879582215523732\n",
       " 75655237  3586 55181 ... 2.5691770932922964e-09 4.9762866686790215\n",
       " 94837481  3586 55181 ... 3.4879928278996886e-08  4.705065236933109\n",
       "104298275  3586 55181 ... 2.0958692914518906e-07   4.35003890588716"
      ]
     },
     "execution_count": 14,
     "metadata": {},
     "output_type": "execute_result"
    }
   ],
   "source": [
    "import glob\n",
    "fi_qn = glob.glob(fi_qn_loc+fi_qn_form)\n",
    "data = []\n",
    "for f_qn in fi_qn:\n",
    "    qn = fits.open(f_qn)\n",
    "    targetid_qn = platemjdfiber2targetid(qn[1].data['PLATE'].astype('i8'),qn[1].data['MJD'].astype('i8'),qn[1].data['FIBERID'].astype('i8'))\n",
    "    w = (~(qn[1].data['IN_TRAIN'].astype('bool')))\n",
    "    f_data = np.array(qn[1].data[w])\n",
    "    data.append(f_data)\n",
    "data = np.concatenate(data)\n",
    "table = Table(data)\n",
    "table[:5]"
   ]
  },
  {
   "cell_type": "code",
   "execution_count": 15,
   "metadata": {},
   "outputs": [],
   "source": [
    "table_unique = unique(table, keys=['PLATE', 'MJD', 'FIBERID'])\n",
    "bintable = fits.BinTableHDU(table_unique)\n",
    "prihdr = fits.Header()\n",
    "prihdu = fits.PrimaryHDU(header=prihdr)\n",
    "hdulist = fits.HDUList([prihdu, bintable])\n",
    "hdulist.writeto(fi_out,overwrite=True)\n",
    "hdulist.close()"
   ]
  },
  {
   "cell_type": "markdown",
   "metadata": {
    "jupyter": {
     "outputs_hidden": true
    }
   },
   "source": [
    "### Make a directory structure with targetids in\n",
    "For each (plate,mjd) pair, make a directory targetids/{plate}/, and create a file within it targetids-plate-mjd.txt"
   ]
  },
  {
   "cell_type": "code",
   "execution_count": null,
   "metadata": {},
   "outputs": [],
   "source": [
    "## Get all spectra for objects in DR12Q supserset\n",
    "w = np.in1d(spall_dr12[1].data['THING_ID'],sdr12q[1].data['THING_ID'])\n",
    "w &= (spall_dr12[1].data['THING_ID']!=-1)"
   ]
  },
  {
   "cell_type": "code",
   "execution_count": null,
   "metadata": {},
   "outputs": [],
   "source": [
    "## Get the set of (plate,mjd) pairs that cover these spectra\n",
    "plate = spall_dr12[1].data['PLATE'][w].astype('i8')\n",
    "mjd = spall_dr12[1].data['MJD'][w].astype('i8')\n",
    "fiberid = spall_dr12[1].data['FIBERID'][w].astype('i8')\n",
    "\n",
    "pm_set = set([(p,m) for p,m in zip(plate,mjd)])\n",
    "print(len(pm_set))"
   ]
  },
  {
   "cell_type": "code",
   "execution_count": null,
   "metadata": {},
   "outputs": [],
   "source": [
    "## Get the list of targetids for these spectra\n",
    "targetids = platemjdfiber2targetid(plate,mjd,fiberid)"
   ]
  },
  {
   "cell_type": "code",
   "execution_count": null,
   "metadata": {},
   "outputs": [],
   "source": [
    "outpath = '/global/cfs/projectdirs/desi/users/jfarr/rrboss_dr12/'\n",
    "for i,(p,m) in enumerate(pm_set):\n",
    "    w = ((np.array(list(zip(plate,mjd)))==(p,m)).all(axis=1))\n",
    "    pm_targetids = targetids[w]\n",
    "    dirname = outpath+'/targetids/{}'.format(p)\n",
    "    if not os.path.isdir(dirname):\n",
    "        os.mkdir(dirname)\n",
    "    with open(dirname+'/targetids-{}-{}.txt'.format(p,m),'w') as text_file:\n",
    "        for t in pm_targetids[:-1]:\n",
    "            text_file.write('{},'.format(t))\n",
    "        text_file.write('{}'.format(pm_targetids[-1]))\n",
    "    print('{:.2%}'.format((i+1)/len(pm_set)),end='\\r')"
   ]
  },
  {
   "cell_type": "markdown",
   "metadata": {},
   "source": [
    "### Combine multiple outputs from SQUEzE, removing duplicates."
   ]
  },
  {
   "cell_type": "code",
   "execution_count": null,
   "metadata": {},
   "outputs": [],
   "source": [
    "fi_sq = glob.glob('/project/projectdirs/desi/users/iprafols/SQUEzE/Mini-SV/68002/squeze-bossmodel-*-00055626.fits.gz')\n",
    "out_filename = '../sq_results/sq_00055626.fits'"
   ]
  },
  {
   "cell_type": "code",
   "execution_count": null,
   "metadata": {},
   "outputs": [],
   "source": [
    "#f_sq = '/project/projectdirs/desi/users/jfarr/quasar_classifier_hack/Superset_DR12Q_SQUEzE.fits.gz'\n",
    "f_sq = '/project/projectdirs/desi/users/iprafols/lya_working_group/QSO_classifiers/Superset_DR12Q_SQUEzE_v2.fits'\n",
    "sq = fits.open(f_sq)\n",
    "w = (~sq[1].data['duplicated'])\n",
    "data = sq[1].data[w]\n",
    "table = Table(data)\n",
    "table[:5]"
   ]
  },
  {
   "cell_type": "code",
   "execution_count": null,
   "metadata": {},
   "outputs": [],
   "source": [
    "prihdr = fits.Header()\n",
    "prihdu = fits.PrimaryHDU(header=prihdr)\n",
    "table = fits.BinTableHDU(table)\n",
    "hdulist = fits.HDUList([prihdu, table])\n",
    "hdulist.writeto(out_filename,overwrite=True)\n",
    "hdulist.close()"
   ]
  },
  {
   "cell_type": "markdown",
   "metadata": {},
   "source": [
    "### Read the pipeline classes/redshifts from DR12 spall, and put all results into a simplified file."
   ]
  },
  {
   "cell_type": "code",
   "execution_count": 14,
   "metadata": {},
   "outputs": [
    {
     "data": {
      "text/plain": [
       "627751"
      ]
     },
     "execution_count": 14,
     "metadata": {},
     "output_type": "execute_result"
    }
   ],
   "source": [
    "w = np.in1d(spall_dr12[1].data['THING_ID'],sdr12q[1].data['THING_ID'])\n",
    "w &= (spall_dr12[1].data['THING_ID']!=-1)\n",
    "w.sum()"
   ]
  },
  {
   "cell_type": "code",
   "execution_count": 15,
   "metadata": {},
   "outputs": [],
   "source": [
    "plate = spall_dr12[1].data['PLATE'][w].astype('i8')\n",
    "mjd = spall_dr12[1].data['MJD'][w].astype('i8')\n",
    "fiberid = spall_dr12[1].data['FIBERID'][w].astype('i8')\n",
    "\n",
    "targetid = platemjdfiber2targetid(plate,mjd,fiberid)\n",
    "spectype = spall_dr12[1].data['CLASS'][w]\n",
    "z = spall_dr12[1].data['Z'][w]\n",
    "zwarn = spall_dr12[1].data['ZWARNING'][w]\n",
    "\n",
    "thing_id = [pmf2tid_dr12[(p,m,f)] for p,m,f in zip(plate,mjd,fiberid)]\n",
    "\n",
    "data_list = list(zip(targetid,spectype,z,zwarn,thing_id))\n",
    "dtype = [('TARGETID','i8'),('SPECTYPE','U8'),('Z','f8'),('ZWARN','i8'),('THING_ID_DR12','i8')]\n",
    "\n",
    "data = np.array(data_list,dtype=dtype)"
   ]
  },
  {
   "cell_type": "code",
   "execution_count": 16,
   "metadata": {},
   "outputs": [
    {
     "data": {
      "text/html": [
       "<i>Table length=5</i>\n",
       "<table id=\"table46913255833936\" class=\"table-striped table-bordered table-condensed\">\n",
       "<thead><tr><th>TARGETID</th><th>SPECTYPE</th><th>Z</th><th>ZWARN</th><th>THING_ID_DR12</th></tr></thead>\n",
       "<thead><tr><th>int64</th><th>str8</th><th>float64</th><th>int64</th><th>int64</th></tr></thead>\n",
       "<tr><td>3586551810016</td><td>QSO</td><td>2.2423312664031982</td><td>0</td><td>87897905</td></tr>\n",
       "<tr><td>3586551810018</td><td>QSO</td><td>2.259599208831787</td><td>0</td><td>96906927</td></tr>\n",
       "<tr><td>3586551810020</td><td>QSO</td><td>3.1812267303466797</td><td>0</td><td>96907939</td></tr>\n",
       "<tr><td>3586551810032</td><td>STAR</td><td>-0.0031940187327563763</td><td>4</td><td>87896919</td></tr>\n",
       "<tr><td>3586551810036</td><td>STAR</td><td>-0.00046957170707173645</td><td>0</td><td>87897024</td></tr>\n",
       "</table>"
      ],
      "text/plain": [
       "<Table length=5>\n",
       "   TARGETID   SPECTYPE            Z            ZWARN THING_ID_DR12\n",
       "    int64       str8           float64         int64     int64    \n",
       "------------- -------- ----------------------- ----- -------------\n",
       "3586551810016      QSO      2.2423312664031982     0      87897905\n",
       "3586551810018      QSO       2.259599208831787     0      96906927\n",
       "3586551810020      QSO      3.1812267303466797     0      96907939\n",
       "3586551810032     STAR  -0.0031940187327563763     4      87896919\n",
       "3586551810036     STAR -0.00046957170707173645     0      87897024"
      ]
     },
     "execution_count": 16,
     "metadata": {},
     "output_type": "execute_result"
    }
   ],
   "source": [
    "table = Table(data)\n",
    "table[:5]"
   ]
  },
  {
   "cell_type": "code",
   "execution_count": null,
   "metadata": {},
   "outputs": [],
   "source": [
    "## This assumes that there are always 134 fits per spectrum\n",
    "## This keeps the top 10 best fits (in terms of reduced chi2)\n",
    "nfit = 134\n",
    "nfit_keep = 10\n",
    "\n",
    "pm_set = list(set(zip(plate,mjd)))\n",
    "\n",
    "for p,m in pm_set:\n",
    "    fi = glob.glob('/global/projecta/projectdirs/sdss/data/sdss/dr12/boss/spectro/redux/v5_7_?/{}/v5_7_?/spZall-{}-{}.fits'.format(p,p,m))\n",
    "    if len(fi)==0:\n",
    "        print('WARN: could not find spZall file for plate,mjd={},{}; skipping'.format(p,m))\n",
    "        continue\n",
    "    elif len(fi)>1:\n",
    "        print('WARN: found more than 1 spZall file for plate,mjd={},{}; skipping'.format(p,m))\n",
    "        continue\n",
    "          \n",
    "    ## Open the spZAll\n",
    "    spZall = fits.open(fi[0])\n",
    "    \n",
    "    ## Extract the data and reduce to the targetids we want.\n",
    "    subtable = Table(spZall[1].data)['PLATE','MJD','FIBERID','CLASS','Z','RCHI2','DOF','ZWARNING']\n",
    "    f_targetid = platemjdfiber2targetid(subtable['PLATE'],subtable['MJD'],subtable['FIBERID'])\n",
    "    w = np.in1d(f_targetid,targetid)\n",
    "    subtable = subtable[w]\n",
    "    f_targetid = f_targetid[w]\n",
    "    nspec = len(set(f_targetid))\n",
    "    \n",
    "    assert f_targetid==subtable['TARGETID'].data\n",
    "    \n",
    "    ## Add a column for targetid.\n",
    "    subtable.add_column(Column(data=f_targetid,name='TARGETID',dtype='i8'))\n",
    "    \n",
    "    ## Make arrays with all the data we want in. \n",
    "    assert len(subtable)==nspec*nfit\n",
    "    \n",
    "    spectype_arr = subtable['CLASS'].reshape((nspec,nfit))[:,:nfit_keep]\n",
    "    z_arr = subtable['Z'].reshape((nspec,nfit))[:,:nfit_keep]\n",
    "    rchi2_arr = subtable['RCHI2'].reshape((nspec,nfit))[:,:nfit_keep]\n",
    "    dof_arr = subtable['DOF'].reshape((nspec,nfit))[:,:nfit_keep]\n",
    "    zwarn_arr = subtable['ZWARNING'].reshape((nspec,nfit))[:,:nfit_keep]\n",
    "    chi2_arr = rchi2_arr*dof_arr\n",
    "        \n",
    "    ## Add columns for the extra data.\n",
    "    subtable.add_column(Column(data=spectype_arr,name='FIT_SPECTYPE',dtype=str))\n",
    "    subtable.add_column(Column(data=z_arr,name='FIT_Z',dtype='f8'))\n",
    "    subtable.add_column(Column(data=rchi2_arr,name='FIT_RCHI2',dtype='f8'))\n",
    "    subtable.add_column(Column(data=dof_arr,name='FIT_DOF',dtype='i8'))\n",
    "    subtable.add_column(Column(data=zwarn_arr,name='FIT_ZWARN',dtype='i8'))\n",
    "    subtable.add_column(Column(data=chi2_arr,name='FIT_CHI2',dtype='f8'))"
   ]
  },
  {
   "cell_type": "code",
   "execution_count": null,
   "metadata": {},
   "outputs": [],
   "source": [
    "table.write(variables.OUTDIR+'/dr12pipe_results/dr12pipe_sdr12q.fits',overwrite=True)"
   ]
  },
  {
   "cell_type": "markdown",
   "metadata": {},
   "source": [
    "### Do the same for DR14"
   ]
  },
  {
   "cell_type": "code",
   "execution_count": null,
   "metadata": {},
   "outputs": [],
   "source": [
    "w = np.in1d(spall_dr12[1].data['THING_ID'],sdr12q[1].data['THING_ID'])\n",
    "w &= (spall_dr12[1].data['THING_ID']!=-1)\n",
    "w.sum()"
   ]
  },
  {
   "cell_type": "code",
   "execution_count": null,
   "metadata": {},
   "outputs": [],
   "source": [
    "targetid_sdr12q = platemjdfiber2targetid(spall_dr12[1].data['PLATE'][w],spall_dr12[1].data['MJD'][w],spall_dr12[1].data['FIBERID'][w])\n",
    "targetid_dr14 = platemjdfiber2targetid(spall_dr14[1].data['PLATE'],spall_dr14[1].data['MJD'],spall_dr14[1].data['FIBERID'])\n",
    "w = np.in1d(targetid_dr14,targetid_sdr12q)"
   ]
  },
  {
   "cell_type": "code",
   "execution_count": null,
   "metadata": {},
   "outputs": [],
   "source": [
    "plate = spall_dr14[1].data['PLATE'][w].astype('i8')\n",
    "mjd = spall_dr14[1].data['MJD'][w].astype('i8')\n",
    "fiberid = spall_dr14[1].data['FIBERID'][w].astype('i8')\n",
    "\n",
    "targetid = platemjdfiber2targetid(plate,mjd,fiberid)\n",
    "spectype = spall_dr14[1].data['CLASS'][w]\n",
    "z = spall_dr14[1].data['Z'][w]\n",
    "zwarn = spall_dr14[1].data['ZWARNING'][w]\n",
    "\n",
    "thing_id = [pmf2tid_dr12[(p,m,f)] for p,m,f in zip(plate,mjd,fiberid)]\n",
    "\n",
    "data_list = list(zip(targetid,spectype,z,zwarn,thing_id))\n",
    "dtype = [('TARGETID','i8'),('SPECTYPE','U8'),('Z','f8'),('ZWARN','i8'),('THING_ID_DR12','i8')]\n",
    "\n",
    "data = np.array(data_list,dtype=dtype)"
   ]
  },
  {
   "cell_type": "code",
   "execution_count": null,
   "metadata": {},
   "outputs": [],
   "source": [
    "table.write('../dr14pipe_results/dr14pipe_sdr12q.fits',overwrite=True)"
   ]
  },
  {
   "cell_type": "code",
   "execution_count": null,
   "metadata": {},
   "outputs": [],
   "source": []
  }
 ],
 "metadata": {
  "kernelspec": {
   "display_name": "qnet",
   "language": "python",
   "name": "qnet"
  },
  "language_info": {
   "codemirror_mode": {
    "name": "ipython",
    "version": 3
   },
   "file_extension": ".py",
   "mimetype": "text/x-python",
   "name": "python",
   "nbconvert_exporter": "python",
   "pygments_lexer": "ipython3",
   "version": "3.7.6"
  }
 },
 "nbformat": 4,
 "nbformat_minor": 4
}
