{
 "cells": [
  {
   "cell_type": "markdown",
   "metadata": {},
   "source": [
    "## QuasarNET Performance vs training set size\n",
    "#### Plot to show performance of QuasarNET as a function of the size of the training set\n",
    "xxx"
   ]
  },
  {
   "cell_type": "code",
   "execution_count": 1,
   "metadata": {},
   "outputs": [],
   "source": [
    "import astropy\n",
    "import copy\n",
    "import glob\n",
    "import numpy as np\n",
    "from matplotlib import pyplot as plt\n",
    "%matplotlib inline\n",
    "\n",
    "from quasarnet.io import read_truth\n",
    "from qn_analysis import plot, strategy, utils, variables"
   ]
  },
  {
   "cell_type": "code",
   "execution_count": 2,
   "metadata": {},
   "outputs": [],
   "source": [
    "figsize = (12,6.5)\n",
    "fontsize = 18\n",
    "\n",
    "plt.rc('font', size=fontsize)"
   ]
  },
  {
   "cell_type": "code",
   "execution_count": 3,
   "metadata": {},
   "outputs": [],
   "source": [
    "## General parameters\n",
    "pc_dr12 = 90\n",
    "prop = pc_dr12/100.\n",
    "datatype = 'coadd'\n",
    "\n",
    "## QN parameters\n",
    "n_detect = 1\n",
    "c_th = 0.8\n",
    "include_c_qn = True\n",
    "common_specids = False"
   ]
  },
  {
   "cell_type": "markdown",
   "metadata": {},
   "source": [
    "### Look at histories from different models"
   ]
  },
  {
   "cell_type": "code",
   "execution_count": 4,
   "metadata": {},
   "outputs": [
    {
     "name": "stdout",
     "output_type": "stream",
     "text": [
      "['/global/cfs/projectdirs/desi/users/jfarr/QuasarNET_paper//qn_models/main_setup/coadd/prop_0.9/model_indtest_0_0/qn_train_coadd_indtest_0_0_hist.fits']\n"
     ]
    },
    {
     "ename": "NameError",
     "evalue": "name 'p' is not defined",
     "output_type": "error",
     "traceback": [
      "\u001b[0;31m---------------------------------------------------------------------------\u001b[0m",
      "\u001b[0;31mNameError\u001b[0m                                 Traceback (most recent call last)",
      "\u001b[0;32m<ipython-input-4-5eeaf30bfbd6>\u001b[0m in \u001b[0;36m<module>\u001b[0;34m\u001b[0m\n\u001b[1;32m      8\u001b[0m \u001b[0;34m\u001b[0m\u001b[0m\n\u001b[1;32m      9\u001b[0m     \u001b[0;32mif\u001b[0m \u001b[0mlen\u001b[0m\u001b[0;34m(\u001b[0m\u001b[0mfi_qn\u001b[0m\u001b[0;34m)\u001b[0m\u001b[0;34m>\u001b[0m\u001b[0;36m0\u001b[0m\u001b[0;34m:\u001b[0m\u001b[0;34m\u001b[0m\u001b[0;34m\u001b[0m\u001b[0m\n\u001b[0;32m---> 10\u001b[0;31m         \u001b[0mdata\u001b[0m\u001b[0;34m[\u001b[0m\u001b[0;34m'QN_{} {}'\u001b[0m\u001b[0;34m.\u001b[0m\u001b[0mformat\u001b[0m\u001b[0;34m(\u001b[0m\u001b[0mp\u001b[0m\u001b[0;34m,\u001b[0m\u001b[0mi\u001b[0m\u001b[0;34m)\u001b[0m\u001b[0;34m]\u001b[0m \u001b[0;34m=\u001b[0m \u001b[0mastropy\u001b[0m\u001b[0;34m.\u001b[0m\u001b[0mio\u001b[0m\u001b[0;34m.\u001b[0m\u001b[0mfits\u001b[0m\u001b[0;34m.\u001b[0m\u001b[0mopen\u001b[0m\u001b[0;34m(\u001b[0m\u001b[0mfi_qn\u001b[0m\u001b[0;34m[\u001b[0m\u001b[0;36m0\u001b[0m\u001b[0;34m]\u001b[0m\u001b[0;34m)\u001b[0m\u001b[0;34m\u001b[0m\u001b[0;34m\u001b[0m\u001b[0m\n\u001b[0m\u001b[1;32m     11\u001b[0m     \u001b[0;31m#data['QN_{}'.format(p)] = utils.load_qn_data(f_qn,n_detect=n_detect,c_th=c_th,include_c=include_c_qn)\u001b[0m\u001b[0;34m\u001b[0m\u001b[0;34m\u001b[0m\u001b[0;34m\u001b[0m\u001b[0m\n",
      "\u001b[0;31mNameError\u001b[0m: name 'p' is not defined"
     ]
    }
   ],
   "source": [
    "data = {}\n",
    "\n",
    "for i in range(10):\n",
    "\n",
    "    ## Load the QN using nchunks value.\n",
    "    fi_qn = glob.glob(variables.OUTDIR+'/qn_models/main_setup/{}/prop_{}/*_{}/*hist*.fits'.format(datatype,prop,i))\n",
    "    print(fi_qn)\n",
    "    \n",
    "    if len(fi_qn)>0:\n",
    "        data['QN_{} {}'.format(p,i)] = astropy.io.fits.open(fi_qn[0])\n",
    "    #data['QN_{}'.format(p)] = utils.load_qn_data(f_qn,n_detect=n_detect,c_th=c_th,include_c=include_c_qn)"
   ]
  },
  {
   "cell_type": "code",
   "execution_count": null,
   "metadata": {},
   "outputs": [],
   "source": [
    "filename = '../plots/qn_loss_vs_nepochs_{}.pdf'.format(prop)\n",
    "\n",
    "fig, axs = plt.subplots(1,1,figsize=figsize,squeeze=False)\n",
    "for c in data.keys():\n",
    "    ind = (c.split(' ')[-1])\n",
    "    label = 'model {}'.format(ind)\n",
    "    axs[0,0].plot(np.linspace(1,200,200),data[c][1].data['loss'],label=label)\n",
    "axs[0,0].semilogy()\n",
    "axs[0,0].set_ylabel('loss')\n",
    "axs[0,0].set_xlabel('# epochs')\n",
    "axs[0,0].set_xlim(0,200)\n",
    "axs[0,0].set_ylim(3e-4,6e-1)\n",
    "plt.legend(ncol=2)\n",
    "plt.savefig(filename)\n",
    "plt.show()"
   ]
  },
  {
   "cell_type": "markdown",
   "metadata": {},
   "source": [
    "### Load the results from the different QN models"
   ]
  },
  {
   "cell_type": "code",
   "execution_count": null,
   "metadata": {},
   "outputs": [],
   "source": [
    "f_truth = variables.OUTDIR+'/data/truth/truth_dr12q.fits'\n",
    "truth = read_truth([f_truth])"
   ]
  },
  {
   "cell_type": "code",
   "execution_count": null,
   "metadata": {},
   "outputs": [],
   "source": [
    "data = {}\n",
    "dts = {}\n",
    "\n",
    "for i in range(10):\n",
    "    \n",
    "    if prop>0.5:\n",
    "        stype = 'indtest'\n",
    "    else:\n",
    "        stype = 'indtrain'\n",
    "    ## Load the QN data.\n",
    "    f_qn = variables.OUTDIR+'/outputs/qn_outputs/main_setup/{d}/prop_{p}/model_{s}_0_{i}/qnAll-train_{p}_{d}_0_{i}-test_{d}.fits'.format(d=datatype,p=prop,i=i,s=stype)\n",
    "    data['QN_{} {}'.format(pc_dr12,i)] = utils.load_qn_data(f_qn,n_detect=n_detect,c_th=c_th,include_c=include_c_qn)\n",
    "\n",
    "    #d = {'QN_5 {}'.format(i): data['QN_5 {}'.format(i)]}\n",
    "    #dt = utils.reduce_data_to_table(d,truth,include_c_qn=include_c_qn,common_specids=False)\n",
    "    #dts['QN_5 {}'.format(i)] = dt\n"
   ]
  },
  {
   "cell_type": "markdown",
   "metadata": {},
   "source": [
    "### Find the set of common spectra, and reduce all data to that set\n",
    "This finds which spectra* are common to all datasets, and removes any that are not common. It then matches the data from each classifier to each spectrum, and produces a single data table.\n",
    "\n",
    "\\* using spec_id = plate$\\times$1000000000 + mjd$\\times$10000 + fiber for BOSS, or spec_id = targetid for DESI (to be updated)"
   ]
  },
  {
   "cell_type": "code",
   "execution_count": null,
   "metadata": {},
   "outputs": [],
   "source": [
    "data_table = utils.reduce_data_to_table(data,truth,include_c_qn=include_c_qn,common_specids=common_specids)\n",
    "data_table[:5]"
   ]
  },
  {
   "cell_type": "code",
   "execution_count": null,
   "metadata": {},
   "outputs": [],
   "source": [
    "# Include only objects in the data table that have the highest confidence level, and VI redshift not equal to -1.\n",
    "w = (data_table['ZCONF_PERSON']==2) & (data_table['Z_VI']>-1)\n",
    "data_table = data_table[w]\n",
    "len(data_table)"
   ]
  },
  {
   "cell_type": "markdown",
   "metadata": {},
   "source": [
    "### Compare the performance of the different model/data combos.\n",
    "xxx"
   ]
  },
  {
   "cell_type": "code",
   "execution_count": null,
   "metadata": {},
   "outputs": [],
   "source": [
    "ls = {s: '-' for s in data.keys()}\n",
    "\n",
    "training_set_sizes = {0.9: 563000, 0.8: 500000, 0.5: 313000, 0.2: 125000, 0.1: 63000, 0.05: 31000, 0.025: 116000, 0.01: 6000}"
   ]
  },
  {
   "cell_type": "code",
   "execution_count": null,
   "metadata": {},
   "outputs": [],
   "source": [
    "## Define general parameter values.\n",
    "dv_max = 6000.\n",
    "nspec_sdr12q = 627751\n",
    "\n",
    "# confidence thresholds.\n",
    "c_th_min = 0.0\n",
    "c_th_max = 1.0\n",
    "n_int = 101\n",
    "c_th_values = np.linspace(c_th_min,c_th_max,n_int)"
   ]
  },
  {
   "cell_type": "code",
   "execution_count": null,
   "metadata": {},
   "outputs": [],
   "source": [
    "## Define strategies.\n",
    "strategies = {}\n",
    "\n",
    "for s in data.keys():\n",
    "    print(s)\n",
    "    \n",
    "    #p = float(s.split('_')[-1])/100\n",
    "    p = prop\n",
    "    \n",
    "    #print('making name')\n",
    "    name = 'Model trained on\\n{:.0%} DR12Q Superset\\n'.format(p)\n",
    "    name += r'($\\sim${:,} spectra)'.format(training_set_sizes[p])\n",
    "\n",
    "    #print('filtering')\n",
    "    if type(data_table['ISQSO_{}'.format(s)])==astropy.table.column.MaskedColumn:\n",
    "        filt = (~data_table['ISQSO_{}'.format(s)].data.mask)\n",
    "    else:\n",
    "        filt = np.ones(len(data_table)).astype(bool)\n",
    "    temp_data_table = data_table[filt]\n",
    "    \n",
    "    #print('starting defs')\n",
    "    # QN definitions.\n",
    "    n_detect = 1\n",
    "    strat = strategy.Strategy('qn',cf_kwargs={'qn_name':s})\n",
    "    #print('making preds')\n",
    "    preds = [strat.predict(temp_data_table,filter=None,c_kwargs={'c_th':c_th_value,'n_detect':n_detect}) for c_th_value in c_th_values]\n",
    "    #preds = [strat.predict(dts[s],filter=filt,c_kwargs={'c_th':c_th_value,'n_detect':n_detect}) for c_th_value in c_th_values]\n",
    "    #print('making dict entry')\n",
    "    strategies[s] = {#'isqso': [pred.isqso for pred in preds],\n",
    "                     #'z': [pred.z for pred in preds],\n",
    "                     'predictions': preds,\n",
    "                     'n': name, \n",
    "                     'ls': ls[s]}\n"
   ]
  },
  {
   "cell_type": "code",
   "execution_count": null,
   "metadata": {},
   "outputs": [],
   "source": [
    "strategies_to_plot = {'QN_{}'.format(pc_dr12): {'strategies': [s for s in data.keys() if not ('v0' in s)],\n",
    "                                'ls': '-',\n",
    "                                'n': name,\n",
    "                               },\n",
    "#                      'QN_v0_{}'.format(pc_dr12): {'strategies': [s for s in data.keys() if ('v0' in s)],\n",
    "#                                'ls': '--',\n",
    "#                                'n': name,\n",
    "#                               }\n",
    "                     }"
   ]
  },
  {
   "cell_type": "code",
   "execution_count": null,
   "metadata": {},
   "outputs": [],
   "source": [
    "filename = '../plots/qn_model_variation_individual_{}.pdf'.format(prop)\n",
    "\n",
    "plot.plot_qn_model_compare(data_table,strategies,filename=filename,\n",
    "                           dv_max=dv_max,nydec=2,figsize=(12,12),\n",
    "                           ymin=0.98,ymax=1.,verbose=False,npanel=2,\n",
    "                           norm_dvhist=True,c_th=c_th_values)\n",
    "plt.show()"
   ]
  },
  {
   "cell_type": "code",
   "execution_count": null,
   "metadata": {},
   "outputs": [],
   "source": [
    "filename = '../plots/qn_model_variation_combined_{}.pdf'.format(prop)\n",
    "\n",
    "plot.plot_qn_model_compare(data_table,strategies,filename=filename,\n",
    "                           dv_max=dv_max,nydec=2,figsize=(12,12),\n",
    "                           ymin=0.98,ymax=1.,verbose=True,npanel=2,\n",
    "                           norm_dvhist=True,c_th=c_th_values,show_std=True,\n",
    "                           strategies_to_plot=strategies_to_plot)\n",
    "plt.show()"
   ]
  },
  {
   "cell_type": "code",
   "execution_count": null,
   "metadata": {
    "collapsed": true,
    "jupyter": {
     "outputs_hidden": true
    }
   },
   "outputs": [],
   "source": []
  },
  {
   "cell_type": "code",
   "execution_count": null,
   "metadata": {
    "collapsed": true,
    "jupyter": {
     "outputs_hidden": true
    }
   },
   "outputs": [],
   "source": []
  }
 ],
 "metadata": {
  "kernelspec": {
   "display_name": "qnet",
   "language": "python",
   "name": "qnet"
  },
  "language_info": {
   "codemirror_mode": {
    "name": "ipython",
    "version": 3
   },
   "file_extension": ".py",
   "mimetype": "text/x-python",
   "name": "python",
   "nbconvert_exporter": "python",
   "pygments_lexer": "ipython3",
   "version": "3.7.6"
  }
 },
 "nbformat": 4,
 "nbformat_minor": 4
}
