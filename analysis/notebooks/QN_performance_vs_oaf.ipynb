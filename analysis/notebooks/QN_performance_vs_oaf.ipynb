{
 "cells": [
  {
   "cell_type": "markdown",
   "metadata": {},
   "source": [
    "## QuasarNET Performance vs nchunks\n",
    "#### Plot to show performance of QuasarNET as a function of the number of boxes/chunks\n",
    "xxx"
   ]
  },
  {
   "cell_type": "code",
   "execution_count": 1,
   "metadata": {},
   "outputs": [],
   "source": [
    "import astropy\n",
    "import copy\n",
    "import glob\n",
    "import numpy as np\n",
    "from matplotlib import pyplot as plt\n",
    "%matplotlib inline\n",
    "\n",
    "from quasarnet.io import read_truth\n",
    "from qn_analysis import plot, strategy, utils, variables"
   ]
  },
  {
   "cell_type": "code",
   "execution_count": 2,
   "metadata": {},
   "outputs": [],
   "source": [
    "figsize = (12,6.5)\n",
    "fontsize = 18\n",
    "\n",
    "temp_output_loc = '/global/cfs/projectdirs/desi/users/jfarr/QuasarNET_paper/'\n",
    "\n",
    "plt.rc('font', size=fontsize)"
   ]
  },
  {
   "cell_type": "markdown",
   "metadata": {},
   "source": [
    "### Load the results from the different QN models"
   ]
  },
  {
   "cell_type": "code",
   "execution_count": 3,
   "metadata": {},
   "outputs": [],
   "source": [
    "## QN parameters\n",
    "n_detect = 1\n",
    "c_th = 0.8\n",
    "include_c_qn = True\n",
    "common_specids = True"
   ]
  },
  {
   "cell_type": "code",
   "execution_count": 4,
   "metadata": {},
   "outputs": [],
   "source": [
    "f_truth = variables.OUTDIR+'/data/truth/truth_dr12q.fits'\n",
    "truth = read_truth([f_truth])"
   ]
  },
  {
   "cell_type": "code",
   "execution_count": 6,
   "metadata": {},
   "outputs": [],
   "source": [
    "data = {}\n",
    "\n",
    "for oaf in variables.OFFSET_ACT_FNS:\n",
    "    \n",
    "    # GET RID ONCE MODEL READY\n",
    "    if oaf != 'rescaled_sigmoid':\n",
    "    \n",
    "        ## Load the QN using nchunks value.\n",
    "        f_qn = glob.glob(variables.OUTDIR+'/outputs/qn_outputs/additional_setups/offset_act/{}/qnAll*.fits'.format(oaf))[0]\n",
    "        data['QN_{}'.format(oaf)] = utils.load_qn_data(f_qn,n_detect=n_detect,c_th=c_th,include_c=include_c_qn)"
   ]
  },
  {
   "cell_type": "markdown",
   "metadata": {},
   "source": [
    "### Find the set of common spectra, and reduce all data to that set\n",
    "This finds which spectra* are common to all datasets, and removes any that are not common. It then matches the data from each classifier to each spectrum, and produces a single data table.\n",
    "\n",
    "\\* using spec_id = plate$\\times$1000000000 + mjd$\\times$10000 + fiber for BOSS, or spec_id = targetid for DESI (to be updated)"
   ]
  },
  {
   "cell_type": "code",
   "execution_count": 7,
   "metadata": {},
   "outputs": [
    {
     "data": {
      "text/html": [
       "<i>Table length=5</i>\n",
       "<table id=\"table46913260637456\" class=\"table-striped table-bordered table-condensed\">\n",
       "<thead><tr><th>SPEC_ID</th><th>OBJ_ID</th><th>ZCONF_PERSON</th><th>Z_VI</th><th>CLASS_VI</th><th>ISQSO_VI</th><th>Z_QN_sigmoid</th><th>CLASS_QN_sigmoid</th><th>ISQSO_QN_sigmoid</th><th>C_QN_sigmoid [6]</th><th>Z_QN_linear</th><th>CLASS_QN_linear</th><th>ISQSO_QN_linear</th><th>C_QN_linear [6]</th></tr></thead>\n",
       "<thead><tr><th>int64</th><th>int64</th><th>int64</th><th>float64</th><th>str8</th><th>bool</th><th>float64</th><th>str8</th><th>bool</th><th>float64</th><th>float64</th><th>str8</th><th>bool</th><th>float64</th></tr></thead>\n",
       "<tr><td>7166566020362</td><td>20589337</td><td>2</td><td>1.616</td><td>QSO</td><td>True</td><td>1.622</td><td>QSO</td><td>True</td><td>0.000 .. 0.003</td><td>1.625</td><td>QSO</td><td>True</td><td>0.000 .. 0.000</td></tr>\n",
       "<tr><td>7166566020367</td><td>20603085</td><td>2</td><td>2.070</td><td>QSO</td><td>True</td><td>2.084</td><td>QSO</td><td>True</td><td>1.000 .. 0.000</td><td>2.057</td><td>QSO</td><td>True</td><td>1.000 .. 0.000</td></tr>\n",
       "<tr><td>7169566280047</td><td>20935261</td><td>2</td><td>0.000</td><td>STAR</td><td>False</td><td>3.836</td><td>NONQSO</td><td>False</td><td>0.000 .. 0.000</td><td>2.415</td><td>NONQSO</td><td>False</td><td>0.000 .. 0.000</td></tr>\n",
       "<tr><td>7169566280046</td><td>20935742</td><td>2</td><td>0.000</td><td>STAR</td><td>False</td><td>0.464</td><td>NONQSO</td><td>False</td><td>0.000 .. 0.000</td><td>1.446</td><td>NONQSO</td><td>False</td><td>0.000 .. 0.000</td></tr>\n",
       "<tr><td>7169566280052</td><td>20936956</td><td>2</td><td>0.000</td><td>STAR</td><td>False</td><td>3.015</td><td>NONQSO</td><td>False</td><td>0.000 .. 0.000</td><td>2.102</td><td>NONQSO</td><td>False</td><td>0.000 .. 0.000</td></tr>\n",
       "</table>"
      ],
      "text/plain": [
       "<Table length=5>\n",
       "   SPEC_ID     OBJ_ID  ZCONF_PERSON ... ISQSO_QN_linear C_QN_linear [6]\n",
       "    int64      int64      int64     ...       bool          float64    \n",
       "------------- -------- ------------ ... --------------- ---------------\n",
       "7166566020362 20589337            2 ...            True  0.000 .. 0.000\n",
       "7166566020367 20603085            2 ...            True  1.000 .. 0.000\n",
       "7169566280047 20935261            2 ...           False  0.000 .. 0.000\n",
       "7169566280046 20935742            2 ...           False  0.000 .. 0.000\n",
       "7169566280052 20936956            2 ...           False  0.000 .. 0.000"
      ]
     },
     "execution_count": 7,
     "metadata": {},
     "output_type": "execute_result"
    }
   ],
   "source": [
    "data_table = utils.reduce_data_to_table(data,truth,include_c_qn=include_c_qn,common_specids=False)\n",
    "data_table[:5]"
   ]
  },
  {
   "cell_type": "code",
   "execution_count": 8,
   "metadata": {},
   "outputs": [
    {
     "data": {
      "text/plain": [
       "506016"
      ]
     },
     "execution_count": 8,
     "metadata": {},
     "output_type": "execute_result"
    }
   ],
   "source": [
    "# Include only objects in the data table that have the highest confidence level, and VI redshift not equal to -1.\n",
    "w = (data_table['ZCONF_PERSON']==2) & (data_table['Z_VI']>-1)\n",
    "data_table = data_table[w]\n",
    "len(data_table)"
   ]
  },
  {
   "cell_type": "markdown",
   "metadata": {},
   "source": [
    "### Compare the performance of the different model/data combos.\n",
    "xxx"
   ]
  },
  {
   "cell_type": "code",
   "execution_count": 9,
   "metadata": {},
   "outputs": [],
   "source": [
    "ls = {'QN_rescaled sigmoid': '-',\n",
    "      'QN_sigmoid': '--',\n",
    "      'QN_linear': '-.',\n",
    "     }"
   ]
  },
  {
   "cell_type": "code",
   "execution_count": 10,
   "metadata": {},
   "outputs": [],
   "source": [
    "## Define general parameter values.\n",
    "dv_max = 6000.\n",
    "\n",
    "# confidence thresholds.\n",
    "c_th_min = 0.0\n",
    "c_th_max = 1.0\n",
    "n_int = 100\n",
    "c_th_values = np.linspace(c_th_min,c_th_max,n_int)"
   ]
  },
  {
   "cell_type": "code",
   "execution_count": 12,
   "metadata": {},
   "outputs": [],
   "source": [
    "## Define strategies.\n",
    "strategies = {}\n",
    "\n",
    "for s in data.keys():\n",
    "    \n",
    "    oaf = (s.split('_')[-1])\n",
    "    name = oaf\n",
    "    if type(data_table['ISQSO_{}'.format(s)])==astropy.table.column.MaskedColumn:\n",
    "        filt = (~data_table['ISQSO_{}'.format(s)].data.mask)\n",
    "    else:\n",
    "        filt = np.ones(len(data_table)).astype(bool)\n",
    "    \n",
    "    # QN definitions.\n",
    "    n_detect = 1\n",
    "    strat = strategy.Strategy('qn',cf_kwargs={'qn_name':s})\n",
    "    preds = [strat.predict(data_table,filter=filt,c_kwargs={'c_th':c_th_value,'n_detect':n_detect}) for c_th_value in c_th_values]\n",
    "    strategies[s] = {'isqso': [pred.isqso for pred in preds],\n",
    "                     'z': [pred.z for pred in preds],\n",
    "                     'c_th': c_th_values,\n",
    "                     'n': name, \n",
    "                     'ls': ls[s]}"
   ]
  },
  {
   "cell_type": "code",
   "execution_count": null,
   "metadata": {},
   "outputs": [],
   "source": [
    "filename = '../plots/qn_performance_vs_oaf.pdf'\n",
    "\n",
    "fig, axs = plt.subplots(1,1,figsize=figsize,squeeze=False)\n",
    "\n",
    "\n",
    "plt.show()"
   ]
  },
  {
   "cell_type": "code",
   "execution_count": null,
   "metadata": {},
   "outputs": [],
   "source": []
  }
 ],
 "metadata": {
  "kernelspec": {
   "display_name": "qnet",
   "language": "python",
   "name": "qnet"
  },
  "language_info": {
   "codemirror_mode": {
    "name": "ipython",
    "version": 3
   },
   "file_extension": ".py",
   "mimetype": "text/x-python",
   "name": "python",
   "nbconvert_exporter": "python",
   "pygments_lexer": "ipython3",
   "version": "3.7.6"
  }
 },
 "nbformat": 4,
 "nbformat_minor": 4
}
